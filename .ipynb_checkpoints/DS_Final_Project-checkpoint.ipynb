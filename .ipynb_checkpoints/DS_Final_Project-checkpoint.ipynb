{
 "cells": [
  {
   "cell_type": "code",
   "execution_count": 1,
   "metadata": {},
   "outputs": [],
   "source": [
    "import requests\n",
    "import json"
   ]
  },
  {
   "cell_type": "code",
   "execution_count": 2,
   "metadata": {},
   "outputs": [],
   "source": [
    "key = \"6e12df1cbb8bc312bd7a2e3a9a94a60c\"\n",
    "location = \"10.82302,106.62965\"\n",
    "time = 1262304000 # 01-01-2010\n",
    "step = 86400 # 1 day\n",
    "baseurl = \"https://api.darksky.net/forecast/\" + key + \"/\" + location"
   ]
  },
  {
   "cell_type": "code",
   "execution_count": 3,
   "metadata": {},
   "outputs": [
    {
     "data": {
      "text/plain": [
       "1325376000"
      ]
     },
     "execution_count": 3,
     "metadata": {},
     "output_type": "execute_result"
    }
   ],
   "source": [
    "# weather data list\n",
    "dataset = []\n",
    "# get data for 2 years\n",
    "for day in range(0,730):\n",
    "    url = baseurl + \",\" + str(time) + \"?exclude=hourly,daily,flags\"\n",
    "    r = requests.get(url)\n",
    "    weather_data = json.loads(r.text)\n",
    "    dataset.append(weather_data['currently'])\n",
    "    time += step\n",
    "# saved time 1325376000 = 01/01/2012\n",
    "time"
   ]
  },
  {
   "cell_type": "code",
   "execution_count": 4,
   "metadata": {},
   "outputs": [],
   "source": [
    "# save dataset in json file\n",
    "f = open('weather_dataset.json', 'w') # 'w' = 'a' if wanting to add new weather data\n",
    "json.dump(dataset, f)\n",
    "f.close()"
   ]
  },
  {
   "cell_type": "code",
   "execution_count": 5,
   "metadata": {},
   "outputs": [],
   "source": [
    "# load dataset from json file\n",
    "f = open('weather_dataset.json', 'r')\n",
    "dataset = json.loads(f.read())\n",
    "f.close()"
   ]
  }
 ],
 "metadata": {
  "kernelspec": {
   "display_name": "Python 3",
   "language": "python",
   "name": "python3"
  },
  "language_info": {
   "codemirror_mode": {
    "name": "ipython",
    "version": 3
   },
   "file_extension": ".py",
   "mimetype": "text/x-python",
   "name": "python",
   "nbconvert_exporter": "python",
   "pygments_lexer": "ipython3",
   "version": "3.7.4"
  }
 },
 "nbformat": 4,
 "nbformat_minor": 2
}

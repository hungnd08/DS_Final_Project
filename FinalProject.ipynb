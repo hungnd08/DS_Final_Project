{
 "cells": [
  {
   "cell_type": "markdown",
   "metadata": {},
   "source": [
    "* **Bài toán nhóm cần giải quyết là dự đoán `humidity` của ngày hôm sau dựa vào dữ liệu của các ngày hôm trước**  \n",
    "* **Mô hình nhóm chọn là: `Linear Regression`, `MLPRegressor`**  \n",
    "* **Phương pháp đánh giá nhóm chọn là: `mean_absolute_error`**"
   ]
  },
  {
   "cell_type": "markdown",
   "metadata": {
    "colab_type": "text",
    "id": "OTqcCiE7SHF9"
   },
   "source": [
    "## 1. Import các thư viện cần thiết"
   ]
  },
  {
   "cell_type": "code",
   "execution_count": 1,
   "metadata": {},
   "outputs": [],
   "source": [
    "%matplotlib inline\n",
    "import numpy as np\n",
    "import pandas as pd\n",
    "import matplotlib.pyplot as plt\n",
    "import seaborn as sns\n",
    "from sklearn.model_selection import train_test_split\n",
    "from sklearn import linear_model\n",
    "from sklearn.metrics import mean_absolute_error\n",
    "from sklearn.base import BaseEstimator, TransformerMixin\n",
    "from sklearn.pipeline import Pipeline, make_pipeline\n",
    "from sklearn.compose import ColumnTransformer\n",
    "from sklearn.preprocessing import StandardScaler\n",
    "from sklearn.impute import SimpleImputer\n",
    "from sklearn.linear_model import LinearRegression\n",
    "from sklearn.decomposition import PCA\n",
    "from sklearn.feature_selection import SelectKBest, f_regression\n",
    "from sklearn.ensemble import ExtraTreesClassifier, ExtraTreesRegressor\n",
    "from sklearn.neural_network import MLPRegressor"
   ]
  },
  {
   "cell_type": "markdown",
   "metadata": {
    "colab_type": "text",
    "id": "zJsMcr8wSra6"
   },
   "source": [
    "## 2. Load data"
   ]
  },
  {
   "cell_type": "code",
   "execution_count": 2,
   "metadata": {},
   "outputs": [
    {
     "data": {
      "text/html": [
       "<div>\n",
       "<style scoped>\n",
       "    .dataframe tbody tr th:only-of-type {\n",
       "        vertical-align: middle;\n",
       "    }\n",
       "\n",
       "    .dataframe tbody tr th {\n",
       "        vertical-align: top;\n",
       "    }\n",
       "\n",
       "    .dataframe thead th {\n",
       "        text-align: right;\n",
       "    }\n",
       "</style>\n",
       "<table border=\"1\" class=\"dataframe\">\n",
       "  <thead>\n",
       "    <tr style=\"text-align: right;\">\n",
       "      <th></th>\n",
       "      <th>time</th>\n",
       "      <th>temperature</th>\n",
       "      <th>apparentTemperature</th>\n",
       "      <th>dewPoint</th>\n",
       "      <th>humidity</th>\n",
       "      <th>pressure</th>\n",
       "      <th>windSpeed</th>\n",
       "      <th>windBearing</th>\n",
       "      <th>cloudCover</th>\n",
       "      <th>uvIndex</th>\n",
       "      <th>visibility</th>\n",
       "    </tr>\n",
       "  </thead>\n",
       "  <tbody>\n",
       "    <tr>\n",
       "      <th>0</th>\n",
       "      <td>1262304000</td>\n",
       "      <td>73.45</td>\n",
       "      <td>75.07</td>\n",
       "      <td>72.69</td>\n",
       "      <td>0.97</td>\n",
       "      <td>1010.3</td>\n",
       "      <td>6.72</td>\n",
       "      <td>71.0</td>\n",
       "      <td>0.50</td>\n",
       "      <td>0.0</td>\n",
       "      <td>NaN</td>\n",
       "    </tr>\n",
       "    <tr>\n",
       "      <th>1</th>\n",
       "      <td>1262390400</td>\n",
       "      <td>71.67</td>\n",
       "      <td>72.95</td>\n",
       "      <td>69.81</td>\n",
       "      <td>0.94</td>\n",
       "      <td>1011.0</td>\n",
       "      <td>2.29</td>\n",
       "      <td>41.0</td>\n",
       "      <td>0.44</td>\n",
       "      <td>0.0</td>\n",
       "      <td>4.974</td>\n",
       "    </tr>\n",
       "    <tr>\n",
       "      <th>2</th>\n",
       "      <td>1262476800</td>\n",
       "      <td>75.25</td>\n",
       "      <td>76.89</td>\n",
       "      <td>73.39</td>\n",
       "      <td>0.94</td>\n",
       "      <td>1011.6</td>\n",
       "      <td>1.16</td>\n",
       "      <td>30.0</td>\n",
       "      <td>0.75</td>\n",
       "      <td>0.0</td>\n",
       "      <td>4.346</td>\n",
       "    </tr>\n",
       "    <tr>\n",
       "      <th>3</th>\n",
       "      <td>1262563200</td>\n",
       "      <td>75.25</td>\n",
       "      <td>76.64</td>\n",
       "      <td>71.61</td>\n",
       "      <td>0.88</td>\n",
       "      <td>1010.9</td>\n",
       "      <td>3.46</td>\n",
       "      <td>71.0</td>\n",
       "      <td>0.75</td>\n",
       "      <td>0.0</td>\n",
       "      <td>6.216</td>\n",
       "    </tr>\n",
       "    <tr>\n",
       "      <th>4</th>\n",
       "      <td>1262649600</td>\n",
       "      <td>75.25</td>\n",
       "      <td>76.89</td>\n",
       "      <td>73.39</td>\n",
       "      <td>0.94</td>\n",
       "      <td>1010.1</td>\n",
       "      <td>6.91</td>\n",
       "      <td>120.0</td>\n",
       "      <td>0.44</td>\n",
       "      <td>0.0</td>\n",
       "      <td>6.216</td>\n",
       "    </tr>\n",
       "  </tbody>\n",
       "</table>\n",
       "</div>"
      ],
      "text/plain": [
       "         time  temperature  apparentTemperature  dewPoint  humidity  pressure  \\\n",
       "0  1262304000        73.45                75.07     72.69      0.97    1010.3   \n",
       "1  1262390400        71.67                72.95     69.81      0.94    1011.0   \n",
       "2  1262476800        75.25                76.89     73.39      0.94    1011.6   \n",
       "3  1262563200        75.25                76.64     71.61      0.88    1010.9   \n",
       "4  1262649600        75.25                76.89     73.39      0.94    1010.1   \n",
       "\n",
       "   windSpeed  windBearing  cloudCover  uvIndex  visibility  \n",
       "0       6.72         71.0        0.50      0.0         NaN  \n",
       "1       2.29         41.0        0.44      0.0       4.974  \n",
       "2       1.16         30.0        0.75      0.0       4.346  \n",
       "3       3.46         71.0        0.75      0.0       6.216  \n",
       "4       6.91        120.0        0.44      0.0       6.216  "
      ]
     },
     "execution_count": 2,
     "metadata": {},
     "output_type": "execute_result"
    }
   ],
   "source": [
    "data_df = pd.read_csv('Data/weather.csv')\n",
    "data_df.head()"
   ]
  },
  {
   "cell_type": "code",
   "execution_count": 3,
   "metadata": {},
   "outputs": [
    {
     "data": {
      "image/png": "[encoded data removed]",
      "text/plain": [
       "<Figure size 720x720 with 12 Axes>"
      ]
     },
     "metadata": {},
     "output_type": "display_data"
    }
   ],
   "source": [
    "sns.set()\n",
    "data_df.hist(figsize=(10,10))\n",
    "plt.show()"
   ]
  },
  {
   "cell_type": "markdown",
   "metadata": {},
   "source": [
    "**Visualize cột humidity**"
   ]
  },
  {
   "cell_type": "code",
   "execution_count": 4,
   "metadata": {},
   "outputs": [
    {
     "data": {
      "text/plain": [
       "count    730.000000\n",
       "mean       0.911233\n",
       "std        0.083330\n",
       "min        0.610000\n",
       "25%        0.840000\n",
       "50%        0.940000\n",
       "75%        1.000000\n",
       "max        1.000000\n",
       "Name: humidity, dtype: float64"
      ]
     },
     "execution_count": 4,
     "metadata": {},
     "output_type": "execute_result"
    }
   ],
   "source": [
    "data_df.humidity.describe()"
   ]
  },
  {
   "cell_type": "code",
   "execution_count": 5,
   "metadata": {},
   "outputs": [
    {
     "data": {
      "text/plain": [
       "<matplotlib.axes._subplots.AxesSubplot at 0x7f8efe8aecd0>"
      ]
     },
     "execution_count": 5,
     "metadata": {},
     "output_type": "execute_result"
    },
    {
     "data": {
      "image/png": "[encoded data removed]",
      "text/plain": [
       "<Figure size 432x288 with 1 Axes>"
      ]
     },
     "metadata": {},
     "output_type": "display_data"
    }
   ],
   "source": [
    "sns.distplot(data_df.humidity)"
   ]
  },
  {
   "cell_type": "markdown",
   "metadata": {
    "colab_type": "text",
    "id": "J36xoDeQTVmD"
   },
   "source": [
    "## 3. Tách data thành ba tập train, test và validation với tỉ lệ 6:2:2\n",
    "\n"
   ]
  },
  {
   "cell_type": "code",
   "execution_count": 6,
   "metadata": {},
   "outputs": [
    {
     "data": {
      "text/plain": [
       "1      0.94\n",
       "2      0.94\n",
       "3      0.88\n",
       "4      0.94\n",
       "5      0.88\n",
       "       ... \n",
       "725    0.94\n",
       "726    1.00\n",
       "727    0.83\n",
       "728    0.88\n",
       "729    0.94\n",
       "Name: humidity, Length: 729, dtype: float64"
      ]
     },
     "execution_count": 6,
     "metadata": {},
     "output_type": "execute_result"
    }
   ],
   "source": [
    "# Lấy output và chỉ lấy 729 phần tử sau\n",
    "y_data = data_df[\"humidity\"].copy()\n",
    "y_data = y_data[1:]\n",
    "y_data"
   ]
  },
  {
   "cell_type": "code",
   "execution_count": 7,
   "metadata": {},
   "outputs": [
    {
     "data": {
      "text/html": [
       "<div>\n",
       "<style scoped>\n",
       "    .dataframe tbody tr th:only-of-type {\n",
       "        vertical-align: middle;\n",
       "    }\n",
       "\n",
       "    .dataframe tbody tr th {\n",
       "        vertical-align: top;\n",
       "    }\n",
       "\n",
       "    .dataframe thead th {\n",
       "        text-align: right;\n",
       "    }\n",
       "</style>\n",
       "<table border=\"1\" class=\"dataframe\">\n",
       "  <thead>\n",
       "    <tr style=\"text-align: right;\">\n",
       "      <th></th>\n",
       "      <th>time</th>\n",
       "      <th>temperature</th>\n",
       "      <th>apparentTemperature</th>\n",
       "      <th>dewPoint</th>\n",
       "      <th>humidity</th>\n",
       "      <th>pressure</th>\n",
       "      <th>windSpeed</th>\n",
       "      <th>windBearing</th>\n",
       "      <th>cloudCover</th>\n",
       "      <th>uvIndex</th>\n",
       "      <th>visibility</th>\n",
       "    </tr>\n",
       "  </thead>\n",
       "  <tbody>\n",
       "    <tr>\n",
       "      <th>0</th>\n",
       "      <td>1262304000</td>\n",
       "      <td>73.45</td>\n",
       "      <td>75.07</td>\n",
       "      <td>72.69</td>\n",
       "      <td>0.97</td>\n",
       "      <td>1010.3</td>\n",
       "      <td>6.72</td>\n",
       "      <td>71.0</td>\n",
       "      <td>0.50</td>\n",
       "      <td>0.0</td>\n",
       "      <td>NaN</td>\n",
       "    </tr>\n",
       "    <tr>\n",
       "      <th>1</th>\n",
       "      <td>1262390400</td>\n",
       "      <td>71.67</td>\n",
       "      <td>72.95</td>\n",
       "      <td>69.81</td>\n",
       "      <td>0.94</td>\n",
       "      <td>1011.0</td>\n",
       "      <td>2.29</td>\n",
       "      <td>41.0</td>\n",
       "      <td>0.44</td>\n",
       "      <td>0.0</td>\n",
       "      <td>4.974</td>\n",
       "    </tr>\n",
       "    <tr>\n",
       "      <th>2</th>\n",
       "      <td>1262476800</td>\n",
       "      <td>75.25</td>\n",
       "      <td>76.89</td>\n",
       "      <td>73.39</td>\n",
       "      <td>0.94</td>\n",
       "      <td>1011.6</td>\n",
       "      <td>1.16</td>\n",
       "      <td>30.0</td>\n",
       "      <td>0.75</td>\n",
       "      <td>0.0</td>\n",
       "      <td>4.346</td>\n",
       "    </tr>\n",
       "    <tr>\n",
       "      <th>3</th>\n",
       "      <td>1262563200</td>\n",
       "      <td>75.25</td>\n",
       "      <td>76.64</td>\n",
       "      <td>71.61</td>\n",
       "      <td>0.88</td>\n",
       "      <td>1010.9</td>\n",
       "      <td>3.46</td>\n",
       "      <td>71.0</td>\n",
       "      <td>0.75</td>\n",
       "      <td>0.0</td>\n",
       "      <td>6.216</td>\n",
       "    </tr>\n",
       "    <tr>\n",
       "      <th>4</th>\n",
       "      <td>1262649600</td>\n",
       "      <td>75.25</td>\n",
       "      <td>76.89</td>\n",
       "      <td>73.39</td>\n",
       "      <td>0.94</td>\n",
       "      <td>1010.1</td>\n",
       "      <td>6.91</td>\n",
       "      <td>120.0</td>\n",
       "      <td>0.44</td>\n",
       "      <td>0.0</td>\n",
       "      <td>6.216</td>\n",
       "    </tr>\n",
       "  </tbody>\n",
       "</table>\n",
       "</div>"
      ],
      "text/plain": [
       "         time  temperature  apparentTemperature  dewPoint  humidity  pressure  \\\n",
       "0  1262304000        73.45                75.07     72.69      0.97    1010.3   \n",
       "1  1262390400        71.67                72.95     69.81      0.94    1011.0   \n",
       "2  1262476800        75.25                76.89     73.39      0.94    1011.6   \n",
       "3  1262563200        75.25                76.64     71.61      0.88    1010.9   \n",
       "4  1262649600        75.25                76.89     73.39      0.94    1010.1   \n",
       "\n",
       "   windSpeed  windBearing  cloudCover  uvIndex  visibility  \n",
       "0       6.72         71.0        0.50      0.0         NaN  \n",
       "1       2.29         41.0        0.44      0.0       4.974  \n",
       "2       1.16         30.0        0.75      0.0       4.346  \n",
       "3       3.46         71.0        0.75      0.0       6.216  \n",
       "4       6.91        120.0        0.44      0.0       6.216  "
      ]
     },
     "execution_count": 7,
     "metadata": {},
     "output_type": "execute_result"
    }
   ],
   "source": [
    "# Xóa dòng cuối cùng trong data_df vì dòng này không có output\n",
    "X_data = data_df.drop(index=729).copy()\n",
    "X_data.head()"
   ]
  },
  {
   "cell_type": "code",
   "execution_count": 8,
   "metadata": {},
   "outputs": [
    {
     "name": "stdout",
     "output_type": "stream",
     "text": [
      "437 437\n",
      "146 146\n",
      "146 146\n"
     ]
    }
   ],
   "source": [
    "# Tách dữ liệu thành 3 tập train : test : validation = 6:2:2\n",
    "X_data_temp, X_data_val, y_data_temp, y_data_val = train_test_split(X_data, y_data, test_size=0.2, random_state=0)\n",
    "X_data_train, X_data_test, y_data_train, y_data_test = train_test_split(X_data_temp, y_data_temp, test_size=0.25, random_state=0)\n",
    "print(len(X_data_train), len(y_data_train))\n",
    "print(len(X_data_val), len(y_data_val))\n",
    "print(len(X_data_test), len(y_data_test))"
   ]
  },
  {
   "cell_type": "markdown",
   "metadata": {},
   "source": [
    "## 4. Tiền xử lý dữ liệu"
   ]
  },
  {
   "cell_type": "code",
   "execution_count": 9,
   "metadata": {},
   "outputs": [
    {
     "data": {
      "image/png": "[encoded data removed]",
      "text/plain": [
       "<Figure size 720x720 with 12 Axes>"
      ]
     },
     "metadata": {},
     "output_type": "display_data"
    }
   ],
   "source": [
    "sns.set()\n",
    "X_data_train.hist(figsize=(10,10))\n",
    "plt.show()"
   ]
  },
  {
   "cell_type": "code",
   "execution_count": 10,
   "metadata": {},
   "outputs": [],
   "source": [
    "train_dummy = X_data_train.copy()"
   ]
  },
  {
   "cell_type": "markdown",
   "metadata": {},
   "source": [
    "### a. Humidity"
   ]
  },
  {
   "cell_type": "code",
   "execution_count": 11,
   "metadata": {},
   "outputs": [
    {
     "data": {
      "text/plain": [
       "<matplotlib.axes._subplots.AxesSubplot at 0x7f8efe3f3e50>"
      ]
     },
     "execution_count": 11,
     "metadata": {},
     "output_type": "execute_result"
    },
    {
     "data": {
      "image/png": "[encoded data removed]",
      "text/plain": [
       "<Figure size 432x288 with 1 Axes>"
      ]
     },
     "metadata": {},
     "output_type": "display_data"
    }
   ],
   "source": [
    "train_dummy.humidity.hist()"
   ]
  },
  {
   "cell_type": "code",
   "execution_count": 12,
   "metadata": {},
   "outputs": [
    {
     "data": {
      "text/plain": [
       "1.00    137\n",
       "0.98      1\n",
       "0.97      1\n",
       "0.94     94\n",
       "0.92      1\n",
       "0.89     48\n",
       "0.88     31\n",
       "0.87      1\n",
       "0.85      1\n",
       "0.84     28\n",
       "0.83     26\n",
       "0.82      1\n",
       "0.79     20\n",
       "0.78     18\n",
       "0.77      2\n",
       "0.74     16\n",
       "0.73      3\n",
       "0.70      2\n",
       "0.69      3\n",
       "0.65      2\n",
       "0.61      1\n",
       "Name: humidity, dtype: int64"
      ]
     },
     "execution_count": 12,
     "metadata": {},
     "output_type": "execute_result"
    }
   ],
   "source": [
    "train_dummy.humidity.value_counts().sort_index(ascending=False)"
   ]
  },
  {
   "cell_type": "code",
   "execution_count": 13,
   "metadata": {},
   "outputs": [
    {
     "name": "stdout",
     "output_type": "stream",
     "text": [
      "0.9996402877697841\n",
      "0.9397894736842101\n",
      "0.8413333333333333\n",
      "0.7914285714285713\n",
      "0.7224137931034481\n"
     ]
    }
   ],
   "source": [
    "# Dữ liệu có nhiễu, ta tiến hành gom các nhóm gần nhau và lấy trung bình\n",
    "hum_mean_1 = train_dummy[train_dummy[\"humidity\"] >= 0.97].describe().loc[\"mean\", \"humidity\"]\n",
    "print(hum_mean_1)\n",
    "hum_mean_2 = train_dummy[(train_dummy[\"humidity\"] >= 0.92) & (train_dummy[\"humidity\"] <= 0.94)].describe().loc[\"mean\", \"humidity\"]\n",
    "print(hum_mean_2)\n",
    "hum_mean_3 = train_dummy[(train_dummy[\"humidity\"] >= 0.84) & (train_dummy[\"humidity\"] <= 0.87)].describe().loc[\"mean\", \"humidity\"]\n",
    "print(hum_mean_3)\n",
    "hum_mean_4 = train_dummy[(train_dummy[\"humidity\"] >= 0.79) & (train_dummy[\"humidity\"] < 0.83)].describe().loc[\"mean\", \"humidity\"]\n",
    "print(hum_mean_4)\n",
    "hum_mean_5 = train_dummy[(train_dummy[\"humidity\"] >= 0.61) & (train_dummy[\"humidity\"] <= 0.77)].describe().loc[\"mean\", \"humidity\"]\n",
    "print(hum_mean_5)"
   ]
  },
  {
   "cell_type": "code",
   "execution_count": 14,
   "metadata": {},
   "outputs": [],
   "source": [
    "train_dummy.loc[:,\"humidity\"] = train_dummy[\"humidity\"].apply(lambda x: 1 if x >= 0.97 else x)\n",
    "train_dummy.loc[:,\"humidity\"] = train_dummy[\"humidity\"].apply(lambda x: 0.94 if x >= 0.92 and x <= 0.94 else x)\n",
    "train_dummy.loc[:,\"humidity\"] = train_dummy[\"humidity\"].apply(lambda x: 0.84 if x >= 0.84  and x <= 0.87 else x)\n",
    "train_dummy.loc[:,\"humidity\"] = train_dummy[\"humidity\"].apply(lambda x: 0.79 if x >= 0.79 and x < 0.83 else x)\n",
    "train_dummy.loc[:,\"humidity\"] = train_dummy[\"humidity\"].apply(lambda x: 0.72 if x <= 0.77 else x)"
   ]
  },
  {
   "cell_type": "code",
   "execution_count": 15,
   "metadata": {},
   "outputs": [
    {
     "data": {
      "text/plain": [
       "<matplotlib.axes._subplots.AxesSubplot at 0x7f8efe1fb090>"
      ]
     },
     "execution_count": 15,
     "metadata": {},
     "output_type": "execute_result"
    },
    {
     "data": {
      "image/png": "[encoded data removed]",
      "text/plain": [
       "<Figure size 432x288 with 1 Axes>"
      ]
     },
     "metadata": {},
     "output_type": "display_data"
    }
   ],
   "source": [
    "train_dummy.humidity.hist()"
   ]
  },
  {
   "cell_type": "markdown",
   "metadata": {},
   "source": [
    "### b. Apparent Temperature"
   ]
  },
  {
   "cell_type": "code",
   "execution_count": 16,
   "metadata": {},
   "outputs": [
    {
     "data": {
      "text/plain": [
       "77.17    44\n",
       "83.38    32\n",
       "75.18    27\n",
       "79.15    24\n",
       "89.44    23\n",
       "         ..\n",
       "87.66     1\n",
       "74.57     1\n",
       "84.91     1\n",
       "73.53     1\n",
       "95.14     1\n",
       "Name: apparentTemperature, Length: 72, dtype: int64"
      ]
     },
     "execution_count": 16,
     "metadata": {},
     "output_type": "execute_result"
    }
   ],
   "source": [
    "train_dummy.apparentTemperature.value_counts()"
   ]
  },
  {
   "cell_type": "code",
   "execution_count": 17,
   "metadata": {},
   "outputs": [
    {
     "data": {
      "text/plain": [
       "<matplotlib.axes._subplots.AxesSubplot at 0x7f8efe1a8350>"
      ]
     },
     "execution_count": 17,
     "metadata": {},
     "output_type": "execute_result"
    },
    {
     "data": {
      "image/png": "[encoded data removed]",
      "text/plain": [
       "<Figure size 432x288 with 1 Axes>"
      ]
     },
     "metadata": {},
     "output_type": "display_data"
    }
   ],
   "source": [
    "# Value count nhiều nên ta dựa vào hist\n",
    "X_data_train.apparentTemperature.hist()"
   ]
  },
  {
   "cell_type": "code",
   "execution_count": 18,
   "metadata": {},
   "outputs": [
    {
     "data": {
      "text/html": [
       "<div>\n",
       "<style scoped>\n",
       "    .dataframe tbody tr th:only-of-type {\n",
       "        vertical-align: middle;\n",
       "    }\n",
       "\n",
       "    .dataframe tbody tr th {\n",
       "        vertical-align: top;\n",
       "    }\n",
       "\n",
       "    .dataframe thead th {\n",
       "        text-align: right;\n",
       "    }\n",
       "</style>\n",
       "<table border=\"1\" class=\"dataframe\">\n",
       "  <thead>\n",
       "    <tr style=\"text-align: right;\">\n",
       "      <th></th>\n",
       "      <th>time</th>\n",
       "      <th>temperature</th>\n",
       "      <th>apparentTemperature</th>\n",
       "      <th>dewPoint</th>\n",
       "      <th>humidity</th>\n",
       "      <th>pressure</th>\n",
       "      <th>windSpeed</th>\n",
       "      <th>windBearing</th>\n",
       "      <th>cloudCover</th>\n",
       "      <th>uvIndex</th>\n",
       "      <th>visibility</th>\n",
       "    </tr>\n",
       "  </thead>\n",
       "  <tbody>\n",
       "    <tr>\n",
       "      <th>count</th>\n",
       "      <td>3.200000e+01</td>\n",
       "      <td>32.000000</td>\n",
       "      <td>32.000000</td>\n",
       "      <td>32.000000</td>\n",
       "      <td>32.000000</td>\n",
       "      <td>32.000000</td>\n",
       "      <td>32.000000</td>\n",
       "      <td>29.000000</td>\n",
       "      <td>32.000000</td>\n",
       "      <td>32.0</td>\n",
       "      <td>30.000000</td>\n",
       "    </tr>\n",
       "    <tr>\n",
       "      <th>mean</th>\n",
       "      <td>1.280170e+09</td>\n",
       "      <td>83.417500</td>\n",
       "      <td>93.763125</td>\n",
       "      <td>77.930000</td>\n",
       "      <td>0.835938</td>\n",
       "      <td>1008.709375</td>\n",
       "      <td>7.577187</td>\n",
       "      <td>137.379310</td>\n",
       "      <td>0.396562</td>\n",
       "      <td>1.0</td>\n",
       "      <td>5.822067</td>\n",
       "    </tr>\n",
       "    <tr>\n",
       "      <th>std</th>\n",
       "      <td>1.252743e+07</td>\n",
       "      <td>1.201188</td>\n",
       "      <td>2.222844</td>\n",
       "      <td>1.570358</td>\n",
       "      <td>0.071881</td>\n",
       "      <td>1.319912</td>\n",
       "      <td>4.715654</td>\n",
       "      <td>67.526404</td>\n",
       "      <td>0.175859</td>\n",
       "      <td>0.0</td>\n",
       "      <td>0.999502</td>\n",
       "    </tr>\n",
       "    <tr>\n",
       "      <th>min</th>\n",
       "      <td>1.271894e+09</td>\n",
       "      <td>80.650000</td>\n",
       "      <td>91.010000</td>\n",
       "      <td>75.190000</td>\n",
       "      <td>0.720000</td>\n",
       "      <td>1006.600000</td>\n",
       "      <td>2.240000</td>\n",
       "      <td>30.000000</td>\n",
       "      <td>0.190000</td>\n",
       "      <td>1.0</td>\n",
       "      <td>1.244000</td>\n",
       "    </tr>\n",
       "    <tr>\n",
       "      <th>25%</th>\n",
       "      <td>1.273601e+09</td>\n",
       "      <td>82.480000</td>\n",
       "      <td>92.202500</td>\n",
       "      <td>76.990000</td>\n",
       "      <td>0.790000</td>\n",
       "      <td>1007.800000</td>\n",
       "      <td>3.460000</td>\n",
       "      <td>101.000000</td>\n",
       "      <td>0.190000</td>\n",
       "      <td>1.0</td>\n",
       "      <td>6.216000</td>\n",
       "    </tr>\n",
       "    <tr>\n",
       "      <th>50%</th>\n",
       "      <td>1.274270e+09</td>\n",
       "      <td>84.270000</td>\n",
       "      <td>92.930000</td>\n",
       "      <td>77.900000</td>\n",
       "      <td>0.840000</td>\n",
       "      <td>1008.500000</td>\n",
       "      <td>6.910000</td>\n",
       "      <td>110.000000</td>\n",
       "      <td>0.440000</td>\n",
       "      <td>1.0</td>\n",
       "      <td>6.216000</td>\n",
       "    </tr>\n",
       "    <tr>\n",
       "      <th>75%</th>\n",
       "      <td>1.275934e+09</td>\n",
       "      <td>84.270000</td>\n",
       "      <td>96.260000</td>\n",
       "      <td>78.810000</td>\n",
       "      <td>0.890000</td>\n",
       "      <td>1009.625000</td>\n",
       "      <td>9.495000</td>\n",
       "      <td>200.000000</td>\n",
       "      <td>0.440000</td>\n",
       "      <td>1.0</td>\n",
       "      <td>6.216000</td>\n",
       "    </tr>\n",
       "    <tr>\n",
       "      <th>max</th>\n",
       "      <td>1.307146e+09</td>\n",
       "      <td>86.060000</td>\n",
       "      <td>98.630000</td>\n",
       "      <td>80.580000</td>\n",
       "      <td>1.000000</td>\n",
       "      <td>1012.300000</td>\n",
       "      <td>22.380000</td>\n",
       "      <td>251.000000</td>\n",
       "      <td>0.750000</td>\n",
       "      <td>1.0</td>\n",
       "      <td>6.216000</td>\n",
       "    </tr>\n",
       "  </tbody>\n",
       "</table>\n",
       "</div>"
      ],
      "text/plain": [
       "               time  temperature  apparentTemperature   dewPoint   humidity  \\\n",
       "count  3.200000e+01    32.000000            32.000000  32.000000  32.000000   \n",
       "mean   1.280170e+09    83.417500            93.763125  77.930000   0.835938   \n",
       "std    1.252743e+07     1.201188             2.222844   1.570358   0.071881   \n",
       "min    1.271894e+09    80.650000            91.010000  75.190000   0.720000   \n",
       "25%    1.273601e+09    82.480000            92.202500  76.990000   0.790000   \n",
       "50%    1.274270e+09    84.270000            92.930000  77.900000   0.840000   \n",
       "75%    1.275934e+09    84.270000            96.260000  78.810000   0.890000   \n",
       "max    1.307146e+09    86.060000            98.630000  80.580000   1.000000   \n",
       "\n",
       "          pressure  windSpeed  windBearing  cloudCover  uvIndex  visibility  \n",
       "count    32.000000  32.000000    29.000000   32.000000     32.0   30.000000  \n",
       "mean   1008.709375   7.577187   137.379310    0.396562      1.0    5.822067  \n",
       "std       1.319912   4.715654    67.526404    0.175859      0.0    0.999502  \n",
       "min    1006.600000   2.240000    30.000000    0.190000      1.0    1.244000  \n",
       "25%    1007.800000   3.460000   101.000000    0.190000      1.0    6.216000  \n",
       "50%    1008.500000   6.910000   110.000000    0.440000      1.0    6.216000  \n",
       "75%    1009.625000   9.495000   200.000000    0.440000      1.0    6.216000  \n",
       "max    1012.300000  22.380000   251.000000    0.750000      1.0    6.216000  "
      ]
     },
     "execution_count": 18,
     "metadata": {},
     "output_type": "execute_result"
    }
   ],
   "source": [
    "train_dummy[train_dummy[\"apparentTemperature\"] >= 90].describe()"
   ]
  },
  {
   "cell_type": "code",
   "execution_count": 19,
   "metadata": {},
   "outputs": [
    {
     "name": "stdout",
     "output_type": "stream",
     "text": [
      "70.1095652173913\n",
      "93.763125\n"
     ]
    }
   ],
   "source": [
    "tp_mean = train_dummy[train_dummy[\"apparentTemperature\"] <= 72].describe().loc[\"mean\", \"apparentTemperature\"]\n",
    "print(tp_mean)\n",
    "tp_mean = train_dummy[train_dummy[\"apparentTemperature\"] >= 90].describe().loc[\"mean\", \"apparentTemperature\"]\n",
    "print(tp_mean)"
   ]
  },
  {
   "cell_type": "code",
   "execution_count": 20,
   "metadata": {},
   "outputs": [],
   "source": [
    "train_dummy.loc[:,\"apparentTemperature\"] = X_data_train[\"apparentTemperature\"].apply(lambda x: 70.1 if x <= 72 else x)\n",
    "train_dummy.loc[:,\"apparentTemperature\"] = train_dummy[\"apparentTemperature\"].apply(lambda x: 93.76 if x >= 90 else x)"
   ]
  },
  {
   "cell_type": "code",
   "execution_count": 21,
   "metadata": {},
   "outputs": [
    {
     "data": {
      "text/plain": [
       "<matplotlib.axes._subplots.AxesSubplot at 0x7f8efe357150>"
      ]
     },
     "execution_count": 21,
     "metadata": {},
     "output_type": "execute_result"
    },
    {
     "data": {
      "image/png": "[encoded data removed]",
      "text/plain": [
       "<Figure size 432x288 with 1 Axes>"
      ]
     },
     "metadata": {},
     "output_type": "display_data"
    }
   ],
   "source": [
    "train_dummy.apparentTemperature.hist()"
   ]
  },
  {
   "cell_type": "markdown",
   "metadata": {},
   "source": [
    "### c. Dew Point"
   ]
  },
  {
   "cell_type": "code",
   "execution_count": 22,
   "metadata": {},
   "outputs": [
    {
     "data": {
      "text/plain": [
       "80.58      4\n",
       "79.33      1\n",
       "78.81     66\n",
       "77.56      1\n",
       "76.99     72\n",
       "75.75      1\n",
       "75.19    115\n",
       "73.39     64\n",
       "72.69      1\n",
       "72.33      1\n",
       "71.61     29\n",
       "70.89      1\n",
       "70.71      1\n",
       "69.81     36\n",
       "68.00     11\n",
       "66.21     13\n",
       "64.40     10\n",
       "62.59      7\n",
       "60.80      3\n",
       "Name: dewPoint, dtype: int64"
      ]
     },
     "execution_count": 22,
     "metadata": {},
     "output_type": "execute_result"
    }
   ],
   "source": [
    "train_dummy.dewPoint.value_counts().sort_index(ascending=False)"
   ]
  },
  {
   "cell_type": "code",
   "execution_count": 23,
   "metadata": {},
   "outputs": [],
   "source": [
    "# Các giá trị này tự tính bằng tay\n",
    "train_dummy.loc[:,\"dewPoint\"] = train_dummy[\"dewPoint\"].apply(lambda x: 78.97 if x > 78 else x)\n",
    "train_dummy.loc[:,\"dewPoint\"] = train_dummy[\"dewPoint\"].apply(lambda x: 76.17 if x > 75.74 and x < 79.4 else x)\n",
    "train_dummy.loc[:,\"dewPoint\"] = train_dummy[\"dewPoint\"].apply(lambda x: 71.61 if x > 70.70 and x < 72.7 else x)\n",
    "train_dummy.loc[:,\"dewPoint\"] = train_dummy[\"dewPoint\"].apply(lambda x: 62.05 if x < 62.6 else x)"
   ]
  },
  {
   "cell_type": "code",
   "execution_count": 24,
   "metadata": {},
   "outputs": [
    {
     "data": {
      "text/plain": [
       "<matplotlib.axes._subplots.AxesSubplot at 0x7f8efea34b10>"
      ]
     },
     "execution_count": 24,
     "metadata": {},
     "output_type": "execute_result"
    },
    {
     "data": {
      "image/png": "[encoded data removed]",
      "text/plain": [
       "<Figure size 432x288 with 1 Axes>"
      ]
     },
     "metadata": {},
     "output_type": "display_data"
    }
   ],
   "source": [
    "train_dummy.dewPoint.hist()"
   ]
  },
  {
   "cell_type": "markdown",
   "metadata": {},
   "source": [
    "### d. Pressure"
   ]
  },
  {
   "cell_type": "code",
   "execution_count": 25,
   "metadata": {},
   "outputs": [
    {
     "data": {
      "text/plain": [
       "<matplotlib.axes._subplots.AxesSubplot at 0x7f8efe39fc90>"
      ]
     },
     "execution_count": 25,
     "metadata": {},
     "output_type": "execute_result"
    },
    {
     "data": {
      "image/png": "[encoded data removed]",
      "text/plain": [
       "<Figure size 432x288 with 1 Axes>"
      ]
     },
     "metadata": {},
     "output_type": "display_data"
    }
   ],
   "source": [
    "train_dummy.pressure.hist()"
   ]
  },
  {
   "cell_type": "code",
   "execution_count": 26,
   "metadata": {},
   "outputs": [
    {
     "name": "stdout",
     "output_type": "stream",
     "text": [
      "1006.4057142857145\n",
      "1014.0454545454544\n"
     ]
    }
   ],
   "source": [
    "pre_mean = train_dummy[train_dummy[\"pressure\"] < 1007].describe().loc[\"mean\", \"pressure\"]\n",
    "print(pre_mean)\n",
    "pre_mean = train_dummy[train_dummy[\"pressure\"] > 1013].describe().loc[\"mean\", \"pressure\"]\n",
    "print(pre_mean)"
   ]
  },
  {
   "cell_type": "code",
   "execution_count": 27,
   "metadata": {},
   "outputs": [],
   "source": [
    "train_dummy.loc[:, \"pressure\"] = train_dummy[\"pressure\"].apply(lambda x: 1006.4 if x < 1007 else x)\n",
    "train_dummy.loc[:, \"pressure\"] = train_dummy[\"pressure\"].apply(lambda x: 1014.04 if x > 1013 else x)"
   ]
  },
  {
   "cell_type": "code",
   "execution_count": 28,
   "metadata": {},
   "outputs": [
    {
     "data": {
      "text/plain": [
       "<matplotlib.axes._subplots.AxesSubplot at 0x7f8efe45a550>"
      ]
     },
     "execution_count": 28,
     "metadata": {},
     "output_type": "execute_result"
    },
    {
     "data": {
      "image/png": "[encoded data removed]",
      "text/plain": [
       "<Figure size 432x288 with 1 Axes>"
      ]
     },
     "metadata": {},
     "output_type": "display_data"
    }
   ],
   "source": [
    "train_dummy.pressure.hist()"
   ]
  },
  {
   "cell_type": "markdown",
   "metadata": {},
   "source": [
    "### e. Temperature"
   ]
  },
  {
   "cell_type": "code",
   "execution_count": 29,
   "metadata": {},
   "outputs": [
    {
     "data": {
      "text/plain": [
       "<matplotlib.axes._subplots.AxesSubplot at 0x7f8efe853910>"
      ]
     },
     "execution_count": 29,
     "metadata": {},
     "output_type": "execute_result"
    },
    {
     "data": {
      "image/png": "[encoded data removed]",
      "text/plain": [
       "<Figure size 432x288 with 1 Axes>"
      ]
     },
     "metadata": {},
     "output_type": "display_data"
    }
   ],
   "source": [
    "train_dummy.temperature.hist()"
   ]
  },
  {
   "cell_type": "code",
   "execution_count": 30,
   "metadata": {},
   "outputs": [
    {
     "data": {
      "text/plain": [
       "86.06     1\n",
       "84.27    16\n",
       "83.92     1\n",
       "82.48    24\n",
       "82.44     1\n",
       "81.38     1\n",
       "80.65    71\n",
       "79.57     1\n",
       "79.22     1\n",
       "78.88    85\n",
       "78.66     1\n",
       "77.06    53\n",
       "75.81     2\n",
       "75.25    86\n",
       "73.45    50\n",
       "73.21     1\n",
       "71.67    21\n",
       "69.87    15\n",
       "68.43     1\n",
       "68.06     2\n",
       "66.27     3\n",
       "Name: temperature, dtype: int64"
      ]
     },
     "execution_count": 30,
     "metadata": {},
     "output_type": "execute_result"
    }
   ],
   "source": [
    "train_dummy.temperature.value_counts().sort_index(ascending=False)"
   ]
  },
  {
   "cell_type": "code",
   "execution_count": 31,
   "metadata": {},
   "outputs": [
    {
     "name": "stdout",
     "output_type": "stream",
     "text": [
      "84.35\n",
      "82.43615384615386\n",
      "80.61561643835614\n",
      "77.0439285714286\n",
      "70.45790697674418\n"
     ]
    }
   ],
   "source": [
    "tem_mean = train_dummy[train_dummy[\"temperature\"] > 83.8].describe().loc[\"mean\", \"temperature\"]\n",
    "print(tem_mean)\n",
    "tem_mean = train_dummy[(train_dummy[\"temperature\"] > 81.2) & (train_dummy[\"temperature\"] < 82.5)].describe().loc[\"mean\", \"temperature\"]\n",
    "print(tem_mean)\n",
    "tem_mean = train_dummy[(train_dummy[\"temperature\"] > 79.2) & (train_dummy[\"temperature\"] < 80.7)].describe().loc[\"mean\", \"temperature\"]\n",
    "print(tem_mean)\n",
    "tem_mean = train_dummy[(train_dummy[\"temperature\"] > 75.8) & (train_dummy[\"temperature\"] < 78.7)].describe().loc[\"mean\", \"temperature\"]\n",
    "print(tem_mean)\n",
    "tem_mean = train_dummy[(train_dummy[\"temperature\"] > 66.2) & (train_dummy[\"temperature\"] < 73.3)].describe().loc[\"mean\", \"temperature\"]\n",
    "print(tem_mean)"
   ]
  },
  {
   "cell_type": "code",
   "execution_count": 32,
   "metadata": {},
   "outputs": [],
   "source": [
    "train_dummy.loc[:,\"temperature\"] = train_dummy[\"temperature\"].apply(lambda x: 84.35 if x > 83.8 else x)\n",
    "train_dummy.loc[:,\"temperature\"] = train_dummy[\"temperature\"].apply(lambda x: 82.43 if x > 81.2 and x < 82.5 else x)\n",
    "train_dummy.loc[:,\"temperature\"] = train_dummy[\"temperature\"].apply(lambda x: 70.61 if x > 79.2 and x < 80.7 else x)\n",
    "train_dummy.loc[:,\"temperature\"] = train_dummy[\"temperature\"].apply(lambda x: 77.04 if x > 75.8 and x < 78.7 else x)\n",
    "train_dummy.loc[:,\"temperature\"] = train_dummy[\"temperature\"].apply(lambda x: 70.45 if x > 66.2 and x < 73.3 else x)"
   ]
  },
  {
   "cell_type": "code",
   "execution_count": 33,
   "metadata": {},
   "outputs": [
    {
     "data": {
      "text/plain": [
       "<matplotlib.axes._subplots.AxesSubplot at 0x7f8efe7f7310>"
      ]
     },
     "execution_count": 33,
     "metadata": {},
     "output_type": "execute_result"
    },
    {
     "data": {
      "image/png": "[encoded data removed]",
      "text/plain": [
       "<Figure size 432x288 with 1 Axes>"
      ]
     },
     "metadata": {},
     "output_type": "display_data"
    }
   ],
   "source": [
    "train_dummy.temperature.hist()"
   ]
  },
  {
   "cell_type": "markdown",
   "metadata": {},
   "source": [
    "### f. Visibility\n",
    "\n",
    "Thuộc tính này ta sẽ phân thành 2 lớp: `1` và `0`"
   ]
  },
  {
   "cell_type": "code",
   "execution_count": 34,
   "metadata": {},
   "outputs": [
    {
     "data": {
      "text/plain": [
       "6.216    254\n",
       "4.974     42\n",
       "3.730     21\n",
       "3.108     20\n",
       "5.591     15\n",
       "4.346     14\n",
       "1.244     13\n",
       "1.862     13\n",
       "2.488      7\n",
       "2.422      4\n",
       "1.555      4\n",
       "2.048      3\n",
       "2.796      2\n",
       "1.120      2\n",
       "2.609      2\n",
       "1.429      2\n",
       "2.175      2\n",
       "1.617      1\n",
       "1.801      1\n",
       "0.434      1\n",
       "3.097      1\n",
       "0.931      1\n",
       "2.982      1\n",
       "0.621      1\n",
       "Name: visibility, dtype: int64"
      ]
     },
     "execution_count": 34,
     "metadata": {},
     "output_type": "execute_result"
    }
   ],
   "source": [
    "train_dummy.visibility.value_counts()"
   ]
  },
  {
   "cell_type": "code",
   "execution_count": 35,
   "metadata": {},
   "outputs": [
    {
     "data": {
      "text/plain": [
       "<matplotlib.axes._subplots.AxesSubplot at 0x7f8efedcedd0>"
      ]
     },
     "execution_count": 35,
     "metadata": {},
     "output_type": "execute_result"
    },
    {
     "data": {
      "image/png": "[encoded data removed]",
      "text/plain": [
       "<Figure size 432x288 with 1 Axes>"
      ]
     },
     "metadata": {},
     "output_type": "display_data"
    }
   ],
   "source": [
    "train_dummy.visibility.hist()"
   ]
  },
  {
   "cell_type": "code",
   "execution_count": 36,
   "metadata": {},
   "outputs": [],
   "source": [
    "train_dummy.loc[:,\"visibility\"] = train_dummy[\"visibility\"].apply(lambda x: 1 if x > 6 else 0)"
   ]
  },
  {
   "cell_type": "markdown",
   "metadata": {},
   "source": [
    "### g. Wind Bearing"
   ]
  },
  {
   "cell_type": "code",
   "execution_count": 37,
   "metadata": {},
   "outputs": [
    {
     "data": {
      "text/plain": [
       "<matplotlib.axes._subplots.AxesSubplot at 0x7f8efe34aa90>"
      ]
     },
     "execution_count": 37,
     "metadata": {},
     "output_type": "execute_result"
    },
    {
     "data": {
      "image/png": "[encoded data removed]",
      "text/plain": [
       "<Figure size 432x288 with 1 Axes>"
      ]
     },
     "metadata": {},
     "output_type": "display_data"
    }
   ],
   "source": [
    "train_dummy.windBearing.hist()"
   ]
  },
  {
   "cell_type": "code",
   "execution_count": 38,
   "metadata": {},
   "outputs": [
    {
     "data": {
      "text/plain": [
       "350.0    15\n",
       "341.0    10\n",
       "330.0    12\n",
       "320.0     4\n",
       "311.0     6\n",
       "300.0     1\n",
       "290.0     4\n",
       "281.0     1\n",
       "270.0     1\n",
       "260.0     4\n",
       "251.0    16\n",
       "240.0    11\n",
       "230.0    14\n",
       "221.0    15\n",
       "210.0    18\n",
       "200.0     9\n",
       "191.0     6\n",
       "180.0     4\n",
       "170.0     3\n",
       "150.0     2\n",
       "140.0     4\n",
       "132.0     1\n",
       "131.0    15\n",
       "120.0    15\n",
       "110.0    23\n",
       "101.0    15\n",
       "90.0      8\n",
       "80.0     13\n",
       "79.0      1\n",
       "71.0     18\n",
       "60.0     18\n",
       "50.0     21\n",
       "41.0     18\n",
       "30.0     19\n",
       "20.0     12\n",
       "11.0     18\n",
       "0.0      25\n",
       "Name: windBearing, dtype: int64"
      ]
     },
     "execution_count": 38,
     "metadata": {},
     "output_type": "execute_result"
    }
   ],
   "source": [
    "train_dummy.windBearing.value_counts().sort_index(ascending=False)"
   ]
  },
  {
   "cell_type": "code",
   "execution_count": 39,
   "metadata": {},
   "outputs": [
    {
     "name": "stdout",
     "output_type": "stream",
     "text": [
      "83.5909090909091\n",
      "178.20689655172413\n",
      "295.0952380952381\n"
     ]
    }
   ],
   "source": [
    "wb_mean_1 = train_dummy[(train_dummy[\"windBearing\"] >= 79) & (train_dummy[\"windBearing\"] < 90.1)].describe().loc[\"mean\",\"windBearing\"]\n",
    "print(wb_mean_1)\n",
    "wb_mean_2 = train_dummy[(train_dummy[\"windBearing\"] >= 132) & (train_dummy[\"windBearing\"] <= 200)].describe().loc[\"mean\",\"windBearing\"]\n",
    "print(wb_mean_2)\n",
    "wb_mean_3 = train_dummy[(train_dummy[\"windBearing\"] >= 260) & (train_dummy[\"windBearing\"] < 320.05)].describe().loc[\"mean\",\"windBearing\"]\n",
    "print(wb_mean_3)"
   ]
  },
  {
   "cell_type": "code",
   "execution_count": 40,
   "metadata": {},
   "outputs": [],
   "source": [
    "train_dummy.loc[:, \"windBearing\"] = train_dummy[\"windBearing\"].apply(lambda x: 83.59 if x >= 79 and x < 90.1 else x)\n",
    "train_dummy.loc[:, \"windBearing\"] = train_dummy[\"windBearing\"].apply(lambda x: 178.2 if x >= 132 and x <= 200 else x)\n",
    "train_dummy.loc[:, \"windBearing\"] = train_dummy[\"windBearing\"].apply(lambda x: 295.1 if x >= 260 and x < 320.05 else x)"
   ]
  },
  {
   "cell_type": "code",
   "execution_count": 41,
   "metadata": {},
   "outputs": [
    {
     "data": {
      "text/plain": [
       "<matplotlib.axes._subplots.AxesSubplot at 0x7f8efe355750>"
      ]
     },
     "execution_count": 41,
     "metadata": {},
     "output_type": "execute_result"
    },
    {
     "data": {
      "image/png": "[encoded data removed]",
      "text/plain": [
       "<Figure size 432x288 with 1 Axes>"
      ]
     },
     "metadata": {},
     "output_type": "display_data"
    }
   ],
   "source": [
    "train_dummy.windBearing.hist()"
   ]
  },
  {
   "cell_type": "markdown",
   "metadata": {},
   "source": [
    "### h. Wind Speed"
   ]
  },
  {
   "cell_type": "code",
   "execution_count": 42,
   "metadata": {},
   "outputs": [
    {
     "data": {
      "text/plain": [
       "<matplotlib.axes._subplots.AxesSubplot at 0x7f8efebe4790>"
      ]
     },
     "execution_count": 42,
     "metadata": {},
     "output_type": "execute_result"
    },
    {
     "data": {
      "image/png": "[encoded data removed]",
      "text/plain": [
       "<Figure size 432x288 with 1 Axes>"
      ]
     },
     "metadata": {},
     "output_type": "display_data"
    }
   ],
   "source": [
    "train_dummy.windSpeed.hist()"
   ]
  },
  {
   "cell_type": "code",
   "execution_count": 43,
   "metadata": {},
   "outputs": [
    {
     "data": {
      "text/plain": [
       "22.38     1\n",
       "20.12     2\n",
       "15.65     1\n",
       "12.67     6\n",
       "11.51     7\n",
       "10.35    11\n",
       "9.21     19\n",
       "8.96      2\n",
       "8.33      1\n",
       "8.05     22\n",
       "6.91     47\n",
       "6.72      7\n",
       "5.74     51\n",
       "4.61     65\n",
       "4.48     13\n",
       "3.46     69\n",
       "2.69      1\n",
       "2.29     68\n",
       "2.24      9\n",
       "1.16     20\n",
       "1.11      1\n",
       "0.00     14\n",
       "Name: windSpeed, dtype: int64"
      ]
     },
     "execution_count": 43,
     "metadata": {},
     "output_type": "execute_result"
    }
   ],
   "source": [
    "train_dummy.windSpeed.value_counts().sort_index(ascending=False)"
   ]
  },
  {
   "cell_type": "code",
   "execution_count": 44,
   "metadata": {},
   "outputs": [
    {
     "name": "stdout",
     "output_type": "stream",
     "text": [
      "1.0106818181818182\n",
      "2.2957971014492746\n",
      "4.588333333333335\n",
      "7.280506329113921\n",
      "11.142553191489363\n"
     ]
    }
   ],
   "source": [
    "ws_mean_1 = train_dummy[(train_dummy[\"windSpeed\"] >= 0) & (train_dummy[\"windSpeed\"] < 2.28)].describe().loc[\"mean\",\"windSpeed\"]\n",
    "print(ws_mean_1)\n",
    "ws_mean_2 = train_dummy[(train_dummy[\"windSpeed\"] >= 2.28) & (train_dummy[\"windSpeed\"] < 2.7)].describe().loc[\"mean\",\"windSpeed\"]\n",
    "print(ws_mean_2)\n",
    "ws_mean_3 = train_dummy[(train_dummy[\"windSpeed\"] >= 4.4) & (train_dummy[\"windSpeed\"] < 4.7)].describe().loc[\"mean\",\"windSpeed\"]\n",
    "print(ws_mean_3)\n",
    "ws_mean_4 = train_dummy[(train_dummy[\"windSpeed\"] >= 6.7) & (train_dummy[\"windSpeed\"] < 9)].describe().loc[\"mean\",\"windSpeed\"]\n",
    "print(ws_mean_4)\n",
    "ws_mean_5 = train_dummy[(train_dummy[\"windSpeed\"] >= 9.2)].describe().loc[\"mean\",\"windSpeed\"]\n",
    "print(ws_mean_5)"
   ]
  },
  {
   "cell_type": "code",
   "execution_count": 45,
   "metadata": {},
   "outputs": [],
   "source": [
    "train_dummy.loc[:, \"windSpeed\"] = train_dummy[\"windSpeed\"].apply(lambda x: 1.01 if x < 2.28 else x)\n",
    "train_dummy.loc[:, \"windSpeed\"] = train_dummy[\"windSpeed\"].apply(lambda x: 2.29 if x >= 2.28 and x < 2.7 else x)\n",
    "train_dummy.loc[:, \"windSpeed\"] = train_dummy[\"windSpeed\"].apply(lambda x: 4.58 if x >= 4.4 and x < 4.7  else x)\n",
    "train_dummy.loc[:, \"windSpeed\"] = train_dummy[\"windSpeed\"].apply(lambda x: 7.28 if x >= 6.7 and x < 9  else x)\n",
    "train_dummy.loc[:, \"windSpeed\"] = train_dummy[\"windSpeed\"].apply(lambda x: 11.14 if x >= 9.2  else x)"
   ]
  },
  {
   "cell_type": "code",
   "execution_count": 46,
   "metadata": {},
   "outputs": [
    {
     "data": {
      "text/plain": [
       "<matplotlib.axes._subplots.AxesSubplot at 0x7f8efec65290>"
      ]
     },
     "execution_count": 46,
     "metadata": {},
     "output_type": "execute_result"
    },
    {
     "data": {
      "image/png": "[encoded data removed]",
      "text/plain": [
       "<Figure size 432x288 with 1 Axes>"
      ]
     },
     "metadata": {},
     "output_type": "display_data"
    }
   ],
   "source": [
    "train_dummy.windSpeed.hist()"
   ]
  },
  {
   "cell_type": "markdown",
   "metadata": {
    "colab_type": "text",
    "id": "Y1l-mN1MaUhM"
   },
   "source": [
    "## 5. Các thí nghiệm mà nhóm thực hiện"
   ]
  },
  {
   "cell_type": "markdown",
   "metadata": {},
   "source": [
    "### Tạo Preprocessing pipeline như phân tích ở trên"
   ]
  },
  {
   "cell_type": "code",
   "execution_count": 47,
   "metadata": {},
   "outputs": [],
   "source": [
    "class Processing(BaseEstimator, TransformerMixin):\n",
    "    def fit(self, X_df, y=None):\n",
    "        return self\n",
    "    def transform(self, X_df, y=None):\n",
    "        train_dummy = X_df.copy()\n",
    "        \n",
    "        train_dummy.loc[:,\"humidity\"] = train_dummy[\"humidity\"].apply(lambda x: 1 if x >= 0.97 else x)\n",
    "        train_dummy.loc[:,\"humidity\"] = train_dummy[\"humidity\"].apply(lambda x: 0.94 if x >= 0.92 and x <= 0.94 else x)\n",
    "        train_dummy.loc[:,\"humidity\"] = train_dummy[\"humidity\"].apply(lambda x: 0.84 if x >= 0.84  and x <= 0.87 else x)\n",
    "        train_dummy.loc[:,\"humidity\"] = train_dummy[\"humidity\"].apply(lambda x: 0.79 if x >= 0.79 and x < 0.83 else x)\n",
    "        train_dummy.loc[:,\"humidity\"] = train_dummy[\"humidity\"].apply(lambda x: 0.72 if x <= 0.77 else x)\n",
    "        \n",
    "        train_dummy.loc[:,\"apparentTemperature\"] = X_data_train[\"apparentTemperature\"].apply(lambda x: 70.1 if x <= 72 else x)\n",
    "        train_dummy.loc[:,\"apparentTemperature\"] = train_dummy[\"apparentTemperature\"].apply(lambda x: 93.76 if x >= 90 else x)\n",
    "        \n",
    "        train_dummy.loc[:,\"dewPoint\"] = train_dummy[\"dewPoint\"].apply(lambda x: 78.97 if x > 78 else x)\n",
    "        train_dummy.loc[:,\"dewPoint\"] = train_dummy[\"dewPoint\"].apply(lambda x: 76.17 if x > 75.74 and x < 79.4 else x)\n",
    "        train_dummy.loc[:,\"dewPoint\"] = train_dummy[\"dewPoint\"].apply(lambda x: 71.61 if x > 70.70 and x < 72.7 else x)\n",
    "        train_dummy.loc[:,\"dewPoint\"] = train_dummy[\"dewPoint\"].apply(lambda x: 62.05 if x < 62.6 else x)\n",
    "        \n",
    "        train_dummy.loc[:, \"pressure\"] = train_dummy[\"pressure\"].apply(lambda x: 1006.4 if x < 1007 else x)\n",
    "        train_dummy.loc[:, \"pressure\"] = train_dummy[\"pressure\"].apply(lambda x: 1014.04 if x > 1013 else x)\n",
    "\n",
    "        train_dummy.loc[:,\"temperature\"] = train_dummy[\"temperature\"].apply(lambda x: 84.35 if x > 83.8 else x)\n",
    "        train_dummy.loc[:,\"temperature\"] = train_dummy[\"temperature\"].apply(lambda x: 82.43 if x > 81.2 and x < 82.5 else x)\n",
    "        train_dummy.loc[:,\"temperature\"] = train_dummy[\"temperature\"].apply(lambda x: 70.61 if x > 79.2 and x < 80.7 else x)\n",
    "        train_dummy.loc[:,\"temperature\"] = train_dummy[\"temperature\"].apply(lambda x: 77.04 if x > 75.8 and x < 78.7 else x)\n",
    "        train_dummy.loc[:,\"temperature\"] = train_dummy[\"temperature\"].apply(lambda x: 70.45 if x > 66.2 and x < 73.3 else x)\n",
    "\n",
    "        train_dummy.loc[:,\"visibility\"] = train_dummy[\"visibility\"].apply(lambda x: 1 if x > 6 else 0)\n",
    "\n",
    "        train_dummy.loc[:, \"windBearing\"] = train_dummy[\"windBearing\"].apply(lambda x: 83.59 if x >= 79 and x < 90.1 else x)\n",
    "        train_dummy.loc[:, \"windBearing\"] = train_dummy[\"windBearing\"].apply(lambda x: 178.2 if x >= 132 and x <= 200 else x)\n",
    "        train_dummy.loc[:, \"windBearing\"] = train_dummy[\"windBearing\"].apply(lambda x: 295.1 if x >= 260 and x < 320.05 else x)\n",
    "\n",
    "        train_dummy.loc[:, \"windSpeed\"] = train_dummy[\"windSpeed\"].apply(lambda x: 1.01 if x < 2.28 else x)\n",
    "        train_dummy.loc[:, \"windSpeed\"] = train_dummy[\"windSpeed\"].apply(lambda x: 2.29 if x >= 2.28 and x < 2.7 else x)\n",
    "        train_dummy.loc[:, \"windSpeed\"] = train_dummy[\"windSpeed\"].apply(lambda x: 4.58 if x >= 4.4 and x < 4.7  else x)\n",
    "        train_dummy.loc[:, \"windSpeed\"] = train_dummy[\"windSpeed\"].apply(lambda x: 7.28 if x >= 6.7 and x < 9  else x)\n",
    "        train_dummy.loc[:, \"windSpeed\"] = train_dummy[\"windSpeed\"].apply(lambda x: 11.14 if x >= 9.2  else x)\n",
    "        \n",
    "        return train_dummy"
   ]
  },
  {
   "cell_type": "markdown",
   "metadata": {
    "colab": {},
    "colab_type": "code",
    "id": "Hq3zJLxShmft"
   },
   "source": [
    "### a. Phương pháp 1\n",
    "Ở phương pháp này, nhóm sẽ tách cột `time` thành 2 cột là `day` và `month`. Nhóm sẽ bỏ cột `time`,`apparentTemperature` và `visibility` . Nhưng feature có giá trị thiếu sẽ thử lần lượt các phương pháp `mean`, `median`, `most_frequent`. Sau đó, nhóm sẽ thử sử dụng `PCA` với `n_components` chạy từ `[1: số lượng cột]`"
   ]
  },
  {
   "cell_type": "code",
   "execution_count": 48,
   "metadata": {},
   "outputs": [
    {
     "data": {
      "text/html": [
       "<div>\n",
       "<style scoped>\n",
       "    .dataframe tbody tr th:only-of-type {\n",
       "        vertical-align: middle;\n",
       "    }\n",
       "\n",
       "    .dataframe tbody tr th {\n",
       "        vertical-align: top;\n",
       "    }\n",
       "\n",
       "    .dataframe thead th {\n",
       "        text-align: right;\n",
       "    }\n",
       "</style>\n",
       "<table border=\"1\" class=\"dataframe\">\n",
       "  <thead>\n",
       "    <tr style=\"text-align: right;\">\n",
       "      <th></th>\n",
       "      <th>time</th>\n",
       "      <th>temperature</th>\n",
       "      <th>apparentTemperature</th>\n",
       "      <th>dewPoint</th>\n",
       "      <th>humidity</th>\n",
       "      <th>pressure</th>\n",
       "      <th>windSpeed</th>\n",
       "      <th>windBearing</th>\n",
       "      <th>cloudCover</th>\n",
       "      <th>uvIndex</th>\n",
       "      <th>visibility</th>\n",
       "    </tr>\n",
       "  </thead>\n",
       "  <tbody>\n",
       "    <tr>\n",
       "      <th>395</th>\n",
       "      <td>1296432000</td>\n",
       "      <td>68.43</td>\n",
       "      <td>69.06</td>\n",
       "      <td>64.40</td>\n",
       "      <td>0.87</td>\n",
       "      <td>1013.0</td>\n",
       "      <td>6.72</td>\n",
       "      <td>0.0</td>\n",
       "      <td>0.25</td>\n",
       "      <td>0.0</td>\n",
       "      <td>NaN</td>\n",
       "    </tr>\n",
       "    <tr>\n",
       "      <th>388</th>\n",
       "      <td>1295827200</td>\n",
       "      <td>69.87</td>\n",
       "      <td>71.25</td>\n",
       "      <td>69.81</td>\n",
       "      <td>1.00</td>\n",
       "      <td>1011.8</td>\n",
       "      <td>0.00</td>\n",
       "      <td>NaN</td>\n",
       "      <td>0.44</td>\n",
       "      <td>0.0</td>\n",
       "      <td>4.974</td>\n",
       "    </tr>\n",
       "    <tr>\n",
       "      <th>516</th>\n",
       "      <td>1306886400</td>\n",
       "      <td>80.65</td>\n",
       "      <td>86.25</td>\n",
       "      <td>75.19</td>\n",
       "      <td>0.84</td>\n",
       "      <td>1007.3</td>\n",
       "      <td>6.72</td>\n",
       "      <td>NaN</td>\n",
       "      <td>0.44</td>\n",
       "      <td>1.0</td>\n",
       "      <td>6.216</td>\n",
       "    </tr>\n",
       "    <tr>\n",
       "      <th>655</th>\n",
       "      <td>1318896000</td>\n",
       "      <td>77.06</td>\n",
       "      <td>79.15</td>\n",
       "      <td>76.99</td>\n",
       "      <td>1.00</td>\n",
       "      <td>1011.2</td>\n",
       "      <td>4.61</td>\n",
       "      <td>0.0</td>\n",
       "      <td>0.44</td>\n",
       "      <td>1.0</td>\n",
       "      <td>6.216</td>\n",
       "    </tr>\n",
       "    <tr>\n",
       "      <th>614</th>\n",
       "      <td>1315353600</td>\n",
       "      <td>80.65</td>\n",
       "      <td>87.67</td>\n",
       "      <td>76.99</td>\n",
       "      <td>0.89</td>\n",
       "      <td>1009.3</td>\n",
       "      <td>0.00</td>\n",
       "      <td>NaN</td>\n",
       "      <td>0.44</td>\n",
       "      <td>1.0</td>\n",
       "      <td>6.216</td>\n",
       "    </tr>\n",
       "  </tbody>\n",
       "</table>\n",
       "</div>"
      ],
      "text/plain": [
       "           time  temperature  apparentTemperature  dewPoint  humidity  \\\n",
       "395  1296432000        68.43                69.06     64.40      0.87   \n",
       "388  1295827200        69.87                71.25     69.81      1.00   \n",
       "516  1306886400        80.65                86.25     75.19      0.84   \n",
       "655  1318896000        77.06                79.15     76.99      1.00   \n",
       "614  1315353600        80.65                87.67     76.99      0.89   \n",
       "\n",
       "     pressure  windSpeed  windBearing  cloudCover  uvIndex  visibility  \n",
       "395    1013.0       6.72          0.0        0.25      0.0         NaN  \n",
       "388    1011.8       0.00          NaN        0.44      0.0       4.974  \n",
       "516    1007.3       6.72          NaN        0.44      1.0       6.216  \n",
       "655    1011.2       4.61          0.0        0.44      1.0       6.216  \n",
       "614    1009.3       0.00          NaN        0.44      1.0       6.216  "
      ]
     },
     "execution_count": 48,
     "metadata": {},
     "output_type": "execute_result"
    }
   ],
   "source": [
    "X_data_train.head()"
   ]
  },
  {
   "cell_type": "code",
   "execution_count": 49,
   "metadata": {},
   "outputs": [],
   "source": [
    "class ColAdderDropper(BaseEstimator, TransformerMixin):\n",
    "    def __init__(self, num_top_titles=1):\n",
    "        self.num_top_titles = num_top_titles\n",
    "    def fit(self, X_df, y=None):\n",
    "        return self\n",
    "    def transform(self, X_df, y=None):\n",
    "        tp = X_df.copy()\n",
    "        time = pd.to_datetime(tp['time'], unit='s')\n",
    "        day_sr = time.dt.day\n",
    "        month_sr = time.dt.month\n",
    "        tp.drop(labels=[\"visibility\", \"apparentTemperature\", \"time\"], axis=1, inplace=True)\n",
    "        tp['day'] = pd.Series(day_sr, index=tp.index)\n",
    "        tp['month'] = pd.Series(month_sr, index=tp.index) \n",
    "        return tp"
   ]
  },
  {
   "cell_type": "code",
   "execution_count": 50,
   "metadata": {},
   "outputs": [
    {
     "data": {
      "text/html": [
       "<div>\n",
       "<style scoped>\n",
       "    .dataframe tbody tr th:only-of-type {\n",
       "        vertical-align: middle;\n",
       "    }\n",
       "\n",
       "    .dataframe tbody tr th {\n",
       "        vertical-align: top;\n",
       "    }\n",
       "\n",
       "    .dataframe thead th {\n",
       "        text-align: right;\n",
       "    }\n",
       "</style>\n",
       "<table border=\"1\" class=\"dataframe\">\n",
       "  <thead>\n",
       "    <tr style=\"text-align: right;\">\n",
       "      <th></th>\n",
       "      <th>temperature</th>\n",
       "      <th>dewPoint</th>\n",
       "      <th>humidity</th>\n",
       "      <th>pressure</th>\n",
       "      <th>windSpeed</th>\n",
       "      <th>windBearing</th>\n",
       "      <th>cloudCover</th>\n",
       "      <th>uvIndex</th>\n",
       "      <th>day</th>\n",
       "      <th>month</th>\n",
       "    </tr>\n",
       "  </thead>\n",
       "  <tbody>\n",
       "    <tr>\n",
       "      <th>395</th>\n",
       "      <td>68.43</td>\n",
       "      <td>64.40</td>\n",
       "      <td>0.87</td>\n",
       "      <td>1013.0</td>\n",
       "      <td>6.72</td>\n",
       "      <td>0.0</td>\n",
       "      <td>0.25</td>\n",
       "      <td>0.0</td>\n",
       "      <td>31</td>\n",
       "      <td>1</td>\n",
       "    </tr>\n",
       "    <tr>\n",
       "      <th>388</th>\n",
       "      <td>69.87</td>\n",
       "      <td>69.81</td>\n",
       "      <td>1.00</td>\n",
       "      <td>1011.8</td>\n",
       "      <td>0.00</td>\n",
       "      <td>NaN</td>\n",
       "      <td>0.44</td>\n",
       "      <td>0.0</td>\n",
       "      <td>24</td>\n",
       "      <td>1</td>\n",
       "    </tr>\n",
       "    <tr>\n",
       "      <th>516</th>\n",
       "      <td>80.65</td>\n",
       "      <td>75.19</td>\n",
       "      <td>0.84</td>\n",
       "      <td>1007.3</td>\n",
       "      <td>6.72</td>\n",
       "      <td>NaN</td>\n",
       "      <td>0.44</td>\n",
       "      <td>1.0</td>\n",
       "      <td>1</td>\n",
       "      <td>6</td>\n",
       "    </tr>\n",
       "    <tr>\n",
       "      <th>655</th>\n",
       "      <td>77.06</td>\n",
       "      <td>76.99</td>\n",
       "      <td>1.00</td>\n",
       "      <td>1011.2</td>\n",
       "      <td>4.61</td>\n",
       "      <td>0.0</td>\n",
       "      <td>0.44</td>\n",
       "      <td>1.0</td>\n",
       "      <td>18</td>\n",
       "      <td>10</td>\n",
       "    </tr>\n",
       "    <tr>\n",
       "      <th>614</th>\n",
       "      <td>80.65</td>\n",
       "      <td>76.99</td>\n",
       "      <td>0.89</td>\n",
       "      <td>1009.3</td>\n",
       "      <td>0.00</td>\n",
       "      <td>NaN</td>\n",
       "      <td>0.44</td>\n",
       "      <td>1.0</td>\n",
       "      <td>7</td>\n",
       "      <td>9</td>\n",
       "    </tr>\n",
       "  </tbody>\n",
       "</table>\n",
       "</div>"
      ],
      "text/plain": [
       "     temperature  dewPoint  humidity  pressure  windSpeed  windBearing  \\\n",
       "395        68.43     64.40      0.87    1013.0       6.72          0.0   \n",
       "388        69.87     69.81      1.00    1011.8       0.00          NaN   \n",
       "516        80.65     75.19      0.84    1007.3       6.72          NaN   \n",
       "655        77.06     76.99      1.00    1011.2       4.61          0.0   \n",
       "614        80.65     76.99      0.89    1009.3       0.00          NaN   \n",
       "\n",
       "     cloudCover  uvIndex  day  month  \n",
       "395        0.25      0.0   31      1  \n",
       "388        0.44      0.0   24      1  \n",
       "516        0.44      1.0    1      6  \n",
       "655        0.44      1.0   18     10  \n",
       "614        0.44      1.0    7      9  "
      ]
     },
     "execution_count": 50,
     "metadata": {},
     "output_type": "execute_result"
    }
   ],
   "source": [
    "CAD = ColAdderDropper()\n",
    "tp = CAD.transform(X_data_train)\n",
    "tp.head()"
   ]
  },
  {
   "cell_type": "code",
   "execution_count": 51,
   "metadata": {},
   "outputs": [],
   "source": [
    "num_col = ['temperature', 'dewPoint','humidity','pressure','windSpeed','windBearing','cloudCover','uvIndex','day','month']\n",
    "num_col_imp = SimpleImputer(missing_values=np.nan, strategy='mean')\n",
    "num_col_trans = ColumnTransformer(\n",
    "    [(\"num_imp\", SimpleImputer(), num_col)]\n",
    ")\n",
    "method_1 = Pipeline(\n",
    "    steps=[\n",
    "        ('Preprocessing', Processing()),\n",
    "        ('CAD', ColAdderDropper()),\n",
    "        ('colTrans', num_col_trans),\n",
    "        ('stdScalar', StandardScaler()),\n",
    "        ('PCA', PCA(random_state=0)),\n",
    "        ('linear', LinearRegression())\n",
    "    ]\n",
    ")"
   ]
  },
  {
   "cell_type": "code",
   "execution_count": 52,
   "metadata": {},
   "outputs": [
    {
     "data": {
      "text/plain": [
       "'Finish'"
      ]
     },
     "execution_count": 52,
     "metadata": {},
     "output_type": "execute_result"
    }
   ],
   "source": [
    "imp_method = ['mean', 'median', 'most_frequent']\n",
    "pca_component = list(range(1,len(num_col) + 1))\n",
    "train_errs = []\n",
    "val_errs = []\n",
    "best_val_err = float('inf')\n",
    "best_imp_method = None\n",
    "best_PCA_component = None\n",
    "for i in imp_method:\n",
    "    for j in pca_component:\n",
    "        method_1.set_params(colTrans__num_imp__strategy=i, PCA__n_components=j)\n",
    "        model = method_1.fit(X_data_train, y_data_train)\n",
    "        train_errs.append(mean_absolute_error(y_data_train, model.predict(X_data_train)))\n",
    "        val_err = mean_absolute_error(y_data_val, model.predict(X_data_val))\n",
    "        val_errs.append(val_err)\n",
    "        if val_err < best_val_err:\n",
    "            best_val_err = val_err\n",
    "            best_imp_method = i\n",
    "            best_PCA_component = j\n",
    "\"Finish\""
   ]
  },
  {
   "cell_type": "code",
   "execution_count": 53,
   "metadata": {},
   "outputs": [
    {
     "name": "stdout",
     "output_type": "stream",
     "text": [
      "0.05402729070666915\n",
      "median\n",
      "5\n"
     ]
    }
   ],
   "source": [
    "print(best_val_err)\n",
    "print(best_imp_method)\n",
    "print(best_PCA_component)"
   ]
  },
  {
   "cell_type": "code",
   "execution_count": 54,
   "metadata": {},
   "outputs": [
    {
     "data": {
      "image/png": "[encoded data removed]",
      "text/plain": [
       "<Figure size 1440x1440 with 2 Axes>"
      ]
     },
     "metadata": {},
     "output_type": "display_data"
    }
   ],
   "source": [
    "# Trực quan hóa kết quả\n",
    "train_errs_df = pd.DataFrame(data=np.array(train_errs).reshape(len(imp_method), -1),\n",
    "                             index=imp_method, columns=pca_component)\n",
    "val_errs_df = pd.DataFrame(data=np.array(val_errs).reshape(len(imp_method), -1), \n",
    "                           index=imp_method, columns=pca_component)\n",
    "min_err = min(min(train_errs), min(val_errs))\n",
    "max_err = max(max(train_errs), max(val_errs))\n",
    "plt.figure(figsize=(20, 20))\n",
    "plt.subplot(1, 2, 1)\n",
    "sns.heatmap(train_errs_df, vmin=min_err, vmax=max_err, square=True, annot=True, \n",
    "            cbar=False, fmt='.4f', cmap='Reds')\n",
    "plt.title('train errors'); plt.xlabel('pca_componet'); plt.ylabel('imputer')\n",
    "plt.subplot(1, 2, 2)\n",
    "sns.heatmap(val_errs_df, vmin=min_err, vmax=max_err, square=True, annot=True, \n",
    "            cbar=False, fmt='.4f', cmap='Reds')\n",
    "plt.title('validation errors'); plt.xlabel('pca_componet'); plt.ylabel('imputer');"
   ]
  },
  {
   "cell_type": "markdown",
   "metadata": {},
   "source": [
    "**Nhận xét**  \n",
    "Nhóm sử dụng độ lỗi `mean_absolute_error` và kết quả tốt nhất mô hình trả về là **0.054**. Theo nhóm đánh giá thì phương pháp 1 này không có độ chính xác cao vì theo như dữ liệu gốc ban đầu: `humidity` có `std` vào khoảng **0.08** mà độ lỗi của mô hình dự đoán có `std` là **0.054** (khá gần với **0.08**)  "
   ]
  },
  {
   "cell_type": "markdown",
   "metadata": {},
   "source": [
    "### b. Phương pháp 2\n",
    "\n",
    "Ở phương pháp này, nhóm sẽ giữ nguyên toàn bộ các đặc trưng ban đầu, không thêm hay xóa bất kỳ cột nào. Quy trình làm vẫn tương tự như phương pháp 1 để xem kết quả có cải thiện hơn hay không"
   ]
  },
  {
   "cell_type": "code",
   "execution_count": 55,
   "metadata": {},
   "outputs": [
    {
     "data": {
      "text/html": [
       "<div>\n",
       "<style scoped>\n",
       "    .dataframe tbody tr th:only-of-type {\n",
       "        vertical-align: middle;\n",
       "    }\n",
       "\n",
       "    .dataframe tbody tr th {\n",
       "        vertical-align: top;\n",
       "    }\n",
       "\n",
       "    .dataframe thead th {\n",
       "        text-align: right;\n",
       "    }\n",
       "</style>\n",
       "<table border=\"1\" class=\"dataframe\">\n",
       "  <thead>\n",
       "    <tr style=\"text-align: right;\">\n",
       "      <th></th>\n",
       "      <th>time</th>\n",
       "      <th>temperature</th>\n",
       "      <th>apparentTemperature</th>\n",
       "      <th>dewPoint</th>\n",
       "      <th>humidity</th>\n",
       "      <th>pressure</th>\n",
       "      <th>windSpeed</th>\n",
       "      <th>windBearing</th>\n",
       "      <th>cloudCover</th>\n",
       "      <th>uvIndex</th>\n",
       "      <th>visibility</th>\n",
       "    </tr>\n",
       "  </thead>\n",
       "  <tbody>\n",
       "    <tr>\n",
       "      <th>395</th>\n",
       "      <td>1296432000</td>\n",
       "      <td>68.43</td>\n",
       "      <td>69.06</td>\n",
       "      <td>64.40</td>\n",
       "      <td>0.87</td>\n",
       "      <td>1013.0</td>\n",
       "      <td>6.72</td>\n",
       "      <td>0.0</td>\n",
       "      <td>0.25</td>\n",
       "      <td>0.0</td>\n",
       "      <td>NaN</td>\n",
       "    </tr>\n",
       "    <tr>\n",
       "      <th>388</th>\n",
       "      <td>1295827200</td>\n",
       "      <td>69.87</td>\n",
       "      <td>71.25</td>\n",
       "      <td>69.81</td>\n",
       "      <td>1.00</td>\n",
       "      <td>1011.8</td>\n",
       "      <td>0.00</td>\n",
       "      <td>NaN</td>\n",
       "      <td>0.44</td>\n",
       "      <td>0.0</td>\n",
       "      <td>4.974</td>\n",
       "    </tr>\n",
       "    <tr>\n",
       "      <th>516</th>\n",
       "      <td>1306886400</td>\n",
       "      <td>80.65</td>\n",
       "      <td>86.25</td>\n",
       "      <td>75.19</td>\n",
       "      <td>0.84</td>\n",
       "      <td>1007.3</td>\n",
       "      <td>6.72</td>\n",
       "      <td>NaN</td>\n",
       "      <td>0.44</td>\n",
       "      <td>1.0</td>\n",
       "      <td>6.216</td>\n",
       "    </tr>\n",
       "    <tr>\n",
       "      <th>655</th>\n",
       "      <td>1318896000</td>\n",
       "      <td>77.06</td>\n",
       "      <td>79.15</td>\n",
       "      <td>76.99</td>\n",
       "      <td>1.00</td>\n",
       "      <td>1011.2</td>\n",
       "      <td>4.61</td>\n",
       "      <td>0.0</td>\n",
       "      <td>0.44</td>\n",
       "      <td>1.0</td>\n",
       "      <td>6.216</td>\n",
       "    </tr>\n",
       "    <tr>\n",
       "      <th>614</th>\n",
       "      <td>1315353600</td>\n",
       "      <td>80.65</td>\n",
       "      <td>87.67</td>\n",
       "      <td>76.99</td>\n",
       "      <td>0.89</td>\n",
       "      <td>1009.3</td>\n",
       "      <td>0.00</td>\n",
       "      <td>NaN</td>\n",
       "      <td>0.44</td>\n",
       "      <td>1.0</td>\n",
       "      <td>6.216</td>\n",
       "    </tr>\n",
       "  </tbody>\n",
       "</table>\n",
       "</div>"
      ],
      "text/plain": [
       "           time  temperature  apparentTemperature  dewPoint  humidity  \\\n",
       "395  1296432000        68.43                69.06     64.40      0.87   \n",
       "388  1295827200        69.87                71.25     69.81      1.00   \n",
       "516  1306886400        80.65                86.25     75.19      0.84   \n",
       "655  1318896000        77.06                79.15     76.99      1.00   \n",
       "614  1315353600        80.65                87.67     76.99      0.89   \n",
       "\n",
       "     pressure  windSpeed  windBearing  cloudCover  uvIndex  visibility  \n",
       "395    1013.0       6.72          0.0        0.25      0.0         NaN  \n",
       "388    1011.8       0.00          NaN        0.44      0.0       4.974  \n",
       "516    1007.3       6.72          NaN        0.44      1.0       6.216  \n",
       "655    1011.2       4.61          0.0        0.44      1.0       6.216  \n",
       "614    1009.3       0.00          NaN        0.44      1.0       6.216  "
      ]
     },
     "execution_count": 55,
     "metadata": {},
     "output_type": "execute_result"
    }
   ],
   "source": [
    "X_data_train.head()"
   ]
  },
  {
   "cell_type": "code",
   "execution_count": 56,
   "metadata": {},
   "outputs": [],
   "source": [
    "num_col = ['time', 'temperature', 'apparentTemperature', 'dewPoint',\n",
    "           'humidity','pressure','windSpeed','windBearing','cloudCover',\n",
    "           'uvIndex','visibility']\n",
    "num_col_imp = SimpleImputer(missing_values=np.nan, strategy='mean')\n",
    "num_col_trans = ColumnTransformer(\n",
    "    [(\"num_imp\", SimpleImputer(), num_col)]\n",
    ")\n",
    "method_2 = Pipeline(\n",
    "    steps=[\n",
    "        ('Preprocessing', Processing()),\n",
    "        ('colTrans', num_col_trans),\n",
    "        ('stdScalar', StandardScaler()),\n",
    "        ('PCA', PCA(random_state=0)),\n",
    "        ('linear', LinearRegression())\n",
    "    ]\n",
    ")"
   ]
  },
  {
   "cell_type": "code",
   "execution_count": 57,
   "metadata": {},
   "outputs": [
    {
     "data": {
      "text/plain": [
       "'Finish'"
      ]
     },
     "execution_count": 57,
     "metadata": {},
     "output_type": "execute_result"
    }
   ],
   "source": [
    "imp_method = ['mean', 'median', 'most_frequent']\n",
    "train_errs = []\n",
    "val_errs = []\n",
    "best_val_err = float('inf')\n",
    "best_imp_method = None\n",
    "best_PCA_component = None\n",
    "for i in imp_method:\n",
    "    for j in range(len(num_col)):\n",
    "        method_2.set_params(colTrans__num_imp__strategy=i, PCA__n_components=j + 1)\n",
    "        model = method_2.fit(X_data_train, y_data_train)\n",
    "        train_errs.append(mean_absolute_error(y_data_train, model.predict(X_data_train)))\n",
    "        val_err = mean_absolute_error(y_data_val, model.predict(X_data_val))\n",
    "        val_errs.append(val_err)\n",
    "        if val_err < best_val_err:\n",
    "            best_val_err = val_err\n",
    "            best_imp_method = i\n",
    "            best_PCA_component = j + 1\n",
    "\"Finish\""
   ]
  },
  {
   "cell_type": "code",
   "execution_count": 58,
   "metadata": {},
   "outputs": [
    {
     "name": "stdout",
     "output_type": "stream",
     "text": [
      "0.05550576665352705\n",
      "median\n",
      "6\n"
     ]
    }
   ],
   "source": [
    "print(best_val_err)\n",
    "print(best_imp_method)\n",
    "print(best_PCA_component)"
   ]
  },
  {
   "cell_type": "code",
   "execution_count": 59,
   "metadata": {},
   "outputs": [
    {
     "data": {
      "image/png": "[encoded data removed]",
      "text/plain": [
       "<Figure size 1440x1440 with 2 Axes>"
      ]
     },
     "metadata": {},
     "output_type": "display_data"
    }
   ],
   "source": [
    "# Trực quan hóa kết quả\n",
    "train_errs_df = pd.DataFrame(data=np.array(train_errs).reshape(len(imp_method), -1),\n",
    "                             index=imp_method, columns=list(range(1, len(num_col) + 1)))\n",
    "val_errs_df = pd.DataFrame(data=np.array(val_errs).reshape(len(imp_method), -1), \n",
    "                           index=imp_method, columns=list(range(1, len(num_col) + 1)))\n",
    "min_err = min(min(train_errs), min(val_errs))\n",
    "max_err = max(max(train_errs), max(val_errs))\n",
    "plt.figure(figsize=(20, 20))\n",
    "plt.subplot(1, 2, 1)\n",
    "sns.heatmap(train_errs_df, vmin=min_err, vmax=max_err, square=True, annot=True, \n",
    "            cbar=False, fmt='.4f', cmap='Reds')\n",
    "plt.title('train errors'); plt.xlabel('pca_componet'); plt.ylabel('imputer')\n",
    "plt.subplot(1, 2, 2)\n",
    "sns.heatmap(val_errs_df, vmin=min_err, vmax=max_err, square=True, annot=True, \n",
    "            cbar=False, fmt='.4f', cmap='Reds')\n",
    "plt.title('validation errors'); plt.xlabel('pca_componet'); plt.ylabel('imputer');"
   ]
  },
  {
   "cell_type": "markdown",
   "metadata": {},
   "source": [
    "**Nhận xét**\n",
    "\n",
    "Kết quả của phương pháp này nhỏ hơn phương pháp đầu tiên, độ lỗi trên tập validation la **0.055**"
   ]
  },
  {
   "cell_type": "markdown",
   "metadata": {},
   "source": [
    "### c. Phương pháp 3\n",
    "Ở phương pháp này, nhóm sẽ lựa chọn đặc tính bằng phương pháp `Pearson's Correlation`"
   ]
  },
  {
   "cell_type": "code",
   "execution_count": 60,
   "metadata": {},
   "outputs": [
    {
     "data": {
      "image/png": "[encoded data removed]",
      "text/plain": [
       "<Figure size 720x720 with 2 Axes>"
      ]
     },
     "metadata": {},
     "output_type": "display_data"
    }
   ],
   "source": [
    "colormap = plt.cm.viridis\n",
    "plt.figure(figsize=(10,10))\n",
    "plt.title('Pearson Correlation of Features', y=1.05, size=15)\n",
    "sns.heatmap(data_df.astype(float).corr(), linewidths=0.1, vmax=1.0, square=True, cmap=colormap, linecolor='white', annot=True)\n",
    "plt.show()"
   ]
  },
  {
   "cell_type": "markdown",
   "metadata": {},
   "source": [
    "- 1 có nghĩa là chúng có tương quan cao\n",
    "- 0 có nghĩa là không có tương quan\n",
    "- -1 có nghĩa là có một mối tương quan nghịch như là một tỷ lệ nghịch.\n",
    "- Do đó chúng ta sẽ bỏ đi những đặc trưng có mối tương quan thấp với humidity"
   ]
  },
  {
   "cell_type": "code",
   "execution_count": 61,
   "metadata": {},
   "outputs": [],
   "source": [
    "class ColDropperPearsonCorrelation(BaseEstimator, TransformerMixin):\n",
    "    def fit(self, X_df, y=None):\n",
    "        return self\n",
    "    def transform(self, X_df, y=None):\n",
    "        tp = X_df.copy()\n",
    "        tp.drop(labels=[\"time\", \"windBearing\", \"cloudCover\", \"uvIndex\"], axis=1, inplace=True)\n",
    "        return tp"
   ]
  },
  {
   "cell_type": "code",
   "execution_count": 62,
   "metadata": {},
   "outputs": [
    {
     "data": {
      "text/html": [
       "<div>\n",
       "<style scoped>\n",
       "    .dataframe tbody tr th:only-of-type {\n",
       "        vertical-align: middle;\n",
       "    }\n",
       "\n",
       "    .dataframe tbody tr th {\n",
       "        vertical-align: top;\n",
       "    }\n",
       "\n",
       "    .dataframe thead th {\n",
       "        text-align: right;\n",
       "    }\n",
       "</style>\n",
       "<table border=\"1\" class=\"dataframe\">\n",
       "  <thead>\n",
       "    <tr style=\"text-align: right;\">\n",
       "      <th></th>\n",
       "      <th>temperature</th>\n",
       "      <th>apparentTemperature</th>\n",
       "      <th>dewPoint</th>\n",
       "      <th>humidity</th>\n",
       "      <th>pressure</th>\n",
       "      <th>windSpeed</th>\n",
       "      <th>visibility</th>\n",
       "    </tr>\n",
       "  </thead>\n",
       "  <tbody>\n",
       "    <tr>\n",
       "      <th>395</th>\n",
       "      <td>68.43</td>\n",
       "      <td>69.06</td>\n",
       "      <td>64.40</td>\n",
       "      <td>0.87</td>\n",
       "      <td>1013.0</td>\n",
       "      <td>6.72</td>\n",
       "      <td>NaN</td>\n",
       "    </tr>\n",
       "    <tr>\n",
       "      <th>388</th>\n",
       "      <td>69.87</td>\n",
       "      <td>71.25</td>\n",
       "      <td>69.81</td>\n",
       "      <td>1.00</td>\n",
       "      <td>1011.8</td>\n",
       "      <td>0.00</td>\n",
       "      <td>4.974</td>\n",
       "    </tr>\n",
       "    <tr>\n",
       "      <th>516</th>\n",
       "      <td>80.65</td>\n",
       "      <td>86.25</td>\n",
       "      <td>75.19</td>\n",
       "      <td>0.84</td>\n",
       "      <td>1007.3</td>\n",
       "      <td>6.72</td>\n",
       "      <td>6.216</td>\n",
       "    </tr>\n",
       "    <tr>\n",
       "      <th>655</th>\n",
       "      <td>77.06</td>\n",
       "      <td>79.15</td>\n",
       "      <td>76.99</td>\n",
       "      <td>1.00</td>\n",
       "      <td>1011.2</td>\n",
       "      <td>4.61</td>\n",
       "      <td>6.216</td>\n",
       "    </tr>\n",
       "    <tr>\n",
       "      <th>614</th>\n",
       "      <td>80.65</td>\n",
       "      <td>87.67</td>\n",
       "      <td>76.99</td>\n",
       "      <td>0.89</td>\n",
       "      <td>1009.3</td>\n",
       "      <td>0.00</td>\n",
       "      <td>6.216</td>\n",
       "    </tr>\n",
       "  </tbody>\n",
       "</table>\n",
       "</div>"
      ],
      "text/plain": [
       "     temperature  apparentTemperature  dewPoint  humidity  pressure  \\\n",
       "395        68.43                69.06     64.40      0.87    1013.0   \n",
       "388        69.87                71.25     69.81      1.00    1011.8   \n",
       "516        80.65                86.25     75.19      0.84    1007.3   \n",
       "655        77.06                79.15     76.99      1.00    1011.2   \n",
       "614        80.65                87.67     76.99      0.89    1009.3   \n",
       "\n",
       "     windSpeed  visibility  \n",
       "395       6.72         NaN  \n",
       "388       0.00       4.974  \n",
       "516       6.72       6.216  \n",
       "655       4.61       6.216  \n",
       "614       0.00       6.216  "
      ]
     },
     "execution_count": 62,
     "metadata": {},
     "output_type": "execute_result"
    }
   ],
   "source": [
    "CD = ColDropperPearsonCorrelation()\n",
    "tp = CD.transform(X_data_train)\n",
    "tp.head()"
   ]
  },
  {
   "cell_type": "code",
   "execution_count": 63,
   "metadata": {},
   "outputs": [],
   "source": [
    "num_col = ['temperature', 'apparentTemperature', 'dewPoint', 'humidity', 'pressure', 'windSpeed', 'visibility']\n",
    "num_col_imp = SimpleImputer(missing_values=np.nan, strategy='mean')\n",
    "num_col_trans = ColumnTransformer(\n",
    "    [(\"num_imp\", SimpleImputer(), num_col)]\n",
    ")\n",
    "method_3 = Pipeline(\n",
    "    steps=[\n",
    "        ('Preprocessing', Processing()),\n",
    "        ('CDPC', ColDropperPearsonCorrelation()),\n",
    "        ('colTrans', num_col_trans),\n",
    "        ('stdScalar', StandardScaler()),\n",
    "        ('linear', LinearRegression())\n",
    "    ]\n",
    ")"
   ]
  },
  {
   "cell_type": "code",
   "execution_count": 64,
   "metadata": {},
   "outputs": [
    {
     "data": {
      "text/plain": [
       "'Finish'"
      ]
     },
     "execution_count": 64,
     "metadata": {},
     "output_type": "execute_result"
    }
   ],
   "source": [
    "imp_method = ['mean', 'median', 'most_frequent']\n",
    "train_errs = []\n",
    "val_errs = []\n",
    "best_val_err = float('inf')\n",
    "best_imp_method = None\n",
    "for i in imp_method:\n",
    "    method_3.set_params(colTrans__num_imp__strategy=i)\n",
    "    model = method_3.fit(X_data_train, y_data_train)\n",
    "    train_errs.append(mean_absolute_error(y_data_train, model.predict(X_data_train)))\n",
    "    val_err = mean_absolute_error(y_data_val, model.predict(X_data_val))\n",
    "    val_errs.append(val_err)\n",
    "    if val_err < best_val_err:\n",
    "        best_val_err = val_err\n",
    "        best_imp_method = i\n",
    "\"Finish\""
   ]
  },
  {
   "cell_type": "code",
   "execution_count": 65,
   "metadata": {},
   "outputs": [
    {
     "name": "stdout",
     "output_type": "stream",
     "text": [
      "0.05626656916504374\n",
      "median\n"
     ]
    }
   ],
   "source": [
    "print(best_val_err)\n",
    "print(best_imp_method)"
   ]
  },
  {
   "cell_type": "code",
   "execution_count": 66,
   "metadata": {},
   "outputs": [
    {
     "name": "stdout",
     "output_type": "stream",
     "text": [
      "[0.05644854348722511, 0.05626656916504374, 0.056486343278944307]\n"
     ]
    },
    {
     "data": {
      "text/plain": [
       "<matplotlib.axes._subplots.AxesSubplot at 0x7f8efe6a4350>"
      ]
     },
     "execution_count": 66,
     "metadata": {},
     "output_type": "execute_result"
    },
    {
     "data": {
      "image/png": "[encoded data removed]",
      "text/plain": [
       "<Figure size 432x288 with 2 Axes>"
      ]
     },
     "metadata": {},
     "output_type": "display_data"
    }
   ],
   "source": [
    "print(val_errs)\n",
    "vis = pd.DataFrame(data = np.array(val_errs).reshape(-1, len(imp_method)), columns=imp_method)\n",
    "sns.heatmap(vis)"
   ]
  },
  {
   "cell_type": "markdown",
   "metadata": {},
   "source": [
    "**Nhận xét**\n",
    "\n",
    "Độ lỗi trên tập validation của phương pháp này khá gần với phương pháp số 2 là **0.056**"
   ]
  },
  {
   "cell_type": "markdown",
   "metadata": {},
   "source": [
    "### d. Phương pháp 4\n",
    "Ở phương pháp này, nhóm sẽ lựa chọn đặc tính bằng phương pháp `SelectKBest`"
   ]
  },
  {
   "cell_type": "code",
   "execution_count": 67,
   "metadata": {},
   "outputs": [
    {
     "name": "stdout",
     "output_type": "stream",
     "text": [
      "<class 'pandas.core.frame.DataFrame'>\n",
      "RangeIndex: 730 entries, 0 to 729\n",
      "Data columns (total 11 columns):\n",
      "time                   730 non-null int64\n",
      "temperature            730 non-null float64\n",
      "apparentTemperature    730 non-null float64\n",
      "dewPoint               730 non-null float64\n",
      "pressure               730 non-null float64\n",
      "windSpeed              730 non-null float64\n",
      "windBearing            730 non-null float64\n",
      "cloudCover             730 non-null float64\n",
      "uvIndex                730 non-null float64\n",
      "visibility             730 non-null float64\n",
      "humidity               730 non-null float64\n",
      "dtypes: float64(10), int64(1)\n",
      "memory usage: 62.9 KB\n"
     ]
    }
   ],
   "source": [
    "temp_df = data_df.copy()\n",
    "temp_df = temp_df[['time', 'temperature', 'apparentTemperature', 'dewPoint', 'pressure', \n",
    "                   'windSpeed', 'windBearing', 'cloudCover', 'uvIndex', 'visibility', 'humidity']]\n",
    "temp_df = temp_df.fillna(temp_df.mean())\n",
    "temp_df.info()"
   ]
  },
  {
   "cell_type": "code",
   "execution_count": 68,
   "metadata": {},
   "outputs": [
    {
     "name": "stdout",
     "output_type": "stream",
     "text": [
      "[3.034e+00 5.845e+01 6.084e+01 5.038e+01 1.066e+01 5.440e+01 2.116e-01\n",
      " 2.201e+01 6.355e+00 2.342e+02]\n",
      "\n",
      "time: 3.0335508787135206\n",
      "temperature: 58.45496004407363\n",
      "apparentTemperature: 60.83930295184576\n",
      "dewPoint: 50.37556216845823\n",
      "pressure: 10.65649431427898\n",
      "windSpeed: 54.400522415896695\n",
      "windBearing: 0.2116486554207015\n",
      "cloudCover: 22.006415065482706\n",
      "uvIndex: 6.354606736242352\n",
      "visibility: 234.17316778418058\n"
     ]
    }
   ],
   "source": [
    "array = temp_df.values\n",
    "X = array[:,0:10]\n",
    "Y = array[:,10]\n",
    "Y = Y.astype('int')\n",
    "\n",
    "test = SelectKBest(f_regression, k=5)\n",
    "fit = test.fit(X,Y)\n",
    "np.set_printoptions(precision=3) \n",
    "\n",
    "print(fit.scores_)\n",
    "print() \n",
    "\n",
    "for i in range(len(temp_df.columns) - 1):\n",
    "    print(str(temp_df.columns[i]) + \": \"  + str(fit.scores_[i]))"
   ]
  },
  {
   "cell_type": "code",
   "execution_count": 69,
   "metadata": {},
   "outputs": [
    {
     "data": {
      "image/png": "[encoded data removed]",
      "text/plain": [
       "<Figure size 720x360 with 1 Axes>"
      ]
     },
     "metadata": {},
     "output_type": "display_data"
    }
   ],
   "source": [
    "columns = temp_df[:-1]\n",
    "features_selection = fit.scores_\n",
    "plt.figure(figsize=(10,5))\n",
    "plt.title(\"Select K Best\")\n",
    "y_pos = np.arange(len(temp_df.columns)-1)\n",
    "plt.bar(y_pos, features_selection, align='center')\n",
    "plt.xticks(y_pos, columns, rotation=90)\n",
    "plt.show()"
   ]
  },
  {
   "cell_type": "code",
   "execution_count": 70,
   "metadata": {},
   "outputs": [],
   "source": [
    "class ColDropperK(BaseEstimator, TransformerMixin):\n",
    "    def fit(self, X_df, y=None):\n",
    "        return self\n",
    "    def transform(self, X_df, y=None):\n",
    "        tp = X_df.copy()\n",
    "        tp.drop(labels=[\"time\", \"pressure\", \"cloudCover\", \"uvIndex\", \"windBearing\"], axis=1, inplace=True)\n",
    "        return tp"
   ]
  },
  {
   "cell_type": "code",
   "execution_count": 71,
   "metadata": {},
   "outputs": [
    {
     "data": {
      "text/html": [
       "<div>\n",
       "<style scoped>\n",
       "    .dataframe tbody tr th:only-of-type {\n",
       "        vertical-align: middle;\n",
       "    }\n",
       "\n",
       "    .dataframe tbody tr th {\n",
       "        vertical-align: top;\n",
       "    }\n",
       "\n",
       "    .dataframe thead th {\n",
       "        text-align: right;\n",
       "    }\n",
       "</style>\n",
       "<table border=\"1\" class=\"dataframe\">\n",
       "  <thead>\n",
       "    <tr style=\"text-align: right;\">\n",
       "      <th></th>\n",
       "      <th>temperature</th>\n",
       "      <th>apparentTemperature</th>\n",
       "      <th>dewPoint</th>\n",
       "      <th>humidity</th>\n",
       "      <th>windSpeed</th>\n",
       "      <th>visibility</th>\n",
       "    </tr>\n",
       "  </thead>\n",
       "  <tbody>\n",
       "    <tr>\n",
       "      <th>395</th>\n",
       "      <td>68.43</td>\n",
       "      <td>69.06</td>\n",
       "      <td>64.40</td>\n",
       "      <td>0.87</td>\n",
       "      <td>6.72</td>\n",
       "      <td>NaN</td>\n",
       "    </tr>\n",
       "    <tr>\n",
       "      <th>388</th>\n",
       "      <td>69.87</td>\n",
       "      <td>71.25</td>\n",
       "      <td>69.81</td>\n",
       "      <td>1.00</td>\n",
       "      <td>0.00</td>\n",
       "      <td>4.974</td>\n",
       "    </tr>\n",
       "    <tr>\n",
       "      <th>516</th>\n",
       "      <td>80.65</td>\n",
       "      <td>86.25</td>\n",
       "      <td>75.19</td>\n",
       "      <td>0.84</td>\n",
       "      <td>6.72</td>\n",
       "      <td>6.216</td>\n",
       "    </tr>\n",
       "    <tr>\n",
       "      <th>655</th>\n",
       "      <td>77.06</td>\n",
       "      <td>79.15</td>\n",
       "      <td>76.99</td>\n",
       "      <td>1.00</td>\n",
       "      <td>4.61</td>\n",
       "      <td>6.216</td>\n",
       "    </tr>\n",
       "    <tr>\n",
       "      <th>614</th>\n",
       "      <td>80.65</td>\n",
       "      <td>87.67</td>\n",
       "      <td>76.99</td>\n",
       "      <td>0.89</td>\n",
       "      <td>0.00</td>\n",
       "      <td>6.216</td>\n",
       "    </tr>\n",
       "  </tbody>\n",
       "</table>\n",
       "</div>"
      ],
      "text/plain": [
       "     temperature  apparentTemperature  dewPoint  humidity  windSpeed  \\\n",
       "395        68.43                69.06     64.40      0.87       6.72   \n",
       "388        69.87                71.25     69.81      1.00       0.00   \n",
       "516        80.65                86.25     75.19      0.84       6.72   \n",
       "655        77.06                79.15     76.99      1.00       4.61   \n",
       "614        80.65                87.67     76.99      0.89       0.00   \n",
       "\n",
       "     visibility  \n",
       "395         NaN  \n",
       "388       4.974  \n",
       "516       6.216  \n",
       "655       6.216  \n",
       "614       6.216  "
      ]
     },
     "execution_count": 71,
     "metadata": {},
     "output_type": "execute_result"
    }
   ],
   "source": [
    "CD = ColDropperK()\n",
    "tp = CD.transform(X_data_train)\n",
    "tp.head()"
   ]
  },
  {
   "cell_type": "code",
   "execution_count": 72,
   "metadata": {},
   "outputs": [],
   "source": [
    "num_col = ['temperature', 'apparentTemperature', 'dewPoint', 'humidity', 'windSpeed', 'visibility']\n",
    "num_col_imp = SimpleImputer(missing_values=np.nan, strategy='mean')\n",
    "num_col_trans = ColumnTransformer(\n",
    "    [(\"num_imp\", SimpleImputer(), num_col)]\n",
    ")\n",
    "method_4 = Pipeline(\n",
    "    steps=[\n",
    "        ('Preprocessing', Processing()),\n",
    "        ('CDK', ColDropperK()),\n",
    "        ('colTrans', num_col_trans),\n",
    "        ('stdScalar', StandardScaler()),\n",
    "        ('linear', LinearRegression())\n",
    "    ]\n",
    ")"
   ]
  },
  {
   "cell_type": "code",
   "execution_count": 73,
   "metadata": {},
   "outputs": [
    {
     "data": {
      "text/plain": [
       "'Finish'"
      ]
     },
     "execution_count": 73,
     "metadata": {},
     "output_type": "execute_result"
    }
   ],
   "source": [
    "imp_method = ['mean', 'median', 'most_frequent']\n",
    "train_errs = []\n",
    "val_errs = []\n",
    "best_val_err = float('inf')\n",
    "best_imp_method = None\n",
    "for i in imp_method:\n",
    "    method_4.set_params(colTrans__num_imp__strategy=i)\n",
    "    model = method_4.fit(X_data_train, y_data_train)\n",
    "    train_errs.append(mean_absolute_error(y_data_train, model.predict(X_data_train)))\n",
    "    val_err = mean_absolute_error(y_data_val, model.predict(X_data_val))\n",
    "    val_errs.append(val_err)\n",
    "    if val_err < best_val_err:\n",
    "        best_val_err = val_err\n",
    "        best_imp_method = i\n",
    "\"Finish\""
   ]
  },
  {
   "cell_type": "code",
   "execution_count": 74,
   "metadata": {},
   "outputs": [
    {
     "name": "stdout",
     "output_type": "stream",
     "text": [
      "0.056762124424080955\n",
      "median\n"
     ]
    }
   ],
   "source": [
    "print(best_val_err)\n",
    "print(best_imp_method)"
   ]
  },
  {
   "cell_type": "code",
   "execution_count": 75,
   "metadata": {},
   "outputs": [
    {
     "name": "stdout",
     "output_type": "stream",
     "text": [
      "[0.05699691235000313, 0.056762124424080955, 0.05677523599990526]\n"
     ]
    },
    {
     "data": {
      "text/plain": [
       "<matplotlib.axes._subplots.AxesSubplot at 0x7f8efc3fb710>"
      ]
     },
     "execution_count": 75,
     "metadata": {},
     "output_type": "execute_result"
    },
    {
     "data": {
      "image/png": "[encoded data removed]",
      "text/plain": [
       "<Figure size 432x288 with 2 Axes>"
      ]
     },
     "metadata": {},
     "output_type": "display_data"
    }
   ],
   "source": [
    "print(val_errs)\n",
    "vis = pd.DataFrame(data = np.array(val_errs).reshape(-1, len(imp_method)), columns=imp_method)\n",
    "sns.heatmap(vis)"
   ]
  },
  {
   "cell_type": "markdown",
   "metadata": {},
   "source": [
    "**Nhận xét**\n",
    "\n",
    "Độ lỗi của phương pháp này hiện tại là lớn nhất **0.056**"
   ]
  },
  {
   "cell_type": "markdown",
   "metadata": {},
   "source": [
    "### e. Phương pháp 5\n",
    "Ở phương pháp này, nhóm sẽ lựa chọn đặc tính bằng phương pháp `Feature Importance`"
   ]
  },
  {
   "cell_type": "code",
   "execution_count": 76,
   "metadata": {},
   "outputs": [
    {
     "name": "stdout",
     "output_type": "stream",
     "text": [
      "time: 0.019766457078773163\n",
      "temperature: 0.20104294496063754\n",
      "apparentTemperature: 0.18794670974657085\n",
      "dewPoint: 0.31554163873971736\n",
      "pressure: 0.017210731856983196\n",
      "windSpeed: 0.01476594726118285\n",
      "windBearing: 0.010328704092641394\n",
      "cloudCover: 0.011438880147828753\n",
      "uvIndex: 0.032864039459408564\n",
      "visibility: 0.18909394665625637\n"
     ]
    },
    {
     "name": "stderr",
     "output_type": "stream",
     "text": [
      "/home/hungnd/anaconda3/envs/my_env/lib/python3.7/site-packages/sklearn/ensemble/forest.py:245: FutureWarning: The default value of n_estimators will change from 10 in version 0.20 to 100 in 0.22.\n",
      "  \"10 in version 0.20 to 100 in 0.22.\", FutureWarning)\n"
     ]
    }
   ],
   "source": [
    "array = temp_df.values\n",
    "X = array[:,0:10]\n",
    "Y = array[:,10]\n",
    "Y = Y.astype('int')\n",
    "\n",
    "model = ExtraTreesRegressor()\n",
    "model.fit(X,Y)\n",
    "for i in range(len(temp_df.columns)-1):\n",
    "    print(str(temp_df.columns[i]) + \": \"  + str(model.feature_importances_[i]))"
   ]
  },
  {
   "cell_type": "code",
   "execution_count": 77,
   "metadata": {},
   "outputs": [
    {
     "data": {
      "image/png": "[encoded data removed]",
      "text/plain": [
       "<Figure size 720x360 with 1 Axes>"
      ]
     },
     "metadata": {},
     "output_type": "display_data"
    }
   ],
   "source": [
    "columns = temp_df[:-1]\n",
    "features_selection = model.feature_importances_\n",
    "plt.figure(figsize=(10,5))\n",
    "plt.title(\"Feature Importance\")\n",
    "y_pos = np.arange(len(temp_df.columns)-1)\n",
    "plt.bar(y_pos, features_selection, align='center')\n",
    "plt.xticks(y_pos, columns, rotation=90)\n",
    "plt.show()"
   ]
  },
  {
   "cell_type": "code",
   "execution_count": 78,
   "metadata": {},
   "outputs": [],
   "source": [
    "class ColDropperFI(BaseEstimator, TransformerMixin):\n",
    "    def fit(self, X_df, y=None):\n",
    "        return self\n",
    "    def transform(self, X_df, y=None):\n",
    "        tp = X_df.copy()\n",
    "        tp.drop(labels=[\"time\", \"pressure\", \"windSpeed\", \"cloudCover\", \"uvIndex\", \"windBearing\"], axis=1, inplace=True)\n",
    "        return tp"
   ]
  },
  {
   "cell_type": "code",
   "execution_count": 79,
   "metadata": {},
   "outputs": [
    {
     "data": {
      "text/html": [
       "<div>\n",
       "<style scoped>\n",
       "    .dataframe tbody tr th:only-of-type {\n",
       "        vertical-align: middle;\n",
       "    }\n",
       "\n",
       "    .dataframe tbody tr th {\n",
       "        vertical-align: top;\n",
       "    }\n",
       "\n",
       "    .dataframe thead th {\n",
       "        text-align: right;\n",
       "    }\n",
       "</style>\n",
       "<table border=\"1\" class=\"dataframe\">\n",
       "  <thead>\n",
       "    <tr style=\"text-align: right;\">\n",
       "      <th></th>\n",
       "      <th>temperature</th>\n",
       "      <th>apparentTemperature</th>\n",
       "      <th>dewPoint</th>\n",
       "      <th>humidity</th>\n",
       "      <th>visibility</th>\n",
       "    </tr>\n",
       "  </thead>\n",
       "  <tbody>\n",
       "    <tr>\n",
       "      <th>395</th>\n",
       "      <td>68.43</td>\n",
       "      <td>69.06</td>\n",
       "      <td>64.40</td>\n",
       "      <td>0.87</td>\n",
       "      <td>NaN</td>\n",
       "    </tr>\n",
       "    <tr>\n",
       "      <th>388</th>\n",
       "      <td>69.87</td>\n",
       "      <td>71.25</td>\n",
       "      <td>69.81</td>\n",
       "      <td>1.00</td>\n",
       "      <td>4.974</td>\n",
       "    </tr>\n",
       "    <tr>\n",
       "      <th>516</th>\n",
       "      <td>80.65</td>\n",
       "      <td>86.25</td>\n",
       "      <td>75.19</td>\n",
       "      <td>0.84</td>\n",
       "      <td>6.216</td>\n",
       "    </tr>\n",
       "    <tr>\n",
       "      <th>655</th>\n",
       "      <td>77.06</td>\n",
       "      <td>79.15</td>\n",
       "      <td>76.99</td>\n",
       "      <td>1.00</td>\n",
       "      <td>6.216</td>\n",
       "    </tr>\n",
       "    <tr>\n",
       "      <th>614</th>\n",
       "      <td>80.65</td>\n",
       "      <td>87.67</td>\n",
       "      <td>76.99</td>\n",
       "      <td>0.89</td>\n",
       "      <td>6.216</td>\n",
       "    </tr>\n",
       "  </tbody>\n",
       "</table>\n",
       "</div>"
      ],
      "text/plain": [
       "     temperature  apparentTemperature  dewPoint  humidity  visibility\n",
       "395        68.43                69.06     64.40      0.87         NaN\n",
       "388        69.87                71.25     69.81      1.00       4.974\n",
       "516        80.65                86.25     75.19      0.84       6.216\n",
       "655        77.06                79.15     76.99      1.00       6.216\n",
       "614        80.65                87.67     76.99      0.89       6.216"
      ]
     },
     "execution_count": 79,
     "metadata": {},
     "output_type": "execute_result"
    }
   ],
   "source": [
    "CD = ColDropperFI()\n",
    "tp = CD.transform(X_data_train)\n",
    "tp.head()"
   ]
  },
  {
   "cell_type": "code",
   "execution_count": 80,
   "metadata": {},
   "outputs": [],
   "source": [
    "num_col = ['temperature', 'apparentTemperature', 'dewPoint', 'humidity', 'visibility']\n",
    "num_col_imp = SimpleImputer(missing_values=np.nan, strategy='mean')\n",
    "num_col_trans = ColumnTransformer(\n",
    "    [(\"num_imp\", SimpleImputer(), num_col)]\n",
    ")\n",
    "method_5 = Pipeline(\n",
    "    steps=[\n",
    "        ('Preprocessing', Processing()),\n",
    "        ('CDFI', ColDropperFI()),\n",
    "        ('colTrans', num_col_trans),\n",
    "        ('stdScalar', StandardScaler()),\n",
    "        ('linear', LinearRegression())\n",
    "    ]\n",
    ")"
   ]
  },
  {
   "cell_type": "code",
   "execution_count": 81,
   "metadata": {},
   "outputs": [
    {
     "data": {
      "text/plain": [
       "'Finish'"
      ]
     },
     "execution_count": 81,
     "metadata": {},
     "output_type": "execute_result"
    }
   ],
   "source": [
    "imp_method = ['mean', 'median', 'most_frequent']\n",
    "train_errs = []\n",
    "val_errs = []\n",
    "best_val_err = float('inf')\n",
    "best_imp_method = None\n",
    "for i in imp_method:\n",
    "    method_5.set_params(colTrans__num_imp__strategy=i)\n",
    "    model = method_5.fit(X_data_train, y_data_train)\n",
    "    train_errs.append(mean_absolute_error(y_data_train, model.predict(X_data_train)))\n",
    "    val_err = mean_absolute_error(y_data_val, model.predict(X_data_val))\n",
    "    val_errs.append(val_err)\n",
    "    y_pred_val = model.predict(X_data_val)\n",
    "    y_data_val = y_data_val.sort_index()\n",
    "    y_pred_val = pd.Series(y_pred_val, index=y_data_val.index)\n",
    "    if val_err < best_val_err:\n",
    "        best_val_err = val_err\n",
    "        best_imp_method = i\n",
    "\"Finish\""
   ]
  },
  {
   "cell_type": "code",
   "execution_count": 82,
   "metadata": {},
   "outputs": [
    {
     "name": "stdout",
     "output_type": "stream",
     "text": [
      "0.05712754706139872\n",
      "mean\n"
     ]
    }
   ],
   "source": [
    "print(best_val_err)\n",
    "print(best_imp_method)"
   ]
  },
  {
   "cell_type": "code",
   "execution_count": 83,
   "metadata": {},
   "outputs": [
    {
     "name": "stdout",
     "output_type": "stream",
     "text": [
      "[0.05712754706139872, 0.07669077889932732, 0.07646826051330256]\n"
     ]
    },
    {
     "data": {
      "text/plain": [
       "<matplotlib.axes._subplots.AxesSubplot at 0x7f8efc3b4750>"
      ]
     },
     "execution_count": 83,
     "metadata": {},
     "output_type": "execute_result"
    },
    {
     "data": {
      "image/png": "[encoded data removed]",
      "text/plain": [
       "<Figure size 432x288 with 2 Axes>"
      ]
     },
     "metadata": {},
     "output_type": "display_data"
    }
   ],
   "source": [
    "print(val_errs)\n",
    "vis = pd.DataFrame(data = np.array(val_errs).reshape(-1, len(imp_method)), columns=imp_method)\n",
    "sns.heatmap(vis)"
   ]
  },
  {
   "cell_type": "markdown",
   "metadata": {},
   "source": [
    "**Nhận xét**\n",
    "\n",
    "Phương pháp này có độ lỗi trên tập validation cũng tương tự như phương pháp số 4 là **0.057**"
   ]
  },
  {
   "cell_type": "markdown",
   "metadata": {},
   "source": [
    "### f. Phương pháp 6\n",
    "Ở phương pháp này, nhóm sẽ lựa chọn mô hình `Neural Network`. Nhóm sẽ chọn luôn phương pháp điền giá trị thiếu là `mean`"
   ]
  },
  {
   "cell_type": "code",
   "execution_count": 84,
   "metadata": {},
   "outputs": [
    {
     "data": {
      "text/html": [
       "<div>\n",
       "<style scoped>\n",
       "    .dataframe tbody tr th:only-of-type {\n",
       "        vertical-align: middle;\n",
       "    }\n",
       "\n",
       "    .dataframe tbody tr th {\n",
       "        vertical-align: top;\n",
       "    }\n",
       "\n",
       "    .dataframe thead th {\n",
       "        text-align: right;\n",
       "    }\n",
       "</style>\n",
       "<table border=\"1\" class=\"dataframe\">\n",
       "  <thead>\n",
       "    <tr style=\"text-align: right;\">\n",
       "      <th></th>\n",
       "      <th>time</th>\n",
       "      <th>temperature</th>\n",
       "      <th>apparentTemperature</th>\n",
       "      <th>dewPoint</th>\n",
       "      <th>humidity</th>\n",
       "      <th>pressure</th>\n",
       "      <th>windSpeed</th>\n",
       "      <th>windBearing</th>\n",
       "      <th>cloudCover</th>\n",
       "      <th>uvIndex</th>\n",
       "      <th>visibility</th>\n",
       "    </tr>\n",
       "  </thead>\n",
       "  <tbody>\n",
       "    <tr>\n",
       "      <th>395</th>\n",
       "      <td>1296432000</td>\n",
       "      <td>68.43</td>\n",
       "      <td>69.06</td>\n",
       "      <td>64.40</td>\n",
       "      <td>0.87</td>\n",
       "      <td>1013.0</td>\n",
       "      <td>6.72</td>\n",
       "      <td>0.0</td>\n",
       "      <td>0.25</td>\n",
       "      <td>0.0</td>\n",
       "      <td>NaN</td>\n",
       "    </tr>\n",
       "    <tr>\n",
       "      <th>388</th>\n",
       "      <td>1295827200</td>\n",
       "      <td>69.87</td>\n",
       "      <td>71.25</td>\n",
       "      <td>69.81</td>\n",
       "      <td>1.00</td>\n",
       "      <td>1011.8</td>\n",
       "      <td>0.00</td>\n",
       "      <td>NaN</td>\n",
       "      <td>0.44</td>\n",
       "      <td>0.0</td>\n",
       "      <td>4.974</td>\n",
       "    </tr>\n",
       "    <tr>\n",
       "      <th>516</th>\n",
       "      <td>1306886400</td>\n",
       "      <td>80.65</td>\n",
       "      <td>86.25</td>\n",
       "      <td>75.19</td>\n",
       "      <td>0.84</td>\n",
       "      <td>1007.3</td>\n",
       "      <td>6.72</td>\n",
       "      <td>NaN</td>\n",
       "      <td>0.44</td>\n",
       "      <td>1.0</td>\n",
       "      <td>6.216</td>\n",
       "    </tr>\n",
       "    <tr>\n",
       "      <th>655</th>\n",
       "      <td>1318896000</td>\n",
       "      <td>77.06</td>\n",
       "      <td>79.15</td>\n",
       "      <td>76.99</td>\n",
       "      <td>1.00</td>\n",
       "      <td>1011.2</td>\n",
       "      <td>4.61</td>\n",
       "      <td>0.0</td>\n",
       "      <td>0.44</td>\n",
       "      <td>1.0</td>\n",
       "      <td>6.216</td>\n",
       "    </tr>\n",
       "    <tr>\n",
       "      <th>614</th>\n",
       "      <td>1315353600</td>\n",
       "      <td>80.65</td>\n",
       "      <td>87.67</td>\n",
       "      <td>76.99</td>\n",
       "      <td>0.89</td>\n",
       "      <td>1009.3</td>\n",
       "      <td>0.00</td>\n",
       "      <td>NaN</td>\n",
       "      <td>0.44</td>\n",
       "      <td>1.0</td>\n",
       "      <td>6.216</td>\n",
       "    </tr>\n",
       "  </tbody>\n",
       "</table>\n",
       "</div>"
      ],
      "text/plain": [
       "           time  temperature  apparentTemperature  dewPoint  humidity  \\\n",
       "395  1296432000        68.43                69.06     64.40      0.87   \n",
       "388  1295827200        69.87                71.25     69.81      1.00   \n",
       "516  1306886400        80.65                86.25     75.19      0.84   \n",
       "655  1318896000        77.06                79.15     76.99      1.00   \n",
       "614  1315353600        80.65                87.67     76.99      0.89   \n",
       "\n",
       "     pressure  windSpeed  windBearing  cloudCover  uvIndex  visibility  \n",
       "395    1013.0       6.72          0.0        0.25      0.0         NaN  \n",
       "388    1011.8       0.00          NaN        0.44      0.0       4.974  \n",
       "516    1007.3       6.72          NaN        0.44      1.0       6.216  \n",
       "655    1011.2       4.61          0.0        0.44      1.0       6.216  \n",
       "614    1009.3       0.00          NaN        0.44      1.0       6.216  "
      ]
     },
     "execution_count": 84,
     "metadata": {},
     "output_type": "execute_result"
    }
   ],
   "source": [
    "X_data_train.head()"
   ]
  },
  {
   "cell_type": "code",
   "execution_count": 85,
   "metadata": {},
   "outputs": [],
   "source": [
    "num_col = ['time', 'temperature', 'apparentTemperature', 'dewPoint','humidity','pressure',\n",
    "           'windSpeed','windBearing','cloudCover','uvIndex','visibility']\n",
    "num_col_imp = SimpleImputer(missing_values=np.nan, strategy='mean')\n",
    "Preprocessing = Processing()\n",
    "num_col_trans = ColumnTransformer(\n",
    "    [(\"num_imp\", SimpleImputer(), num_col)]\n",
    ")"
   ]
  },
  {
   "cell_type": "code",
   "execution_count": 86,
   "metadata": {},
   "outputs": [],
   "source": [
    "scaler_model = StandardScaler()\n",
    "neural_net_model = MLPRegressor(hidden_layer_sizes=20, activation=\"logistic\",max_iter=1000, random_state=0)\n",
    "method_6 = make_pipeline(Preprocessing, num_col_trans, scaler_model, neural_net_model)"
   ]
  },
  {
   "cell_type": "code",
   "execution_count": 87,
   "metadata": {},
   "outputs": [
    {
     "data": {
      "text/plain": [
       "'Finish!'"
      ]
     },
     "execution_count": 87,
     "metadata": {},
     "output_type": "execute_result"
    }
   ],
   "source": [
    "train_errs = []\n",
    "val_errs = []\n",
    "alphas = [0.01, 0.1, 1, 10, 100, 1000]\n",
    "hLayer = [1, 5, 10, 15, 20, 100]\n",
    "best_val_err = float('inf') \n",
    "best_alpha = None\n",
    "best_hlayer = None\n",
    "for alpha in alphas:\n",
    "    for h in hLayer:\n",
    "        method_6.set_params(mlpregressor__alpha=alpha, mlpregressor__hidden_layer_sizes=h)\n",
    "        model = method_6.fit(X_data_train, y_data_train)\n",
    "        train_errs.append(mean_absolute_error(y_data_train, model.predict(X_data_train)))\n",
    "        val_err = mean_absolute_error(y_data_val, model.predict(X_data_val))\n",
    "        val_errs.append(val_err)\n",
    "        if val_err < best_val_err:\n",
    "            best_val_err = val_err\n",
    "            best_alpha = alpha\n",
    "            best_hlayer = h\n",
    "'Finish!'"
   ]
  },
  {
   "cell_type": "code",
   "execution_count": 88,
   "metadata": {},
   "outputs": [
    {
     "name": "stdout",
     "output_type": "stream",
     "text": [
      "0.07017665761627505\n",
      "0.1\n",
      "1\n"
     ]
    }
   ],
   "source": [
    "print(best_val_err)\n",
    "print(best_alpha)\n",
    "print(best_hlayer)"
   ]
  },
  {
   "cell_type": "code",
   "execution_count": 89,
   "metadata": {},
   "outputs": [
    {
     "data": {
      "image/png": "[encoded data removed]",
      "text/plain": [
       "<Figure size 1440x1440 with 2 Axes>"
      ]
     },
     "metadata": {},
     "output_type": "display_data"
    }
   ],
   "source": [
    "# Trực quan hóa kết quả\n",
    "train_errs_df = pd.DataFrame(data=np.array(train_errs).reshape(len(alphas), -1),\n",
    "                             index=alphas, columns=hLayer)\n",
    "val_errs_df = pd.DataFrame(data=np.array(val_errs).reshape(len(alphas), -1), \n",
    "                           index=alphas, columns=hLayer)\n",
    "min_err = min(min(train_errs), min(val_errs))\n",
    "max_err = max(max(train_errs), max(val_errs))\n",
    "plt.figure(figsize=(20, 20))\n",
    "plt.subplot(1, 2, 1)\n",
    "sns.heatmap(train_errs_df, vmin=min_err, vmax=max_err, square=True, annot=True, \n",
    "            cbar=False, fmt='.4f', cmap='Reds')\n",
    "plt.title('train errors'); plt.xlabel('Number of Layer'); plt.ylabel('alphas')\n",
    "plt.subplot(1, 2, 2)\n",
    "sns.heatmap(val_errs_df, vmin=min_err, vmax=max_err, square=True, annot=True, \n",
    "            cbar=False, fmt='.4f', cmap='Reds')\n",
    "plt.title('validation errors'); plt.xlabel('Number of Layer'); plt.ylabel('alphas');"
   ]
  },
  {
   "cell_type": "markdown",
   "metadata": {},
   "source": [
    "**Nhận xét**\n",
    "\n",
    "Kết quả của mô hình `MLPRegressor` cũng không tốt hơn các phương pháp mà nhóm đã làm. Độ lỗi là **0.07**"
   ]
  },
  {
   "cell_type": "markdown",
   "metadata": {},
   "source": [
    "### g. Phương pháp 7\n",
    "Nhóm nghĩ dùng 1 ngày để dự đoán ngày hôm sau sẽ không đủ nên sẽ dùng `k` ngày. Ở đây nhóm thử trường hợp `k = 14` và nhóm chỉ lấy cột `humidity` của `k` ngày này còn các cột khác nhóm sẽ bỏ. Bên dưới nhóm sẽ duyệt lần lượt số ngày trước ngày cần dự đoán"
   ]
  },
  {
   "cell_type": "code",
   "execution_count": 90,
   "metadata": {},
   "outputs": [],
   "source": [
    "class FinalPreprocessing(BaseEstimator, TransformerMixin):\n",
    "    def fit(self, X_df, y=None):\n",
    "        return self\n",
    "    def transform(self, X_df, y=None):\n",
    "        train_dummy = X_df.copy()\n",
    "        train_dummy.loc[:,\"humidity\"] = train_dummy[\"humidity\"].apply(lambda x: 1 if x >= 0.97 else x)\n",
    "        train_dummy.loc[:,\"humidity\"] = train_dummy[\"humidity\"].apply(lambda x: 0.94 if x >= 0.92 and x <= 0.94 else x)\n",
    "        train_dummy.loc[:,\"humidity\"] = train_dummy[\"humidity\"].apply(lambda x: 0.84 if x >= 0.84  and x <= 0.87 else x)\n",
    "        train_dummy.loc[:,\"humidity\"] = train_dummy[\"humidity\"].apply(lambda x: 0.79 if x >= 0.79 and x < 0.83 else x)\n",
    "        train_dummy.loc[:,\"humidity\"] = train_dummy[\"humidity\"].apply(lambda x: 0.72 if x <= 0.77 else x)\n",
    "        return train_dummy"
   ]
  },
  {
   "cell_type": "code",
   "execution_count": 91,
   "metadata": {},
   "outputs": [],
   "source": [
    "k = 14\n",
    "for i in range(k):\n",
    "    title = \"day_\" + str(i + 1)\n",
    "    humidity = data_df.humidity.copy().to_list()\n",
    "    N = len(humidity)\n",
    "    tp = [0] * (i + 1) + humidity[: N - i - 1]\n",
    "    data_df[title] = pd.Series(tp, index=data_df.index)"
   ]
  },
  {
   "cell_type": "code",
   "execution_count": 92,
   "metadata": {},
   "outputs": [
    {
     "data": {
      "text/html": [
       "<div>\n",
       "<style scoped>\n",
       "    .dataframe tbody tr th:only-of-type {\n",
       "        vertical-align: middle;\n",
       "    }\n",
       "\n",
       "    .dataframe tbody tr th {\n",
       "        vertical-align: top;\n",
       "    }\n",
       "\n",
       "    .dataframe thead th {\n",
       "        text-align: right;\n",
       "    }\n",
       "</style>\n",
       "<table border=\"1\" class=\"dataframe\">\n",
       "  <thead>\n",
       "    <tr style=\"text-align: right;\">\n",
       "      <th></th>\n",
       "      <th>time</th>\n",
       "      <th>temperature</th>\n",
       "      <th>apparentTemperature</th>\n",
       "      <th>dewPoint</th>\n",
       "      <th>humidity</th>\n",
       "      <th>pressure</th>\n",
       "      <th>windSpeed</th>\n",
       "      <th>windBearing</th>\n",
       "      <th>cloudCover</th>\n",
       "      <th>uvIndex</th>\n",
       "      <th>...</th>\n",
       "      <th>day_5</th>\n",
       "      <th>day_6</th>\n",
       "      <th>day_7</th>\n",
       "      <th>day_8</th>\n",
       "      <th>day_9</th>\n",
       "      <th>day_10</th>\n",
       "      <th>day_11</th>\n",
       "      <th>day_12</th>\n",
       "      <th>day_13</th>\n",
       "      <th>day_14</th>\n",
       "    </tr>\n",
       "  </thead>\n",
       "  <tbody>\n",
       "    <tr>\n",
       "      <th>0</th>\n",
       "      <td>1262304000</td>\n",
       "      <td>73.45</td>\n",
       "      <td>75.07</td>\n",
       "      <td>72.69</td>\n",
       "      <td>0.97</td>\n",
       "      <td>1010.3</td>\n",
       "      <td>6.72</td>\n",
       "      <td>71.0</td>\n",
       "      <td>0.50</td>\n",
       "      <td>0.0</td>\n",
       "      <td>...</td>\n",
       "      <td>0.0</td>\n",
       "      <td>0.0</td>\n",
       "      <td>0.0</td>\n",
       "      <td>0.0</td>\n",
       "      <td>0.0</td>\n",
       "      <td>0.0</td>\n",
       "      <td>0.0</td>\n",
       "      <td>0.0</td>\n",
       "      <td>0.0</td>\n",
       "      <td>0.0</td>\n",
       "    </tr>\n",
       "    <tr>\n",
       "      <th>1</th>\n",
       "      <td>1262390400</td>\n",
       "      <td>71.67</td>\n",
       "      <td>72.95</td>\n",
       "      <td>69.81</td>\n",
       "      <td>0.94</td>\n",
       "      <td>1011.0</td>\n",
       "      <td>2.29</td>\n",
       "      <td>41.0</td>\n",
       "      <td>0.44</td>\n",
       "      <td>0.0</td>\n",
       "      <td>...</td>\n",
       "      <td>0.0</td>\n",
       "      <td>0.0</td>\n",
       "      <td>0.0</td>\n",
       "      <td>0.0</td>\n",
       "      <td>0.0</td>\n",
       "      <td>0.0</td>\n",
       "      <td>0.0</td>\n",
       "      <td>0.0</td>\n",
       "      <td>0.0</td>\n",
       "      <td>0.0</td>\n",
       "    </tr>\n",
       "    <tr>\n",
       "      <th>2</th>\n",
       "      <td>1262476800</td>\n",
       "      <td>75.25</td>\n",
       "      <td>76.89</td>\n",
       "      <td>73.39</td>\n",
       "      <td>0.94</td>\n",
       "      <td>1011.6</td>\n",
       "      <td>1.16</td>\n",
       "      <td>30.0</td>\n",
       "      <td>0.75</td>\n",
       "      <td>0.0</td>\n",
       "      <td>...</td>\n",
       "      <td>0.0</td>\n",
       "      <td>0.0</td>\n",
       "      <td>0.0</td>\n",
       "      <td>0.0</td>\n",
       "      <td>0.0</td>\n",
       "      <td>0.0</td>\n",
       "      <td>0.0</td>\n",
       "      <td>0.0</td>\n",
       "      <td>0.0</td>\n",
       "      <td>0.0</td>\n",
       "    </tr>\n",
       "    <tr>\n",
       "      <th>3</th>\n",
       "      <td>1262563200</td>\n",
       "      <td>75.25</td>\n",
       "      <td>76.64</td>\n",
       "      <td>71.61</td>\n",
       "      <td>0.88</td>\n",
       "      <td>1010.9</td>\n",
       "      <td>3.46</td>\n",
       "      <td>71.0</td>\n",
       "      <td>0.75</td>\n",
       "      <td>0.0</td>\n",
       "      <td>...</td>\n",
       "      <td>0.0</td>\n",
       "      <td>0.0</td>\n",
       "      <td>0.0</td>\n",
       "      <td>0.0</td>\n",
       "      <td>0.0</td>\n",
       "      <td>0.0</td>\n",
       "      <td>0.0</td>\n",
       "      <td>0.0</td>\n",
       "      <td>0.0</td>\n",
       "      <td>0.0</td>\n",
       "    </tr>\n",
       "    <tr>\n",
       "      <th>4</th>\n",
       "      <td>1262649600</td>\n",
       "      <td>75.25</td>\n",
       "      <td>76.89</td>\n",
       "      <td>73.39</td>\n",
       "      <td>0.94</td>\n",
       "      <td>1010.1</td>\n",
       "      <td>6.91</td>\n",
       "      <td>120.0</td>\n",
       "      <td>0.44</td>\n",
       "      <td>0.0</td>\n",
       "      <td>...</td>\n",
       "      <td>0.0</td>\n",
       "      <td>0.0</td>\n",
       "      <td>0.0</td>\n",
       "      <td>0.0</td>\n",
       "      <td>0.0</td>\n",
       "      <td>0.0</td>\n",
       "      <td>0.0</td>\n",
       "      <td>0.0</td>\n",
       "      <td>0.0</td>\n",
       "      <td>0.0</td>\n",
       "    </tr>\n",
       "  </tbody>\n",
       "</table>\n",
       "<p>5 rows × 25 columns</p>\n",
       "</div>"
      ],
      "text/plain": [
       "         time  temperature  apparentTemperature  dewPoint  humidity  pressure  \\\n",
       "0  1262304000        73.45                75.07     72.69      0.97    1010.3   \n",
       "1  1262390400        71.67                72.95     69.81      0.94    1011.0   \n",
       "2  1262476800        75.25                76.89     73.39      0.94    1011.6   \n",
       "3  1262563200        75.25                76.64     71.61      0.88    1010.9   \n",
       "4  1262649600        75.25                76.89     73.39      0.94    1010.1   \n",
       "\n",
       "   windSpeed  windBearing  cloudCover  uvIndex  ...  day_5  day_6  day_7  \\\n",
       "0       6.72         71.0        0.50      0.0  ...    0.0    0.0    0.0   \n",
       "1       2.29         41.0        0.44      0.0  ...    0.0    0.0    0.0   \n",
       "2       1.16         30.0        0.75      0.0  ...    0.0    0.0    0.0   \n",
       "3       3.46         71.0        0.75      0.0  ...    0.0    0.0    0.0   \n",
       "4       6.91        120.0        0.44      0.0  ...    0.0    0.0    0.0   \n",
       "\n",
       "   day_8  day_9  day_10  day_11  day_12  day_13  day_14  \n",
       "0    0.0    0.0     0.0     0.0     0.0     0.0     0.0  \n",
       "1    0.0    0.0     0.0     0.0     0.0     0.0     0.0  \n",
       "2    0.0    0.0     0.0     0.0     0.0     0.0     0.0  \n",
       "3    0.0    0.0     0.0     0.0     0.0     0.0     0.0  \n",
       "4    0.0    0.0     0.0     0.0     0.0     0.0     0.0  \n",
       "\n",
       "[5 rows x 25 columns]"
      ]
     },
     "execution_count": 92,
     "metadata": {},
     "output_type": "execute_result"
    }
   ],
   "source": [
    "data_df.head()"
   ]
  },
  {
   "cell_type": "code",
   "execution_count": 93,
   "metadata": {},
   "outputs": [
    {
     "data": {
      "text/html": [
       "<div>\n",
       "<style scoped>\n",
       "    .dataframe tbody tr th:only-of-type {\n",
       "        vertical-align: middle;\n",
       "    }\n",
       "\n",
       "    .dataframe tbody tr th {\n",
       "        vertical-align: top;\n",
       "    }\n",
       "\n",
       "    .dataframe thead th {\n",
       "        text-align: right;\n",
       "    }\n",
       "</style>\n",
       "<table border=\"1\" class=\"dataframe\">\n",
       "  <thead>\n",
       "    <tr style=\"text-align: right;\">\n",
       "      <th></th>\n",
       "      <th>time</th>\n",
       "      <th>temperature</th>\n",
       "      <th>apparentTemperature</th>\n",
       "      <th>dewPoint</th>\n",
       "      <th>humidity</th>\n",
       "      <th>pressure</th>\n",
       "      <th>windSpeed</th>\n",
       "      <th>windBearing</th>\n",
       "      <th>cloudCover</th>\n",
       "      <th>uvIndex</th>\n",
       "      <th>...</th>\n",
       "      <th>day_5</th>\n",
       "      <th>day_6</th>\n",
       "      <th>day_7</th>\n",
       "      <th>day_8</th>\n",
       "      <th>day_9</th>\n",
       "      <th>day_10</th>\n",
       "      <th>day_11</th>\n",
       "      <th>day_12</th>\n",
       "      <th>day_13</th>\n",
       "      <th>day_14</th>\n",
       "    </tr>\n",
       "  </thead>\n",
       "  <tbody>\n",
       "    <tr>\n",
       "      <th>14</th>\n",
       "      <td>1263513600</td>\n",
       "      <td>66.27</td>\n",
       "      <td>67.29</td>\n",
       "      <td>66.21</td>\n",
       "      <td>1.00</td>\n",
       "      <td>1016.1</td>\n",
       "      <td>3.46</td>\n",
       "      <td>320.0</td>\n",
       "      <td>0.44</td>\n",
       "      <td>0.0</td>\n",
       "      <td>...</td>\n",
       "      <td>0.88</td>\n",
       "      <td>1.00</td>\n",
       "      <td>1.00</td>\n",
       "      <td>0.94</td>\n",
       "      <td>0.88</td>\n",
       "      <td>0.94</td>\n",
       "      <td>0.88</td>\n",
       "      <td>0.94</td>\n",
       "      <td>0.94</td>\n",
       "      <td>0.97</td>\n",
       "    </tr>\n",
       "    <tr>\n",
       "      <th>15</th>\n",
       "      <td>1263600000</td>\n",
       "      <td>69.87</td>\n",
       "      <td>70.21</td>\n",
       "      <td>62.59</td>\n",
       "      <td>0.78</td>\n",
       "      <td>1015.6</td>\n",
       "      <td>5.74</td>\n",
       "      <td>11.0</td>\n",
       "      <td>0.75</td>\n",
       "      <td>0.0</td>\n",
       "      <td>...</td>\n",
       "      <td>0.94</td>\n",
       "      <td>0.88</td>\n",
       "      <td>1.00</td>\n",
       "      <td>1.00</td>\n",
       "      <td>0.94</td>\n",
       "      <td>0.88</td>\n",
       "      <td>0.94</td>\n",
       "      <td>0.88</td>\n",
       "      <td>0.94</td>\n",
       "      <td>0.94</td>\n",
       "    </tr>\n",
       "    <tr>\n",
       "      <th>16</th>\n",
       "      <td>1263686400</td>\n",
       "      <td>69.87</td>\n",
       "      <td>70.45</td>\n",
       "      <td>64.40</td>\n",
       "      <td>0.83</td>\n",
       "      <td>1015.6</td>\n",
       "      <td>6.72</td>\n",
       "      <td>NaN</td>\n",
       "      <td>0.44</td>\n",
       "      <td>0.0</td>\n",
       "      <td>...</td>\n",
       "      <td>1.00</td>\n",
       "      <td>0.94</td>\n",
       "      <td>0.88</td>\n",
       "      <td>1.00</td>\n",
       "      <td>1.00</td>\n",
       "      <td>0.94</td>\n",
       "      <td>0.88</td>\n",
       "      <td>0.94</td>\n",
       "      <td>0.88</td>\n",
       "      <td>0.94</td>\n",
       "    </tr>\n",
       "    <tr>\n",
       "      <th>17</th>\n",
       "      <td>1263772800</td>\n",
       "      <td>69.87</td>\n",
       "      <td>70.70</td>\n",
       "      <td>66.21</td>\n",
       "      <td>0.88</td>\n",
       "      <td>1014.1</td>\n",
       "      <td>2.29</td>\n",
       "      <td>300.0</td>\n",
       "      <td>0.75</td>\n",
       "      <td>0.0</td>\n",
       "      <td>...</td>\n",
       "      <td>1.00</td>\n",
       "      <td>1.00</td>\n",
       "      <td>0.94</td>\n",
       "      <td>0.88</td>\n",
       "      <td>1.00</td>\n",
       "      <td>1.00</td>\n",
       "      <td>0.94</td>\n",
       "      <td>0.88</td>\n",
       "      <td>0.94</td>\n",
       "      <td>0.88</td>\n",
       "    </tr>\n",
       "    <tr>\n",
       "      <th>18</th>\n",
       "      <td>1263859200</td>\n",
       "      <td>73.45</td>\n",
       "      <td>74.65</td>\n",
       "      <td>69.81</td>\n",
       "      <td>0.88</td>\n",
       "      <td>1012.0</td>\n",
       "      <td>4.61</td>\n",
       "      <td>350.0</td>\n",
       "      <td>0.75</td>\n",
       "      <td>0.0</td>\n",
       "      <td>...</td>\n",
       "      <td>0.94</td>\n",
       "      <td>1.00</td>\n",
       "      <td>1.00</td>\n",
       "      <td>0.94</td>\n",
       "      <td>0.88</td>\n",
       "      <td>1.00</td>\n",
       "      <td>1.00</td>\n",
       "      <td>0.94</td>\n",
       "      <td>0.88</td>\n",
       "      <td>0.94</td>\n",
       "    </tr>\n",
       "    <tr>\n",
       "      <th>...</th>\n",
       "      <td>...</td>\n",
       "      <td>...</td>\n",
       "      <td>...</td>\n",
       "      <td>...</td>\n",
       "      <td>...</td>\n",
       "      <td>...</td>\n",
       "      <td>...</td>\n",
       "      <td>...</td>\n",
       "      <td>...</td>\n",
       "      <td>...</td>\n",
       "      <td>...</td>\n",
       "      <td>...</td>\n",
       "      <td>...</td>\n",
       "      <td>...</td>\n",
       "      <td>...</td>\n",
       "      <td>...</td>\n",
       "      <td>...</td>\n",
       "      <td>...</td>\n",
       "      <td>...</td>\n",
       "      <td>...</td>\n",
       "      <td>...</td>\n",
       "    </tr>\n",
       "    <tr>\n",
       "      <th>725</th>\n",
       "      <td>1324944000</td>\n",
       "      <td>71.67</td>\n",
       "      <td>72.95</td>\n",
       "      <td>69.81</td>\n",
       "      <td>0.94</td>\n",
       "      <td>1012.0</td>\n",
       "      <td>4.61</td>\n",
       "      <td>0.0</td>\n",
       "      <td>0.75</td>\n",
       "      <td>0.0</td>\n",
       "      <td>...</td>\n",
       "      <td>1.00</td>\n",
       "      <td>0.94</td>\n",
       "      <td>0.83</td>\n",
       "      <td>0.83</td>\n",
       "      <td>0.83</td>\n",
       "      <td>0.88</td>\n",
       "      <td>1.00</td>\n",
       "      <td>1.00</td>\n",
       "      <td>0.94</td>\n",
       "      <td>0.78</td>\n",
       "    </tr>\n",
       "    <tr>\n",
       "      <th>726</th>\n",
       "      <td>1325030400</td>\n",
       "      <td>73.45</td>\n",
       "      <td>75.18</td>\n",
       "      <td>73.39</td>\n",
       "      <td>1.00</td>\n",
       "      <td>1013.7</td>\n",
       "      <td>4.61</td>\n",
       "      <td>11.0</td>\n",
       "      <td>0.75</td>\n",
       "      <td>0.0</td>\n",
       "      <td>...</td>\n",
       "      <td>0.88</td>\n",
       "      <td>1.00</td>\n",
       "      <td>0.94</td>\n",
       "      <td>0.83</td>\n",
       "      <td>0.83</td>\n",
       "      <td>0.83</td>\n",
       "      <td>0.88</td>\n",
       "      <td>1.00</td>\n",
       "      <td>1.00</td>\n",
       "      <td>0.94</td>\n",
       "    </tr>\n",
       "    <tr>\n",
       "      <th>727</th>\n",
       "      <td>1325116800</td>\n",
       "      <td>71.67</td>\n",
       "      <td>72.44</td>\n",
       "      <td>66.21</td>\n",
       "      <td>0.83</td>\n",
       "      <td>1012.8</td>\n",
       "      <td>2.29</td>\n",
       "      <td>11.0</td>\n",
       "      <td>0.44</td>\n",
       "      <td>0.0</td>\n",
       "      <td>...</td>\n",
       "      <td>0.78</td>\n",
       "      <td>0.88</td>\n",
       "      <td>1.00</td>\n",
       "      <td>0.94</td>\n",
       "      <td>0.83</td>\n",
       "      <td>0.83</td>\n",
       "      <td>0.83</td>\n",
       "      <td>0.88</td>\n",
       "      <td>1.00</td>\n",
       "      <td>1.00</td>\n",
       "    </tr>\n",
       "    <tr>\n",
       "      <th>728</th>\n",
       "      <td>1325203200</td>\n",
       "      <td>73.45</td>\n",
       "      <td>74.65</td>\n",
       "      <td>69.81</td>\n",
       "      <td>0.88</td>\n",
       "      <td>1012.4</td>\n",
       "      <td>4.61</td>\n",
       "      <td>0.0</td>\n",
       "      <td>0.44</td>\n",
       "      <td>0.0</td>\n",
       "      <td>...</td>\n",
       "      <td>0.83</td>\n",
       "      <td>0.78</td>\n",
       "      <td>0.88</td>\n",
       "      <td>1.00</td>\n",
       "      <td>0.94</td>\n",
       "      <td>0.83</td>\n",
       "      <td>0.83</td>\n",
       "      <td>0.83</td>\n",
       "      <td>0.88</td>\n",
       "      <td>1.00</td>\n",
       "    </tr>\n",
       "    <tr>\n",
       "      <th>729</th>\n",
       "      <td>1325289600</td>\n",
       "      <td>73.45</td>\n",
       "      <td>74.91</td>\n",
       "      <td>71.61</td>\n",
       "      <td>0.94</td>\n",
       "      <td>1013.1</td>\n",
       "      <td>4.61</td>\n",
       "      <td>11.0</td>\n",
       "      <td>0.75</td>\n",
       "      <td>0.0</td>\n",
       "      <td>...</td>\n",
       "      <td>0.83</td>\n",
       "      <td>0.83</td>\n",
       "      <td>0.78</td>\n",
       "      <td>0.88</td>\n",
       "      <td>1.00</td>\n",
       "      <td>0.94</td>\n",
       "      <td>0.83</td>\n",
       "      <td>0.83</td>\n",
       "      <td>0.83</td>\n",
       "      <td>0.88</td>\n",
       "    </tr>\n",
       "  </tbody>\n",
       "</table>\n",
       "<p>716 rows × 25 columns</p>\n",
       "</div>"
      ],
      "text/plain": [
       "           time  temperature  apparentTemperature  dewPoint  humidity  \\\n",
       "14   1263513600        66.27                67.29     66.21      1.00   \n",
       "15   1263600000        69.87                70.21     62.59      0.78   \n",
       "16   1263686400        69.87                70.45     64.40      0.83   \n",
       "17   1263772800        69.87                70.70     66.21      0.88   \n",
       "18   1263859200        73.45                74.65     69.81      0.88   \n",
       "..          ...          ...                  ...       ...       ...   \n",
       "725  1324944000        71.67                72.95     69.81      0.94   \n",
       "726  1325030400        73.45                75.18     73.39      1.00   \n",
       "727  1325116800        71.67                72.44     66.21      0.83   \n",
       "728  1325203200        73.45                74.65     69.81      0.88   \n",
       "729  1325289600        73.45                74.91     71.61      0.94   \n",
       "\n",
       "     pressure  windSpeed  windBearing  cloudCover  uvIndex  ...  day_5  day_6  \\\n",
       "14     1016.1       3.46        320.0        0.44      0.0  ...   0.88   1.00   \n",
       "15     1015.6       5.74         11.0        0.75      0.0  ...   0.94   0.88   \n",
       "16     1015.6       6.72          NaN        0.44      0.0  ...   1.00   0.94   \n",
       "17     1014.1       2.29        300.0        0.75      0.0  ...   1.00   1.00   \n",
       "18     1012.0       4.61        350.0        0.75      0.0  ...   0.94   1.00   \n",
       "..        ...        ...          ...         ...      ...  ...    ...    ...   \n",
       "725    1012.0       4.61          0.0        0.75      0.0  ...   1.00   0.94   \n",
       "726    1013.7       4.61         11.0        0.75      0.0  ...   0.88   1.00   \n",
       "727    1012.8       2.29         11.0        0.44      0.0  ...   0.78   0.88   \n",
       "728    1012.4       4.61          0.0        0.44      0.0  ...   0.83   0.78   \n",
       "729    1013.1       4.61         11.0        0.75      0.0  ...   0.83   0.83   \n",
       "\n",
       "     day_7  day_8  day_9  day_10  day_11  day_12  day_13  day_14  \n",
       "14    1.00   0.94   0.88    0.94    0.88    0.94    0.94    0.97  \n",
       "15    1.00   1.00   0.94    0.88    0.94    0.88    0.94    0.94  \n",
       "16    0.88   1.00   1.00    0.94    0.88    0.94    0.88    0.94  \n",
       "17    0.94   0.88   1.00    1.00    0.94    0.88    0.94    0.88  \n",
       "18    1.00   0.94   0.88    1.00    1.00    0.94    0.88    0.94  \n",
       "..     ...    ...    ...     ...     ...     ...     ...     ...  \n",
       "725   0.83   0.83   0.83    0.88    1.00    1.00    0.94    0.78  \n",
       "726   0.94   0.83   0.83    0.83    0.88    1.00    1.00    0.94  \n",
       "727   1.00   0.94   0.83    0.83    0.83    0.88    1.00    1.00  \n",
       "728   0.88   1.00   0.94    0.83    0.83    0.83    0.88    1.00  \n",
       "729   0.78   0.88   1.00    0.94    0.83    0.83    0.83    0.88  \n",
       "\n",
       "[716 rows x 25 columns]"
      ]
     },
     "execution_count": 93,
     "metadata": {},
     "output_type": "execute_result"
    }
   ],
   "source": [
    "new_df = data_df.drop(index=list(range(k)))\n",
    "new_df"
   ]
  },
  {
   "cell_type": "code",
   "execution_count": 94,
   "metadata": {},
   "outputs": [
    {
     "data": {
      "text/plain": [
       "15     0.78\n",
       "16     0.83\n",
       "17     0.88\n",
       "18     0.88\n",
       "19     1.00\n",
       "       ... \n",
       "725    0.94\n",
       "726    1.00\n",
       "727    0.83\n",
       "728    0.88\n",
       "729    0.94\n",
       "Name: humidity, Length: 715, dtype: float64"
      ]
     },
     "execution_count": 94,
     "metadata": {},
     "output_type": "execute_result"
    }
   ],
   "source": [
    "y_data_7 = new_df[\"humidity\"].copy()\n",
    "y_data_7 = y_data_7[1:]\n",
    "y_data_7"
   ]
  },
  {
   "cell_type": "code",
   "execution_count": 95,
   "metadata": {},
   "outputs": [
    {
     "data": {
      "text/html": [
       "<div>\n",
       "<style scoped>\n",
       "    .dataframe tbody tr th:only-of-type {\n",
       "        vertical-align: middle;\n",
       "    }\n",
       "\n",
       "    .dataframe tbody tr th {\n",
       "        vertical-align: top;\n",
       "    }\n",
       "\n",
       "    .dataframe thead th {\n",
       "        text-align: right;\n",
       "    }\n",
       "</style>\n",
       "<table border=\"1\" class=\"dataframe\">\n",
       "  <thead>\n",
       "    <tr style=\"text-align: right;\">\n",
       "      <th></th>\n",
       "      <th>time</th>\n",
       "      <th>temperature</th>\n",
       "      <th>apparentTemperature</th>\n",
       "      <th>dewPoint</th>\n",
       "      <th>humidity</th>\n",
       "      <th>pressure</th>\n",
       "      <th>windSpeed</th>\n",
       "      <th>windBearing</th>\n",
       "      <th>cloudCover</th>\n",
       "      <th>uvIndex</th>\n",
       "      <th>...</th>\n",
       "      <th>day_5</th>\n",
       "      <th>day_6</th>\n",
       "      <th>day_7</th>\n",
       "      <th>day_8</th>\n",
       "      <th>day_9</th>\n",
       "      <th>day_10</th>\n",
       "      <th>day_11</th>\n",
       "      <th>day_12</th>\n",
       "      <th>day_13</th>\n",
       "      <th>day_14</th>\n",
       "    </tr>\n",
       "  </thead>\n",
       "  <tbody>\n",
       "    <tr>\n",
       "      <th>14</th>\n",
       "      <td>1263513600</td>\n",
       "      <td>66.27</td>\n",
       "      <td>67.29</td>\n",
       "      <td>66.21</td>\n",
       "      <td>1.00</td>\n",
       "      <td>1016.1</td>\n",
       "      <td>3.46</td>\n",
       "      <td>320.0</td>\n",
       "      <td>0.44</td>\n",
       "      <td>0.0</td>\n",
       "      <td>...</td>\n",
       "      <td>0.88</td>\n",
       "      <td>1.00</td>\n",
       "      <td>1.00</td>\n",
       "      <td>0.94</td>\n",
       "      <td>0.88</td>\n",
       "      <td>0.94</td>\n",
       "      <td>0.88</td>\n",
       "      <td>0.94</td>\n",
       "      <td>0.94</td>\n",
       "      <td>0.97</td>\n",
       "    </tr>\n",
       "    <tr>\n",
       "      <th>15</th>\n",
       "      <td>1263600000</td>\n",
       "      <td>69.87</td>\n",
       "      <td>70.21</td>\n",
       "      <td>62.59</td>\n",
       "      <td>0.78</td>\n",
       "      <td>1015.6</td>\n",
       "      <td>5.74</td>\n",
       "      <td>11.0</td>\n",
       "      <td>0.75</td>\n",
       "      <td>0.0</td>\n",
       "      <td>...</td>\n",
       "      <td>0.94</td>\n",
       "      <td>0.88</td>\n",
       "      <td>1.00</td>\n",
       "      <td>1.00</td>\n",
       "      <td>0.94</td>\n",
       "      <td>0.88</td>\n",
       "      <td>0.94</td>\n",
       "      <td>0.88</td>\n",
       "      <td>0.94</td>\n",
       "      <td>0.94</td>\n",
       "    </tr>\n",
       "    <tr>\n",
       "      <th>16</th>\n",
       "      <td>1263686400</td>\n",
       "      <td>69.87</td>\n",
       "      <td>70.45</td>\n",
       "      <td>64.40</td>\n",
       "      <td>0.83</td>\n",
       "      <td>1015.6</td>\n",
       "      <td>6.72</td>\n",
       "      <td>NaN</td>\n",
       "      <td>0.44</td>\n",
       "      <td>0.0</td>\n",
       "      <td>...</td>\n",
       "      <td>1.00</td>\n",
       "      <td>0.94</td>\n",
       "      <td>0.88</td>\n",
       "      <td>1.00</td>\n",
       "      <td>1.00</td>\n",
       "      <td>0.94</td>\n",
       "      <td>0.88</td>\n",
       "      <td>0.94</td>\n",
       "      <td>0.88</td>\n",
       "      <td>0.94</td>\n",
       "    </tr>\n",
       "    <tr>\n",
       "      <th>17</th>\n",
       "      <td>1263772800</td>\n",
       "      <td>69.87</td>\n",
       "      <td>70.70</td>\n",
       "      <td>66.21</td>\n",
       "      <td>0.88</td>\n",
       "      <td>1014.1</td>\n",
       "      <td>2.29</td>\n",
       "      <td>300.0</td>\n",
       "      <td>0.75</td>\n",
       "      <td>0.0</td>\n",
       "      <td>...</td>\n",
       "      <td>1.00</td>\n",
       "      <td>1.00</td>\n",
       "      <td>0.94</td>\n",
       "      <td>0.88</td>\n",
       "      <td>1.00</td>\n",
       "      <td>1.00</td>\n",
       "      <td>0.94</td>\n",
       "      <td>0.88</td>\n",
       "      <td>0.94</td>\n",
       "      <td>0.88</td>\n",
       "    </tr>\n",
       "    <tr>\n",
       "      <th>18</th>\n",
       "      <td>1263859200</td>\n",
       "      <td>73.45</td>\n",
       "      <td>74.65</td>\n",
       "      <td>69.81</td>\n",
       "      <td>0.88</td>\n",
       "      <td>1012.0</td>\n",
       "      <td>4.61</td>\n",
       "      <td>350.0</td>\n",
       "      <td>0.75</td>\n",
       "      <td>0.0</td>\n",
       "      <td>...</td>\n",
       "      <td>0.94</td>\n",
       "      <td>1.00</td>\n",
       "      <td>1.00</td>\n",
       "      <td>0.94</td>\n",
       "      <td>0.88</td>\n",
       "      <td>1.00</td>\n",
       "      <td>1.00</td>\n",
       "      <td>0.94</td>\n",
       "      <td>0.88</td>\n",
       "      <td>0.94</td>\n",
       "    </tr>\n",
       "    <tr>\n",
       "      <th>...</th>\n",
       "      <td>...</td>\n",
       "      <td>...</td>\n",
       "      <td>...</td>\n",
       "      <td>...</td>\n",
       "      <td>...</td>\n",
       "      <td>...</td>\n",
       "      <td>...</td>\n",
       "      <td>...</td>\n",
       "      <td>...</td>\n",
       "      <td>...</td>\n",
       "      <td>...</td>\n",
       "      <td>...</td>\n",
       "      <td>...</td>\n",
       "      <td>...</td>\n",
       "      <td>...</td>\n",
       "      <td>...</td>\n",
       "      <td>...</td>\n",
       "      <td>...</td>\n",
       "      <td>...</td>\n",
       "      <td>...</td>\n",
       "      <td>...</td>\n",
       "    </tr>\n",
       "    <tr>\n",
       "      <th>724</th>\n",
       "      <td>1324857600</td>\n",
       "      <td>66.27</td>\n",
       "      <td>66.48</td>\n",
       "      <td>60.80</td>\n",
       "      <td>0.83</td>\n",
       "      <td>1013.5</td>\n",
       "      <td>5.74</td>\n",
       "      <td>350.0</td>\n",
       "      <td>0.44</td>\n",
       "      <td>0.0</td>\n",
       "      <td>...</td>\n",
       "      <td>0.94</td>\n",
       "      <td>0.83</td>\n",
       "      <td>0.83</td>\n",
       "      <td>0.83</td>\n",
       "      <td>0.88</td>\n",
       "      <td>1.00</td>\n",
       "      <td>1.00</td>\n",
       "      <td>0.94</td>\n",
       "      <td>0.78</td>\n",
       "      <td>0.83</td>\n",
       "    </tr>\n",
       "    <tr>\n",
       "      <th>725</th>\n",
       "      <td>1324944000</td>\n",
       "      <td>71.67</td>\n",
       "      <td>72.95</td>\n",
       "      <td>69.81</td>\n",
       "      <td>0.94</td>\n",
       "      <td>1012.0</td>\n",
       "      <td>4.61</td>\n",
       "      <td>0.0</td>\n",
       "      <td>0.75</td>\n",
       "      <td>0.0</td>\n",
       "      <td>...</td>\n",
       "      <td>1.00</td>\n",
       "      <td>0.94</td>\n",
       "      <td>0.83</td>\n",
       "      <td>0.83</td>\n",
       "      <td>0.83</td>\n",
       "      <td>0.88</td>\n",
       "      <td>1.00</td>\n",
       "      <td>1.00</td>\n",
       "      <td>0.94</td>\n",
       "      <td>0.78</td>\n",
       "    </tr>\n",
       "    <tr>\n",
       "      <th>726</th>\n",
       "      <td>1325030400</td>\n",
       "      <td>73.45</td>\n",
       "      <td>75.18</td>\n",
       "      <td>73.39</td>\n",
       "      <td>1.00</td>\n",
       "      <td>1013.7</td>\n",
       "      <td>4.61</td>\n",
       "      <td>11.0</td>\n",
       "      <td>0.75</td>\n",
       "      <td>0.0</td>\n",
       "      <td>...</td>\n",
       "      <td>0.88</td>\n",
       "      <td>1.00</td>\n",
       "      <td>0.94</td>\n",
       "      <td>0.83</td>\n",
       "      <td>0.83</td>\n",
       "      <td>0.83</td>\n",
       "      <td>0.88</td>\n",
       "      <td>1.00</td>\n",
       "      <td>1.00</td>\n",
       "      <td>0.94</td>\n",
       "    </tr>\n",
       "    <tr>\n",
       "      <th>727</th>\n",
       "      <td>1325116800</td>\n",
       "      <td>71.67</td>\n",
       "      <td>72.44</td>\n",
       "      <td>66.21</td>\n",
       "      <td>0.83</td>\n",
       "      <td>1012.8</td>\n",
       "      <td>2.29</td>\n",
       "      <td>11.0</td>\n",
       "      <td>0.44</td>\n",
       "      <td>0.0</td>\n",
       "      <td>...</td>\n",
       "      <td>0.78</td>\n",
       "      <td>0.88</td>\n",
       "      <td>1.00</td>\n",
       "      <td>0.94</td>\n",
       "      <td>0.83</td>\n",
       "      <td>0.83</td>\n",
       "      <td>0.83</td>\n",
       "      <td>0.88</td>\n",
       "      <td>1.00</td>\n",
       "      <td>1.00</td>\n",
       "    </tr>\n",
       "    <tr>\n",
       "      <th>728</th>\n",
       "      <td>1325203200</td>\n",
       "      <td>73.45</td>\n",
       "      <td>74.65</td>\n",
       "      <td>69.81</td>\n",
       "      <td>0.88</td>\n",
       "      <td>1012.4</td>\n",
       "      <td>4.61</td>\n",
       "      <td>0.0</td>\n",
       "      <td>0.44</td>\n",
       "      <td>0.0</td>\n",
       "      <td>...</td>\n",
       "      <td>0.83</td>\n",
       "      <td>0.78</td>\n",
       "      <td>0.88</td>\n",
       "      <td>1.00</td>\n",
       "      <td>0.94</td>\n",
       "      <td>0.83</td>\n",
       "      <td>0.83</td>\n",
       "      <td>0.83</td>\n",
       "      <td>0.88</td>\n",
       "      <td>1.00</td>\n",
       "    </tr>\n",
       "  </tbody>\n",
       "</table>\n",
       "<p>715 rows × 25 columns</p>\n",
       "</div>"
      ],
      "text/plain": [
       "           time  temperature  apparentTemperature  dewPoint  humidity  \\\n",
       "14   1263513600        66.27                67.29     66.21      1.00   \n",
       "15   1263600000        69.87                70.21     62.59      0.78   \n",
       "16   1263686400        69.87                70.45     64.40      0.83   \n",
       "17   1263772800        69.87                70.70     66.21      0.88   \n",
       "18   1263859200        73.45                74.65     69.81      0.88   \n",
       "..          ...          ...                  ...       ...       ...   \n",
       "724  1324857600        66.27                66.48     60.80      0.83   \n",
       "725  1324944000        71.67                72.95     69.81      0.94   \n",
       "726  1325030400        73.45                75.18     73.39      1.00   \n",
       "727  1325116800        71.67                72.44     66.21      0.83   \n",
       "728  1325203200        73.45                74.65     69.81      0.88   \n",
       "\n",
       "     pressure  windSpeed  windBearing  cloudCover  uvIndex  ...  day_5  day_6  \\\n",
       "14     1016.1       3.46        320.0        0.44      0.0  ...   0.88   1.00   \n",
       "15     1015.6       5.74         11.0        0.75      0.0  ...   0.94   0.88   \n",
       "16     1015.6       6.72          NaN        0.44      0.0  ...   1.00   0.94   \n",
       "17     1014.1       2.29        300.0        0.75      0.0  ...   1.00   1.00   \n",
       "18     1012.0       4.61        350.0        0.75      0.0  ...   0.94   1.00   \n",
       "..        ...        ...          ...         ...      ...  ...    ...    ...   \n",
       "724    1013.5       5.74        350.0        0.44      0.0  ...   0.94   0.83   \n",
       "725    1012.0       4.61          0.0        0.75      0.0  ...   1.00   0.94   \n",
       "726    1013.7       4.61         11.0        0.75      0.0  ...   0.88   1.00   \n",
       "727    1012.8       2.29         11.0        0.44      0.0  ...   0.78   0.88   \n",
       "728    1012.4       4.61          0.0        0.44      0.0  ...   0.83   0.78   \n",
       "\n",
       "     day_7  day_8  day_9  day_10  day_11  day_12  day_13  day_14  \n",
       "14    1.00   0.94   0.88    0.94    0.88    0.94    0.94    0.97  \n",
       "15    1.00   1.00   0.94    0.88    0.94    0.88    0.94    0.94  \n",
       "16    0.88   1.00   1.00    0.94    0.88    0.94    0.88    0.94  \n",
       "17    0.94   0.88   1.00    1.00    0.94    0.88    0.94    0.88  \n",
       "18    1.00   0.94   0.88    1.00    1.00    0.94    0.88    0.94  \n",
       "..     ...    ...    ...     ...     ...     ...     ...     ...  \n",
       "724   0.83   0.83   0.88    1.00    1.00    0.94    0.78    0.83  \n",
       "725   0.83   0.83   0.83    0.88    1.00    1.00    0.94    0.78  \n",
       "726   0.94   0.83   0.83    0.83    0.88    1.00    1.00    0.94  \n",
       "727   1.00   0.94   0.83    0.83    0.83    0.88    1.00    1.00  \n",
       "728   0.88   1.00   0.94    0.83    0.83    0.83    0.88    1.00  \n",
       "\n",
       "[715 rows x 25 columns]"
      ]
     },
     "execution_count": 95,
     "metadata": {},
     "output_type": "execute_result"
    }
   ],
   "source": [
    "new_df = new_df.drop(index=729)\n",
    "new_df"
   ]
  },
  {
   "cell_type": "code",
   "execution_count": 96,
   "metadata": {},
   "outputs": [
    {
     "data": {
      "text/plain": [
       "15     0.78\n",
       "16     0.83\n",
       "17     0.88\n",
       "18     0.88\n",
       "19     1.00\n",
       "       ... \n",
       "725    0.94\n",
       "726    1.00\n",
       "727    0.83\n",
       "728    0.88\n",
       "729    0.94\n",
       "Name: humidity, Length: 715, dtype: float64"
      ]
     },
     "execution_count": 96,
     "metadata": {},
     "output_type": "execute_result"
    }
   ],
   "source": [
    "y_data_7"
   ]
  },
  {
   "cell_type": "code",
   "execution_count": 97,
   "metadata": {},
   "outputs": [
    {
     "name": "stdout",
     "output_type": "stream",
     "text": [
      "429 429\n",
      "143 143\n",
      "143 143\n"
     ]
    }
   ],
   "source": [
    "X_data_temp, X_data_val_7, y_data_temp, y_data_val_7 = train_test_split(new_df, y_data_7, test_size=0.2, random_state=0)\n",
    "X_data_train_7, X_data_test_7, y_data_train_7, y_data_test_7= train_test_split(X_data_temp, y_data_temp, test_size=0.25, random_state=0)\n",
    "print(len(X_data_train_7), len(y_data_train_7))\n",
    "print(len(X_data_val_7), len(y_data_val_7))\n",
    "print(len(X_data_test_7), len(y_data_test_7))"
   ]
  },
  {
   "cell_type": "code",
   "execution_count": 98,
   "metadata": {},
   "outputs": [],
   "source": [
    "class CAD(BaseEstimator, TransformerMixin):\n",
    "    def __init__(self, numDay=7):\n",
    "        self.numDay = numDay\n",
    "    def fit(self, X_df, y=None):\n",
    "        return self\n",
    "    def transform(self, X_df, y=None):\n",
    "        tp = X_df.copy()\n",
    "        days = [\"humidity\"]\n",
    "        for i in range(self.numDay):\n",
    "            days.append('day_' + str(i + 1))\n",
    "        tp = tp[days]\n",
    "        return tp"
   ]
  },
  {
   "cell_type": "code",
   "execution_count": 99,
   "metadata": {},
   "outputs": [
    {
     "data": {
      "text/html": [
       "<div>\n",
       "<style scoped>\n",
       "    .dataframe tbody tr th:only-of-type {\n",
       "        vertical-align: middle;\n",
       "    }\n",
       "\n",
       "    .dataframe tbody tr th {\n",
       "        vertical-align: top;\n",
       "    }\n",
       "\n",
       "    .dataframe thead th {\n",
       "        text-align: right;\n",
       "    }\n",
       "</style>\n",
       "<table border=\"1\" class=\"dataframe\">\n",
       "  <thead>\n",
       "    <tr style=\"text-align: right;\">\n",
       "      <th></th>\n",
       "      <th>humidity</th>\n",
       "      <th>day_1</th>\n",
       "      <th>day_2</th>\n",
       "      <th>day_3</th>\n",
       "      <th>day_4</th>\n",
       "      <th>day_5</th>\n",
       "      <th>day_6</th>\n",
       "      <th>day_7</th>\n",
       "      <th>day_8</th>\n",
       "      <th>day_9</th>\n",
       "    </tr>\n",
       "  </thead>\n",
       "  <tbody>\n",
       "    <tr>\n",
       "      <th>172</th>\n",
       "      <td>0.89</td>\n",
       "      <td>1.00</td>\n",
       "      <td>1.00</td>\n",
       "      <td>0.89</td>\n",
       "      <td>1.00</td>\n",
       "      <td>0.89</td>\n",
       "      <td>1.00</td>\n",
       "      <td>1.00</td>\n",
       "      <td>0.79</td>\n",
       "      <td>0.94</td>\n",
       "    </tr>\n",
       "    <tr>\n",
       "      <th>232</th>\n",
       "      <td>1.00</td>\n",
       "      <td>1.00</td>\n",
       "      <td>0.94</td>\n",
       "      <td>0.94</td>\n",
       "      <td>1.00</td>\n",
       "      <td>1.00</td>\n",
       "      <td>1.00</td>\n",
       "      <td>1.00</td>\n",
       "      <td>1.00</td>\n",
       "      <td>1.00</td>\n",
       "    </tr>\n",
       "    <tr>\n",
       "      <th>314</th>\n",
       "      <td>1.00</td>\n",
       "      <td>0.94</td>\n",
       "      <td>1.00</td>\n",
       "      <td>1.00</td>\n",
       "      <td>1.00</td>\n",
       "      <td>1.00</td>\n",
       "      <td>0.94</td>\n",
       "      <td>0.88</td>\n",
       "      <td>1.00</td>\n",
       "      <td>1.00</td>\n",
       "    </tr>\n",
       "    <tr>\n",
       "      <th>508</th>\n",
       "      <td>0.84</td>\n",
       "      <td>0.84</td>\n",
       "      <td>0.89</td>\n",
       "      <td>0.94</td>\n",
       "      <td>0.89</td>\n",
       "      <td>0.89</td>\n",
       "      <td>1.00</td>\n",
       "      <td>1.00</td>\n",
       "      <td>0.94</td>\n",
       "      <td>0.89</td>\n",
       "    </tr>\n",
       "    <tr>\n",
       "      <th>113</th>\n",
       "      <td>0.74</td>\n",
       "      <td>0.84</td>\n",
       "      <td>0.79</td>\n",
       "      <td>0.89</td>\n",
       "      <td>0.79</td>\n",
       "      <td>0.79</td>\n",
       "      <td>0.79</td>\n",
       "      <td>0.74</td>\n",
       "      <td>0.79</td>\n",
       "      <td>0.74</td>\n",
       "    </tr>\n",
       "    <tr>\n",
       "      <th>...</th>\n",
       "      <td>...</td>\n",
       "      <td>...</td>\n",
       "      <td>...</td>\n",
       "      <td>...</td>\n",
       "      <td>...</td>\n",
       "      <td>...</td>\n",
       "      <td>...</td>\n",
       "      <td>...</td>\n",
       "      <td>...</td>\n",
       "      <td>...</td>\n",
       "    </tr>\n",
       "    <tr>\n",
       "      <th>295</th>\n",
       "      <td>0.94</td>\n",
       "      <td>1.00</td>\n",
       "      <td>1.00</td>\n",
       "      <td>1.00</td>\n",
       "      <td>1.00</td>\n",
       "      <td>1.00</td>\n",
       "      <td>0.89</td>\n",
       "      <td>0.89</td>\n",
       "      <td>1.00</td>\n",
       "      <td>1.00</td>\n",
       "    </tr>\n",
       "    <tr>\n",
       "      <th>265</th>\n",
       "      <td>0.94</td>\n",
       "      <td>0.89</td>\n",
       "      <td>0.94</td>\n",
       "      <td>1.00</td>\n",
       "      <td>1.00</td>\n",
       "      <td>1.00</td>\n",
       "      <td>1.00</td>\n",
       "      <td>1.00</td>\n",
       "      <td>1.00</td>\n",
       "      <td>1.00</td>\n",
       "    </tr>\n",
       "    <tr>\n",
       "      <th>182</th>\n",
       "      <td>1.00</td>\n",
       "      <td>0.94</td>\n",
       "      <td>0.89</td>\n",
       "      <td>1.00</td>\n",
       "      <td>1.00</td>\n",
       "      <td>1.00</td>\n",
       "      <td>0.94</td>\n",
       "      <td>0.89</td>\n",
       "      <td>0.94</td>\n",
       "      <td>0.94</td>\n",
       "    </tr>\n",
       "    <tr>\n",
       "      <th>273</th>\n",
       "      <td>1.00</td>\n",
       "      <td>1.00</td>\n",
       "      <td>1.00</td>\n",
       "      <td>0.89</td>\n",
       "      <td>1.00</td>\n",
       "      <td>1.00</td>\n",
       "      <td>0.94</td>\n",
       "      <td>0.94</td>\n",
       "      <td>0.94</td>\n",
       "      <td>0.89</td>\n",
       "    </tr>\n",
       "    <tr>\n",
       "      <th>410</th>\n",
       "      <td>0.83</td>\n",
       "      <td>0.88</td>\n",
       "      <td>0.94</td>\n",
       "      <td>0.88</td>\n",
       "      <td>1.00</td>\n",
       "      <td>0.94</td>\n",
       "      <td>1.00</td>\n",
       "      <td>1.00</td>\n",
       "      <td>1.00</td>\n",
       "      <td>0.88</td>\n",
       "    </tr>\n",
       "  </tbody>\n",
       "</table>\n",
       "<p>429 rows × 10 columns</p>\n",
       "</div>"
      ],
      "text/plain": [
       "     humidity  day_1  day_2  day_3  day_4  day_5  day_6  day_7  day_8  day_9\n",
       "172      0.89   1.00   1.00   0.89   1.00   0.89   1.00   1.00   0.79   0.94\n",
       "232      1.00   1.00   0.94   0.94   1.00   1.00   1.00   1.00   1.00   1.00\n",
       "314      1.00   0.94   1.00   1.00   1.00   1.00   0.94   0.88   1.00   1.00\n",
       "508      0.84   0.84   0.89   0.94   0.89   0.89   1.00   1.00   0.94   0.89\n",
       "113      0.74   0.84   0.79   0.89   0.79   0.79   0.79   0.74   0.79   0.74\n",
       "..        ...    ...    ...    ...    ...    ...    ...    ...    ...    ...\n",
       "295      0.94   1.00   1.00   1.00   1.00   1.00   0.89   0.89   1.00   1.00\n",
       "265      0.94   0.89   0.94   1.00   1.00   1.00   1.00   1.00   1.00   1.00\n",
       "182      1.00   0.94   0.89   1.00   1.00   1.00   0.94   0.89   0.94   0.94\n",
       "273      1.00   1.00   1.00   0.89   1.00   1.00   0.94   0.94   0.94   0.89\n",
       "410      0.83   0.88   0.94   0.88   1.00   0.94   1.00   1.00   1.00   0.88\n",
       "\n",
       "[429 rows x 10 columns]"
      ]
     },
     "execution_count": 99,
     "metadata": {},
     "output_type": "execute_result"
    }
   ],
   "source": [
    "cad = CAD(9)\n",
    "cad.transform(X_data_train_7)"
   ]
  },
  {
   "cell_type": "code",
   "execution_count": 100,
   "metadata": {},
   "outputs": [
    {
     "data": {
      "text/plain": [
       "173    0.94\n",
       "233    1.00\n",
       "315    1.00\n",
       "509    0.89\n",
       "114    0.74\n",
       "       ... \n",
       "296    1.00\n",
       "266    0.94\n",
       "183    1.00\n",
       "274    1.00\n",
       "411    0.88\n",
       "Name: humidity, Length: 429, dtype: float64"
      ]
     },
     "execution_count": 100,
     "metadata": {},
     "output_type": "execute_result"
    }
   ],
   "source": [
    "y_data_train_7"
   ]
  },
  {
   "cell_type": "code",
   "execution_count": 101,
   "metadata": {},
   "outputs": [],
   "source": [
    "method_7 = Pipeline(\n",
    "    steps=[\n",
    "        ('pre', FinalPreprocessing()),\n",
    "        ('CAD', CAD()),\n",
    "        ('stdScalar', StandardScaler()),\n",
    "        ('linear', LinearRegression())\n",
    "    ]\n",
    ")"
   ]
  },
  {
   "cell_type": "code",
   "execution_count": 102,
   "metadata": {},
   "outputs": [
    {
     "data": {
      "text/plain": [
       "'Finish'"
      ]
     },
     "execution_count": 102,
     "metadata": {},
     "output_type": "execute_result"
    }
   ],
   "source": [
    "numDays = list(range(1, k + 1))\n",
    "train_errs = []\n",
    "val_errs = []\n",
    "best_val_err = float('inf')\n",
    "best_day = None\n",
    "for i in numDays:\n",
    "    method_7.set_params(CAD__numDay=i)\n",
    "    model = method_7.fit(X_data_train_7, y_data_train_7)\n",
    "    train_errs.append(mean_absolute_error(y_data_train_7, model.predict(X_data_train_7)))\n",
    "    val_err = mean_absolute_error(y_data_val_7, model.predict(X_data_val_7))\n",
    "    val_errs.append(val_err)\n",
    "    if val_err < best_val_err:\n",
    "        best_val_err = val_err\n",
    "        best_day = i\n",
    "\"Finish\""
   ]
  },
  {
   "cell_type": "code",
   "execution_count": 103,
   "metadata": {},
   "outputs": [
    {
     "name": "stdout",
     "output_type": "stream",
     "text": [
      "0.04561496429167029\n",
      "7\n"
     ]
    }
   ],
   "source": [
    "print(best_val_err)\n",
    "print(best_day)"
   ]
  },
  {
   "cell_type": "code",
   "execution_count": 104,
   "metadata": {},
   "outputs": [
    {
     "data": {
      "text/plain": [
       "Text(0.5, 0, 'Number of day before')"
      ]
     },
     "execution_count": 104,
     "metadata": {},
     "output_type": "execute_result"
    },
    {
     "data": {
      "image/png": "[encoded data removed]",
      "text/plain": [
       "<Figure size 432x288 with 1 Axes>"
      ]
     },
     "metadata": {},
     "output_type": "display_data"
    }
   ],
   "source": [
    "# Trực quan hóa kết quả\n",
    "plt.plot(numDays, train_errs)\n",
    "plt.ylabel(\"Train Error\")\n",
    "plt.xlabel(\"Number of day before\")"
   ]
  },
  {
   "cell_type": "code",
   "execution_count": 105,
   "metadata": {},
   "outputs": [
    {
     "data": {
      "text/plain": [
       "Text(0.5, 0, 'Number of day before')"
      ]
     },
     "execution_count": 105,
     "metadata": {},
     "output_type": "execute_result"
    },
    {
     "data": {
      "image/png": "[encoded data removed]",
      "text/plain": [
       "<Figure size 432x288 with 1 Axes>"
      ]
     },
     "metadata": {},
     "output_type": "display_data"
    }
   ],
   "source": [
    "plt.plot(numDays, val_errs)\n",
    "plt.ylabel(\"Val Error\")\n",
    "plt.xlabel(\"Number of day before\")"
   ]
  },
  {
   "cell_type": "markdown",
   "metadata": {},
   "source": [
    "**Nhận xét**  \n",
    "Với phương pháp này thì độ lỗi trên tập validation giảm so với các phương pháp trước **0.045**"
   ]
  },
  {
   "cell_type": "markdown",
   "metadata": {},
   "source": [
    "## 6. Tổng kết\n",
    "\n",
    "Nhóm sẽ chọn phương pháp số 7 để dự đoán. Nhóm tiến hành train lại trên tập `X_data_train_7` và `X_data_val_7`, chính là tập `X_data_temp`. Sau đó, nhóm sẽ tiến hành chấm điểm trên tập `X_data_val_7`"
   ]
  },
  {
   "cell_type": "code",
   "execution_count": 106,
   "metadata": {},
   "outputs": [
    {
     "data": {
      "text/plain": [
       "Pipeline(memory=None,\n",
       "         steps=[('pre', FinalPreprocessing()), ('CAD', CAD(numDay=14)),\n",
       "                ('stdScalar',\n",
       "                 StandardScaler(copy=True, with_mean=True, with_std=True)),\n",
       "                ('linear',\n",
       "                 LinearRegression(copy_X=True, fit_intercept=True, n_jobs=None,\n",
       "                                  normalize=False))],\n",
       "         verbose=False)"
      ]
     },
     "execution_count": 106,
     "metadata": {},
     "output_type": "execute_result"
    }
   ],
   "source": [
    "method_7"
   ]
  },
  {
   "cell_type": "code",
   "execution_count": 107,
   "metadata": {},
   "outputs": [
    {
     "data": {
      "text/html": [
       "<div>\n",
       "<style scoped>\n",
       "    .dataframe tbody tr th:only-of-type {\n",
       "        vertical-align: middle;\n",
       "    }\n",
       "\n",
       "    .dataframe tbody tr th {\n",
       "        vertical-align: top;\n",
       "    }\n",
       "\n",
       "    .dataframe thead th {\n",
       "        text-align: right;\n",
       "    }\n",
       "</style>\n",
       "<table border=\"1\" class=\"dataframe\">\n",
       "  <thead>\n",
       "    <tr style=\"text-align: right;\">\n",
       "      <th></th>\n",
       "      <th>time</th>\n",
       "      <th>temperature</th>\n",
       "      <th>apparentTemperature</th>\n",
       "      <th>dewPoint</th>\n",
       "      <th>humidity</th>\n",
       "      <th>pressure</th>\n",
       "      <th>windSpeed</th>\n",
       "      <th>windBearing</th>\n",
       "      <th>cloudCover</th>\n",
       "      <th>uvIndex</th>\n",
       "      <th>...</th>\n",
       "      <th>day_5</th>\n",
       "      <th>day_6</th>\n",
       "      <th>day_7</th>\n",
       "      <th>day_8</th>\n",
       "      <th>day_9</th>\n",
       "      <th>day_10</th>\n",
       "      <th>day_11</th>\n",
       "      <th>day_12</th>\n",
       "      <th>day_13</th>\n",
       "      <th>day_14</th>\n",
       "    </tr>\n",
       "  </thead>\n",
       "  <tbody>\n",
       "    <tr>\n",
       "      <th>324</th>\n",
       "      <td>1290297600</td>\n",
       "      <td>73.45</td>\n",
       "      <td>75.18</td>\n",
       "      <td>73.39</td>\n",
       "      <td>1.00</td>\n",
       "      <td>1008.1</td>\n",
       "      <td>2.29</td>\n",
       "      <td>320.0</td>\n",
       "      <td>0.44</td>\n",
       "      <td>0.0</td>\n",
       "      <td>...</td>\n",
       "      <td>1.00</td>\n",
       "      <td>1.00</td>\n",
       "      <td>0.94</td>\n",
       "      <td>0.94</td>\n",
       "      <td>1.00</td>\n",
       "      <td>1.00</td>\n",
       "      <td>0.94</td>\n",
       "      <td>1.00</td>\n",
       "      <td>1.00</td>\n",
       "      <td>1.00</td>\n",
       "    </tr>\n",
       "    <tr>\n",
       "      <th>556</th>\n",
       "      <td>1310342400</td>\n",
       "      <td>78.88</td>\n",
       "      <td>82.55</td>\n",
       "      <td>75.19</td>\n",
       "      <td>0.89</td>\n",
       "      <td>1005.7</td>\n",
       "      <td>2.24</td>\n",
       "      <td>NaN</td>\n",
       "      <td>0.75</td>\n",
       "      <td>1.0</td>\n",
       "      <td>...</td>\n",
       "      <td>1.00</td>\n",
       "      <td>0.94</td>\n",
       "      <td>1.00</td>\n",
       "      <td>0.89</td>\n",
       "      <td>1.00</td>\n",
       "      <td>1.00</td>\n",
       "      <td>0.94</td>\n",
       "      <td>0.89</td>\n",
       "      <td>0.89</td>\n",
       "      <td>0.94</td>\n",
       "    </tr>\n",
       "    <tr>\n",
       "      <th>31</th>\n",
       "      <td>1264982400</td>\n",
       "      <td>71.67</td>\n",
       "      <td>73.23</td>\n",
       "      <td>71.61</td>\n",
       "      <td>1.00</td>\n",
       "      <td>1013.7</td>\n",
       "      <td>2.29</td>\n",
       "      <td>140.0</td>\n",
       "      <td>0.44</td>\n",
       "      <td>0.0</td>\n",
       "      <td>...</td>\n",
       "      <td>1.00</td>\n",
       "      <td>1.00</td>\n",
       "      <td>1.00</td>\n",
       "      <td>1.00</td>\n",
       "      <td>0.94</td>\n",
       "      <td>1.00</td>\n",
       "      <td>1.00</td>\n",
       "      <td>1.00</td>\n",
       "      <td>0.88</td>\n",
       "      <td>0.88</td>\n",
       "    </tr>\n",
       "    <tr>\n",
       "      <th>280</th>\n",
       "      <td>1286496000</td>\n",
       "      <td>77.06</td>\n",
       "      <td>78.88</td>\n",
       "      <td>75.19</td>\n",
       "      <td>0.94</td>\n",
       "      <td>1009.1</td>\n",
       "      <td>2.29</td>\n",
       "      <td>0.0</td>\n",
       "      <td>0.75</td>\n",
       "      <td>1.0</td>\n",
       "      <td>...</td>\n",
       "      <td>1.00</td>\n",
       "      <td>1.00</td>\n",
       "      <td>1.00</td>\n",
       "      <td>1.00</td>\n",
       "      <td>1.00</td>\n",
       "      <td>0.89</td>\n",
       "      <td>1.00</td>\n",
       "      <td>1.00</td>\n",
       "      <td>0.94</td>\n",
       "      <td>0.94</td>\n",
       "    </tr>\n",
       "    <tr>\n",
       "      <th>332</th>\n",
       "      <td>1290988800</td>\n",
       "      <td>75.25</td>\n",
       "      <td>77.17</td>\n",
       "      <td>75.19</td>\n",
       "      <td>1.00</td>\n",
       "      <td>1009.0</td>\n",
       "      <td>2.29</td>\n",
       "      <td>60.0</td>\n",
       "      <td>0.44</td>\n",
       "      <td>0.0</td>\n",
       "      <td>...</td>\n",
       "      <td>0.94</td>\n",
       "      <td>1.00</td>\n",
       "      <td>1.00</td>\n",
       "      <td>1.00</td>\n",
       "      <td>1.00</td>\n",
       "      <td>1.00</td>\n",
       "      <td>1.00</td>\n",
       "      <td>0.94</td>\n",
       "      <td>1.00</td>\n",
       "      <td>1.00</td>\n",
       "    </tr>\n",
       "    <tr>\n",
       "      <th>...</th>\n",
       "      <td>...</td>\n",
       "      <td>...</td>\n",
       "      <td>...</td>\n",
       "      <td>...</td>\n",
       "      <td>...</td>\n",
       "      <td>...</td>\n",
       "      <td>...</td>\n",
       "      <td>...</td>\n",
       "      <td>...</td>\n",
       "      <td>...</td>\n",
       "      <td>...</td>\n",
       "      <td>...</td>\n",
       "      <td>...</td>\n",
       "      <td>...</td>\n",
       "      <td>...</td>\n",
       "      <td>...</td>\n",
       "      <td>...</td>\n",
       "      <td>...</td>\n",
       "      <td>...</td>\n",
       "      <td>...</td>\n",
       "      <td>...</td>\n",
       "    </tr>\n",
       "    <tr>\n",
       "      <th>721</th>\n",
       "      <td>1324598400</td>\n",
       "      <td>75.25</td>\n",
       "      <td>76.64</td>\n",
       "      <td>71.61</td>\n",
       "      <td>0.88</td>\n",
       "      <td>1009.6</td>\n",
       "      <td>4.61</td>\n",
       "      <td>30.0</td>\n",
       "      <td>0.44</td>\n",
       "      <td>0.0</td>\n",
       "      <td>...</td>\n",
       "      <td>0.83</td>\n",
       "      <td>0.88</td>\n",
       "      <td>1.00</td>\n",
       "      <td>1.00</td>\n",
       "      <td>0.94</td>\n",
       "      <td>0.78</td>\n",
       "      <td>0.83</td>\n",
       "      <td>0.65</td>\n",
       "      <td>0.88</td>\n",
       "      <td>1.00</td>\n",
       "    </tr>\n",
       "    <tr>\n",
       "      <th>206</th>\n",
       "      <td>1280102400</td>\n",
       "      <td>75.25</td>\n",
       "      <td>77.17</td>\n",
       "      <td>75.19</td>\n",
       "      <td>1.00</td>\n",
       "      <td>1005.4</td>\n",
       "      <td>1.16</td>\n",
       "      <td>221.0</td>\n",
       "      <td>0.75</td>\n",
       "      <td>1.0</td>\n",
       "      <td>...</td>\n",
       "      <td>0.94</td>\n",
       "      <td>1.00</td>\n",
       "      <td>1.00</td>\n",
       "      <td>0.94</td>\n",
       "      <td>1.00</td>\n",
       "      <td>0.89</td>\n",
       "      <td>1.00</td>\n",
       "      <td>1.00</td>\n",
       "      <td>0.94</td>\n",
       "      <td>0.94</td>\n",
       "    </tr>\n",
       "    <tr>\n",
       "      <th>643</th>\n",
       "      <td>1317859200</td>\n",
       "      <td>77.06</td>\n",
       "      <td>79.15</td>\n",
       "      <td>76.99</td>\n",
       "      <td>1.00</td>\n",
       "      <td>1010.4</td>\n",
       "      <td>2.29</td>\n",
       "      <td>50.0</td>\n",
       "      <td>0.75</td>\n",
       "      <td>1.0</td>\n",
       "      <td>...</td>\n",
       "      <td>1.00</td>\n",
       "      <td>1.00</td>\n",
       "      <td>0.94</td>\n",
       "      <td>1.00</td>\n",
       "      <td>1.00</td>\n",
       "      <td>1.00</td>\n",
       "      <td>0.89</td>\n",
       "      <td>1.00</td>\n",
       "      <td>1.00</td>\n",
       "      <td>0.94</td>\n",
       "    </tr>\n",
       "    <tr>\n",
       "      <th>573</th>\n",
       "      <td>1311811200</td>\n",
       "      <td>75.25</td>\n",
       "      <td>77.17</td>\n",
       "      <td>75.19</td>\n",
       "      <td>1.00</td>\n",
       "      <td>1006.4</td>\n",
       "      <td>1.16</td>\n",
       "      <td>251.0</td>\n",
       "      <td>0.44</td>\n",
       "      <td>1.0</td>\n",
       "      <td>...</td>\n",
       "      <td>0.79</td>\n",
       "      <td>0.94</td>\n",
       "      <td>0.89</td>\n",
       "      <td>0.89</td>\n",
       "      <td>0.89</td>\n",
       "      <td>0.94</td>\n",
       "      <td>0.79</td>\n",
       "      <td>0.84</td>\n",
       "      <td>0.88</td>\n",
       "      <td>0.94</td>\n",
       "    </tr>\n",
       "    <tr>\n",
       "      <th>698</th>\n",
       "      <td>1322611200</td>\n",
       "      <td>75.25</td>\n",
       "      <td>77.17</td>\n",
       "      <td>75.19</td>\n",
       "      <td>1.00</td>\n",
       "      <td>1009.6</td>\n",
       "      <td>3.46</td>\n",
       "      <td>60.0</td>\n",
       "      <td>0.44</td>\n",
       "      <td>0.0</td>\n",
       "      <td>...</td>\n",
       "      <td>0.88</td>\n",
       "      <td>0.83</td>\n",
       "      <td>0.78</td>\n",
       "      <td>0.88</td>\n",
       "      <td>0.88</td>\n",
       "      <td>0.94</td>\n",
       "      <td>1.00</td>\n",
       "      <td>0.94</td>\n",
       "      <td>0.89</td>\n",
       "      <td>1.00</td>\n",
       "    </tr>\n",
       "  </tbody>\n",
       "</table>\n",
       "<p>572 rows × 25 columns</p>\n",
       "</div>"
      ],
      "text/plain": [
       "           time  temperature  apparentTemperature  dewPoint  humidity  \\\n",
       "324  1290297600        73.45                75.18     73.39      1.00   \n",
       "556  1310342400        78.88                82.55     75.19      0.89   \n",
       "31   1264982400        71.67                73.23     71.61      1.00   \n",
       "280  1286496000        77.06                78.88     75.19      0.94   \n",
       "332  1290988800        75.25                77.17     75.19      1.00   \n",
       "..          ...          ...                  ...       ...       ...   \n",
       "721  1324598400        75.25                76.64     71.61      0.88   \n",
       "206  1280102400        75.25                77.17     75.19      1.00   \n",
       "643  1317859200        77.06                79.15     76.99      1.00   \n",
       "573  1311811200        75.25                77.17     75.19      1.00   \n",
       "698  1322611200        75.25                77.17     75.19      1.00   \n",
       "\n",
       "     pressure  windSpeed  windBearing  cloudCover  uvIndex  ...  day_5  day_6  \\\n",
       "324    1008.1       2.29        320.0        0.44      0.0  ...   1.00   1.00   \n",
       "556    1005.7       2.24          NaN        0.75      1.0  ...   1.00   0.94   \n",
       "31     1013.7       2.29        140.0        0.44      0.0  ...   1.00   1.00   \n",
       "280    1009.1       2.29          0.0        0.75      1.0  ...   1.00   1.00   \n",
       "332    1009.0       2.29         60.0        0.44      0.0  ...   0.94   1.00   \n",
       "..        ...        ...          ...         ...      ...  ...    ...    ...   \n",
       "721    1009.6       4.61         30.0        0.44      0.0  ...   0.83   0.88   \n",
       "206    1005.4       1.16        221.0        0.75      1.0  ...   0.94   1.00   \n",
       "643    1010.4       2.29         50.0        0.75      1.0  ...   1.00   1.00   \n",
       "573    1006.4       1.16        251.0        0.44      1.0  ...   0.79   0.94   \n",
       "698    1009.6       3.46         60.0        0.44      0.0  ...   0.88   0.83   \n",
       "\n",
       "     day_7  day_8  day_9  day_10  day_11  day_12  day_13  day_14  \n",
       "324   0.94   0.94   1.00    1.00    0.94    1.00    1.00    1.00  \n",
       "556   1.00   0.89   1.00    1.00    0.94    0.89    0.89    0.94  \n",
       "31    1.00   1.00   0.94    1.00    1.00    1.00    0.88    0.88  \n",
       "280   1.00   1.00   1.00    0.89    1.00    1.00    0.94    0.94  \n",
       "332   1.00   1.00   1.00    1.00    1.00    0.94    1.00    1.00  \n",
       "..     ...    ...    ...     ...     ...     ...     ...     ...  \n",
       "721   1.00   1.00   0.94    0.78    0.83    0.65    0.88    1.00  \n",
       "206   1.00   0.94   1.00    0.89    1.00    1.00    0.94    0.94  \n",
       "643   0.94   1.00   1.00    1.00    0.89    1.00    1.00    0.94  \n",
       "573   0.89   0.89   0.89    0.94    0.79    0.84    0.88    0.94  \n",
       "698   0.78   0.88   0.88    0.94    1.00    0.94    0.89    1.00  \n",
       "\n",
       "[572 rows x 25 columns]"
      ]
     },
     "execution_count": 107,
     "metadata": {},
     "output_type": "execute_result"
    }
   ],
   "source": [
    "X_data_temp"
   ]
  },
  {
   "cell_type": "code",
   "execution_count": 108,
   "metadata": {},
   "outputs": [
    {
     "data": {
      "text/plain": [
       "325    1.00\n",
       "557    0.84\n",
       "32     0.94\n",
       "281    1.00\n",
       "333    1.00\n",
       "       ... \n",
       "722    0.78\n",
       "207    1.00\n",
       "644    1.00\n",
       "574    0.94\n",
       "699    1.00\n",
       "Name: humidity, Length: 572, dtype: float64"
      ]
     },
     "execution_count": 108,
     "metadata": {},
     "output_type": "execute_result"
    }
   ],
   "source": [
    "y_data_temp"
   ]
  },
  {
   "cell_type": "code",
   "execution_count": 109,
   "metadata": {},
   "outputs": [],
   "source": [
    "method_7.set_params(CAD__numDay=best_day)\n",
    "FinalModel = method_7.fit(X_data_temp, y_data_temp)"
   ]
  },
  {
   "cell_type": "code",
   "execution_count": 110,
   "metadata": {},
   "outputs": [
    {
     "data": {
      "text/html": [
       "<div>\n",
       "<style scoped>\n",
       "    .dataframe tbody tr th:only-of-type {\n",
       "        vertical-align: middle;\n",
       "    }\n",
       "\n",
       "    .dataframe tbody tr th {\n",
       "        vertical-align: top;\n",
       "    }\n",
       "\n",
       "    .dataframe thead th {\n",
       "        text-align: right;\n",
       "    }\n",
       "</style>\n",
       "<table border=\"1\" class=\"dataframe\">\n",
       "  <thead>\n",
       "    <tr style=\"text-align: right;\">\n",
       "      <th></th>\n",
       "      <th>time</th>\n",
       "      <th>temperature</th>\n",
       "      <th>apparentTemperature</th>\n",
       "      <th>dewPoint</th>\n",
       "      <th>humidity</th>\n",
       "      <th>pressure</th>\n",
       "      <th>windSpeed</th>\n",
       "      <th>windBearing</th>\n",
       "      <th>cloudCover</th>\n",
       "      <th>uvIndex</th>\n",
       "      <th>...</th>\n",
       "      <th>day_5</th>\n",
       "      <th>day_6</th>\n",
       "      <th>day_7</th>\n",
       "      <th>day_8</th>\n",
       "      <th>day_9</th>\n",
       "      <th>day_10</th>\n",
       "      <th>day_11</th>\n",
       "      <th>day_12</th>\n",
       "      <th>day_13</th>\n",
       "      <th>day_14</th>\n",
       "    </tr>\n",
       "  </thead>\n",
       "  <tbody>\n",
       "    <tr>\n",
       "      <th>353</th>\n",
       "      <td>1292803200</td>\n",
       "      <td>73.45</td>\n",
       "      <td>74.91</td>\n",
       "      <td>71.61</td>\n",
       "      <td>0.94</td>\n",
       "      <td>1010.1</td>\n",
       "      <td>0.00</td>\n",
       "      <td>NaN</td>\n",
       "      <td>0.44</td>\n",
       "      <td>0.0</td>\n",
       "      <td>...</td>\n",
       "      <td>1.00</td>\n",
       "      <td>0.94</td>\n",
       "      <td>0.94</td>\n",
       "      <td>0.95</td>\n",
       "      <td>1.00</td>\n",
       "      <td>1.00</td>\n",
       "      <td>0.78</td>\n",
       "      <td>0.83</td>\n",
       "      <td>0.94</td>\n",
       "      <td>1.00</td>\n",
       "    </tr>\n",
       "    <tr>\n",
       "      <th>156</th>\n",
       "      <td>1275782400</td>\n",
       "      <td>84.27</td>\n",
       "      <td>94.29</td>\n",
       "      <td>76.99</td>\n",
       "      <td>0.79</td>\n",
       "      <td>1008.3</td>\n",
       "      <td>4.48</td>\n",
       "      <td>NaN</td>\n",
       "      <td>0.19</td>\n",
       "      <td>1.0</td>\n",
       "      <td>...</td>\n",
       "      <td>0.84</td>\n",
       "      <td>0.84</td>\n",
       "      <td>0.79</td>\n",
       "      <td>0.94</td>\n",
       "      <td>0.79</td>\n",
       "      <td>0.84</td>\n",
       "      <td>0.84</td>\n",
       "      <td>0.85</td>\n",
       "      <td>0.84</td>\n",
       "      <td>0.86</td>\n",
       "    </tr>\n",
       "    <tr>\n",
       "      <th>257</th>\n",
       "      <td>1284508800</td>\n",
       "      <td>73.45</td>\n",
       "      <td>75.18</td>\n",
       "      <td>73.39</td>\n",
       "      <td>1.00</td>\n",
       "      <td>1009.5</td>\n",
       "      <td>2.29</td>\n",
       "      <td>60.0</td>\n",
       "      <td>0.44</td>\n",
       "      <td>1.0</td>\n",
       "      <td>...</td>\n",
       "      <td>1.00</td>\n",
       "      <td>0.89</td>\n",
       "      <td>1.00</td>\n",
       "      <td>1.00</td>\n",
       "      <td>0.89</td>\n",
       "      <td>0.89</td>\n",
       "      <td>1.00</td>\n",
       "      <td>0.94</td>\n",
       "      <td>0.94</td>\n",
       "      <td>0.94</td>\n",
       "    </tr>\n",
       "    <tr>\n",
       "      <th>250</th>\n",
       "      <td>1283904000</td>\n",
       "      <td>78.88</td>\n",
       "      <td>83.38</td>\n",
       "      <td>78.81</td>\n",
       "      <td>1.00</td>\n",
       "      <td>1008.4</td>\n",
       "      <td>3.46</td>\n",
       "      <td>350.0</td>\n",
       "      <td>0.44</td>\n",
       "      <td>1.0</td>\n",
       "      <td>...</td>\n",
       "      <td>0.94</td>\n",
       "      <td>0.94</td>\n",
       "      <td>0.94</td>\n",
       "      <td>1.00</td>\n",
       "      <td>1.00</td>\n",
       "      <td>1.00</td>\n",
       "      <td>1.00</td>\n",
       "      <td>1.00</td>\n",
       "      <td>0.94</td>\n",
       "      <td>1.00</td>\n",
       "    </tr>\n",
       "    <tr>\n",
       "      <th>727</th>\n",
       "      <td>1325116800</td>\n",
       "      <td>71.67</td>\n",
       "      <td>72.44</td>\n",
       "      <td>66.21</td>\n",
       "      <td>0.83</td>\n",
       "      <td>1012.8</td>\n",
       "      <td>2.29</td>\n",
       "      <td>11.0</td>\n",
       "      <td>0.44</td>\n",
       "      <td>0.0</td>\n",
       "      <td>...</td>\n",
       "      <td>0.78</td>\n",
       "      <td>0.88</td>\n",
       "      <td>1.00</td>\n",
       "      <td>0.94</td>\n",
       "      <td>0.83</td>\n",
       "      <td>0.83</td>\n",
       "      <td>0.83</td>\n",
       "      <td>0.88</td>\n",
       "      <td>1.00</td>\n",
       "      <td>1.00</td>\n",
       "    </tr>\n",
       "  </tbody>\n",
       "</table>\n",
       "<p>5 rows × 25 columns</p>\n",
       "</div>"
      ],
      "text/plain": [
       "           time  temperature  apparentTemperature  dewPoint  humidity  \\\n",
       "353  1292803200        73.45                74.91     71.61      0.94   \n",
       "156  1275782400        84.27                94.29     76.99      0.79   \n",
       "257  1284508800        73.45                75.18     73.39      1.00   \n",
       "250  1283904000        78.88                83.38     78.81      1.00   \n",
       "727  1325116800        71.67                72.44     66.21      0.83   \n",
       "\n",
       "     pressure  windSpeed  windBearing  cloudCover  uvIndex  ...  day_5  day_6  \\\n",
       "353    1010.1       0.00          NaN        0.44      0.0  ...   1.00   0.94   \n",
       "156    1008.3       4.48          NaN        0.19      1.0  ...   0.84   0.84   \n",
       "257    1009.5       2.29         60.0        0.44      1.0  ...   1.00   0.89   \n",
       "250    1008.4       3.46        350.0        0.44      1.0  ...   0.94   0.94   \n",
       "727    1012.8       2.29         11.0        0.44      0.0  ...   0.78   0.88   \n",
       "\n",
       "     day_7  day_8  day_9  day_10  day_11  day_12  day_13  day_14  \n",
       "353   0.94   0.95   1.00    1.00    0.78    0.83    0.94    1.00  \n",
       "156   0.79   0.94   0.79    0.84    0.84    0.85    0.84    0.86  \n",
       "257   1.00   1.00   0.89    0.89    1.00    0.94    0.94    0.94  \n",
       "250   0.94   1.00   1.00    1.00    1.00    1.00    0.94    1.00  \n",
       "727   1.00   0.94   0.83    0.83    0.83    0.88    1.00    1.00  \n",
       "\n",
       "[5 rows x 25 columns]"
      ]
     },
     "execution_count": 110,
     "metadata": {},
     "output_type": "execute_result"
    }
   ],
   "source": [
    "X_data_val_7.head()"
   ]
  },
  {
   "cell_type": "code",
   "execution_count": 111,
   "metadata": {},
   "outputs": [
    {
     "data": {
      "text/plain": [
       "354    0.94\n",
       "157    0.89\n",
       "258    1.00\n",
       "251    0.89\n",
       "728    0.88\n",
       "Name: humidity, dtype: float64"
      ]
     },
     "execution_count": 111,
     "metadata": {},
     "output_type": "execute_result"
    }
   ],
   "source": [
    "y_data_val_7.head()"
   ]
  },
  {
   "cell_type": "code",
   "execution_count": 112,
   "metadata": {},
   "outputs": [
    {
     "name": "stdout",
     "output_type": "stream",
     "text": [
      "Độ lỗi trên tập Validation là:  0.0451343215485642\n"
     ]
    }
   ],
   "source": [
    "y_pred_val = FinalModel.predict(X_data_val_7)\n",
    "print(\"Độ lỗi trên tập Validation là: \", mean_absolute_error(y_pred_val, y_data_val_7))"
   ]
  },
  {
   "cell_type": "code",
   "execution_count": 113,
   "metadata": {},
   "outputs": [
    {
     "data": {
      "image/png": "[encoded data removed]",
      "text/plain": [
       "<Figure size 432x288 with 1 Axes>"
      ]
     },
     "metadata": {},
     "output_type": "display_data"
    }
   ],
   "source": [
    "plt.title(\"Compare Prediction vs Actual\", fontsize=14)\n",
    "plt.plot(pd.Series(np.ravel(y_data_val_7)), \"bo\", markersize=10, label=\"Actual\")\n",
    "plt.plot(pd.Series(np.ravel(y_pred_val)), \"r.\", markersize=10, label=\"Forecast\")\n",
    "plt.legend(loc=\"upper left\")\n",
    "plt.xlabel(\"Time\")\n",
    "plt.show()"
   ]
  },
  {
   "cell_type": "code",
   "execution_count": null,
   "metadata": {},
   "outputs": [],
   "source": []
  }
 ],
 "metadata": {
  "file_extension": ".py",
  "kernelspec": {
   "display_name": "Python 3",
   "language": "python",
   "name": "python3"
  },
  "language_info": {
   "codemirror_mode": {
    "name": "ipython",
    "version": 3
   },
   "file_extension": ".py",
   "mimetype": "text/x-python",
   "name": "python",
   "nbconvert_exporter": "python",
   "pygments_lexer": "ipython3",
   "version": "3.7.4"
  },
  "mimetype": "text/x-python",
  "name": "python",
  "npconvert_exporter": "python",
  "pygments_lexer": "ipython3",
  "version": 3
 },
 "nbformat": 4,
 "nbformat_minor": 4
}
